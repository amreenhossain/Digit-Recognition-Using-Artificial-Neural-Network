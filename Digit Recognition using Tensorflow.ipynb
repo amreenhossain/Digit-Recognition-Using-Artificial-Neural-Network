{
  "nbformat": 4,
  "nbformat_minor": 0,
  "metadata": {
    "colab": {
      "provenance": []
    },
    "kernelspec": {
      "name": "python3",
      "display_name": "Python 3"
    },
    "language_info": {
      "name": "python"
    }
  },
  "cells": [
    {
      "cell_type": "code",
      "metadata": {
        "id": "oCoa9n6-WBmz"
      },
      "source": [
        "import tensorflow.compat.v1 as tf\n",
        "import matplotlib.pyplot as plt\n",
        "import keras\n",
        "tf.disable_v2_behavior()\n",
        "import numpy as np\n",
        "import sklearn"
      ],
      "execution_count": null,
      "outputs": []
    },
    {
      "cell_type": "code",
      "metadata": {
        "id": "Q8uZsw6GWPBy"
      },
      "source": [
        "tf.reset_default_graph()\n",
        "a = tf.placeholder(np.float32, (2, 2))\n",
        "b = tf.Variable(tf.ones((2, 2)))\n",
        "c = a @ b"
      ],
      "execution_count": null,
      "outputs": []
    },
    {
      "cell_type": "code",
      "metadata": {
        "colab": {
          "base_uri": "https://localhost:8080/"
        },
        "id": "FelP2Lg5XOWx",
        "outputId": "7a9166bb-c21a-4ac6-ad60-c8baec0c1eab"
      },
      "source": [
        "print(c)"
      ],
      "execution_count": null,
      "outputs": [
        {
          "output_type": "stream",
          "text": [
            "Tensor(\"matmul:0\", shape=(2, 2), dtype=float32)\n"
          ],
          "name": "stdout"
        }
      ]
    },
    {
      "cell_type": "code",
      "metadata": {
        "id": "fRTaVKS9YiOU",
        "colab": {
          "base_uri": "https://localhost:8080/"
        },
        "outputId": "c876fda4-ab28-43a7-e750-d92b19675c00"
      },
      "source": [
        "s = tf.InteractiveSession()"
      ],
      "execution_count": null,
      "outputs": [
        {
          "output_type": "stream",
          "text": [
            "/usr/local/lib/python3.7/dist-packages/tensorflow/python/client/session.py:1761: UserWarning: An interactive session is already active. This can cause out-of-memory errors in some cases. You must explicitly call `InteractiveSession.close()` to release resources held by the other session(s).\n",
            "  warnings.warn('An interactive session is already active. This can '\n"
          ],
          "name": "stderr"
        }
      ]
    },
    {
      "cell_type": "code",
      "metadata": {
        "colab": {
          "base_uri": "https://localhost:8080/"
        },
        "id": "sD3MZi9vY1SE",
        "outputId": "ef213ca3-15e0-40e4-dfc1-3a2b6a88300a"
      },
      "source": [
        "s.run(tf.global_variables_initializer())\n",
        "s.run(c, feed_dict={a: np.ones((2,2))})"
      ],
      "execution_count": null,
      "outputs": [
        {
          "output_type": "execute_result",
          "data": {
            "text/plain": [
              "array([[2., 2.],\n",
              "       [2., 2.]], dtype=float32)"
            ]
          },
          "metadata": {
            "tags": []
          },
          "execution_count": 35
        }
      ]
    },
    {
      "cell_type": "code",
      "metadata": {
        "id": "ypABAMyWZKM3"
      },
      "source": [
        "s.close()"
      ],
      "execution_count": null,
      "outputs": []
    },
    {
      "cell_type": "code",
      "metadata": {
        "id": "nAKZCbZWZLZg"
      },
      "source": [
        "tf.reset_default_graph()\n",
        "x = tf.get_variable(\"x\", shape=(), dtype= tf.float32, trainable= True)\n",
        "f = x ** 2"
      ],
      "execution_count": null,
      "outputs": []
    },
    {
      "cell_type": "code",
      "metadata": {
        "id": "NCZmGxMEbicr"
      },
      "source": [
        "optimizer = tf.train.GradientDescentOptimizer(0.1)\n",
        "step = optimizer.minimize(f, var_list=[x])"
      ],
      "execution_count": null,
      "outputs": []
    },
    {
      "cell_type": "code",
      "metadata": {
        "colab": {
          "base_uri": "https://localhost:8080/"
        },
        "id": "i3nnp_osb0EK",
        "outputId": "059868be-08c6-48c7-bcba-c3a6160e9c7c"
      },
      "source": [
        "tf.trainable_variables()"
      ],
      "execution_count": null,
      "outputs": [
        {
          "output_type": "execute_result",
          "data": {
            "text/plain": [
              "[<tf.Variable 'x:0' shape=() dtype=float32_ref>]"
            ]
          },
          "metadata": {
            "tags": []
          },
          "execution_count": 39
        }
      ]
    },
    {
      "cell_type": "code",
      "metadata": {
        "colab": {
          "base_uri": "https://localhost:8080/"
        },
        "id": "N1EqnTuYb3Vb",
        "outputId": "e761a5e2-2695-4f34-91f2-5b22b26d5c7c"
      },
      "source": [
        "with tf.Session() as s:\n",
        "    s.run(tf.global_variables_initializer())\n",
        "    for i in range(10):\n",
        "        _, curr_x, curr_f = s.run([step, x, f])\n",
        "        print(curr_x, curr_f)"
      ],
      "execution_count": null,
      "outputs": [
        {
          "output_type": "stream",
          "text": [
            "-0.9025615 1.2728394\n",
            "-0.7220492 0.8146172\n",
            "-0.57763934 0.52135503\n",
            "-0.46211147 0.33366722\n",
            "-0.36968917 0.213547\n",
            "-0.29575133 0.13667008\n",
            "-0.23660107 0.08746885\n",
            "-0.18928085 0.055980068\n",
            "-0.15142468 0.03582724\n",
            "-0.12113974 0.022929432\n"
          ],
          "name": "stdout"
        }
      ]
    },
    {
      "cell_type": "code",
      "metadata": {
        "id": "3Nbn2jCwcjXf"
      },
      "source": [
        "tf.reset_default_graph()\n",
        "x = tf.get_variable(\"x\", dtype= tf.float32, shape= ())\n",
        "f = x ** 2\n",
        "f = tf.Print(f, [x, f], \"x, f: \")"
      ],
      "execution_count": null,
      "outputs": []
    },
    {
      "cell_type": "code",
      "metadata": {
        "id": "Dvf6krdDeKjr"
      },
      "source": [
        "optimizer = tf.train.GradientDescentOptimizer(0.1)\n",
        "step = optimizer.minimize(f, var_list=[x])"
      ],
      "execution_count": null,
      "outputs": []
    },
    {
      "cell_type": "code",
      "metadata": {
        "id": "oJFGyT6wef9R"
      },
      "source": [
        "with tf.Session() as s:\n",
        "    s.run(tf.global_variables_initializer())\n",
        "    for i in range(10):\n",
        "        s.run([step, f])"
      ],
      "execution_count": null,
      "outputs": []
    },
    {
      "cell_type": "code",
      "metadata": {
        "id": "82QSKl5bfAi4"
      },
      "source": [
        "tf.reset_default_graph()\n",
        "x = tf.get_variable(\"x\", shape=(), dtype=tf.float32)\n",
        "f = x ** 2"
      ],
      "execution_count": null,
      "outputs": []
    },
    {
      "cell_type": "code",
      "metadata": {
        "id": "-6NSEA7jfviF"
      },
      "source": [
        "optimizer = tf.train.GradientDescentOptimizer(0.1)\n",
        "step = optimizer.minimize(f)"
      ],
      "execution_count": null,
      "outputs": []
    },
    {
      "cell_type": "code",
      "metadata": {
        "id": "uw8uOUZSfw9r"
      },
      "source": [
        "tf.summary.scalar('curr_x', x)\n",
        "tf.summary.scalar('curr_f', f)\n",
        "summaries = tf.summary.merge_all()"
      ],
      "execution_count": null,
      "outputs": []
    },
    {
      "cell_type": "code",
      "metadata": {
        "id": "hcb6cbhffzpL",
        "colab": {
          "base_uri": "https://localhost:8080/"
        },
        "outputId": "7ac3bd40-718b-4661-f9d9-9eb7b31c1bb8"
      },
      "source": [
        "s = tf.InteractiveSession()\n",
        "summary_writer = tf.summary.FileWriter(\"logs/1\", s.graph)\n",
        "s.run(tf.global_variables_initializer())\n",
        "for i in range(10):\n",
        "    _, curr_summaries = s.run([step, summaries])\n",
        "    summary_writer.add_summary(curr_summaries, i)\n",
        "    summary_writer.flush()"
      ],
      "execution_count": null,
      "outputs": [
        {
          "output_type": "stream",
          "text": [
            "/usr/local/lib/python3.7/dist-packages/tensorflow/python/client/session.py:1761: UserWarning: An interactive session is already active. This can cause out-of-memory errors in some cases. You must explicitly call `InteractiveSession.close()` to release resources held by the other session(s).\n",
            "  warnings.warn('An interactive session is already active. This can '\n"
          ],
          "name": "stderr"
        }
      ]
    },
    {
      "cell_type": "code",
      "metadata": {
        "colab": {
          "base_uri": "https://localhost:8080/"
        },
        "id": "iEtkUiLzgLXG",
        "outputId": "275150f0-3652-4dae-cb20-be1d63f019e0"
      },
      "source": [
        "N = 1000\n",
        "D = 3\n",
        "x = np.random.random((N, D))\n",
        "w = np.random.random((D, 1))\n",
        "y = x @ w + np.random.randn(N, 1) * 0.20\n",
        "\n",
        "print(x.shape, y.shape)\n",
        "print(w.T)"
      ],
      "execution_count": null,
      "outputs": [
        {
          "output_type": "stream",
          "text": [
            "(1000, 3) (1000, 1)\n",
            "[[0.38157316 0.51897726 0.78206386]]\n"
          ],
          "name": "stdout"
        }
      ]
    },
    {
      "cell_type": "code",
      "metadata": {
        "colab": {
          "base_uri": "https://localhost:8080/"
        },
        "id": "fGwt65C1hDiL",
        "outputId": "8cccc04f-2894-48bd-9ce8-185331b25c0a"
      },
      "source": [
        "tf.reset_default_graph()\n",
        "\n",
        "features = tf.placeholder(tf.float32, shape=(None, D))\n",
        "target = tf.placeholder(tf.float32, shape=(None, 1))\n",
        "\n",
        "weights = tf.get_variable(\"weights\", shape=(D, 1), dtype= tf.float32)\n",
        "predictions = features @ weights\n",
        "\n",
        "loss = tf.reduce_mean((target - predictions) ** 2)\n",
        "print(target.shape, predictions.shape, loss.shape)"
      ],
      "execution_count": null,
      "outputs": [
        {
          "output_type": "stream",
          "text": [
            "(?, 1) (?, 1) ()\n"
          ],
          "name": "stdout"
        }
      ]
    },
    {
      "cell_type": "code",
      "metadata": {
        "id": "UWq7cJ8Kh6g-"
      },
      "source": [
        "optimizer = tf.train.GradientDescentOptimizer(0.1)\n",
        "step = optimizer.minimize(loss)"
      ],
      "execution_count": null,
      "outputs": []
    },
    {
      "cell_type": "code",
      "metadata": {
        "colab": {
          "base_uri": "https://localhost:8080/"
        },
        "id": "XPY0Uz1piIXK",
        "outputId": "e05dbddd-f8cb-4f2f-bb2c-5e52fa461c78"
      },
      "source": [
        "with tf.Session() as s:\n",
        "    s.run(tf.global_variables_initializer())\n",
        "    for i in range(300):\n",
        "        _, curr_loss, curr_weights = s.run([step, loss, weights], feed_dict={features: x, target: y})\n",
        "        if i % 50 == 0:\n",
        "            print(curr_loss)"
      ],
      "execution_count": null,
      "outputs": [
        {
          "output_type": "stream",
          "text": [
            "0.7789816\n",
            "0.048257492\n",
            "0.041271582\n",
            "0.040013526\n",
            "0.03978636\n",
            "0.03974523\n"
          ],
          "name": "stdout"
        }
      ]
    },
    {
      "cell_type": "code",
      "metadata": {
        "id": "apCXk3lhivw0"
      },
      "source": [
        "import sys\n",
        "sys.path.append(\"../..\")"
      ],
      "execution_count": null,
      "outputs": []
    },
    {
      "cell_type": "code",
      "metadata": {
        "id": "7SMepfGgmSke"
      },
      "source": [
        "def sum_python(N):\n",
        "    return np.sum(np.arange(N) ** 2)"
      ],
      "execution_count": null,
      "outputs": []
    },
    {
      "cell_type": "code",
      "metadata": {
        "colab": {
          "base_uri": "https://localhost:8080/"
        },
        "id": "fQlqdZ_vnGsf",
        "outputId": "90f17a18-9def-4b0f-b701-fb1d6a49ce03"
      },
      "source": [
        "%%time\n",
        "sum_python(10 ** 5)"
      ],
      "execution_count": null,
      "outputs": [
        {
          "output_type": "stream",
          "text": [
            "CPU times: user 7.3 ms, sys: 918 µs, total: 8.22 ms\n",
            "Wall time: 9.73 ms\n"
          ],
          "name": "stdout"
        },
        {
          "output_type": "execute_result",
          "data": {
            "text/plain": [
              "333328333350000"
            ]
          },
          "metadata": {
            "tags": []
          },
          "execution_count": 54
        }
      ]
    },
    {
      "cell_type": "code",
      "metadata": {
        "colab": {
          "base_uri": "https://localhost:8080/"
        },
        "id": "wtwBDafunO4x",
        "outputId": "87fa2d87-1fc0-41dc-e880-ba5bdd6b6ad9"
      },
      "source": [
        "my_scalar = tf.placeholder(dtype= tf.float32)\n",
        "\n",
        "scalar_squared = my_scalar ** 2\n",
        "\n",
        "derivatives = tf.gradients(scalar_squared, [my_scalar])\n",
        "\n",
        "derivatives"
      ],
      "execution_count": null,
      "outputs": [
        {
          "output_type": "execute_result",
          "data": {
            "text/plain": [
              "[<tf.Tensor 'gradients_1/pow_1_grad/Reshape:0' shape=<unknown> dtype=float32>]"
            ]
          },
          "metadata": {
            "tags": []
          },
          "execution_count": 55
        }
      ]
    },
    {
      "cell_type": "code",
      "metadata": {
        "colab": {
          "base_uri": "https://localhost:8080/",
          "height": 265
        },
        "id": "RnpvKRdgq9LY",
        "outputId": "30a8d513-93dc-4eb3-e7ff-190baeb4bf9b"
      },
      "source": [
        "%matplotlib inline\n",
        "\n",
        "x = np.linspace(-3, 3)\n",
        "\n",
        "with tf.Session() as s:\n",
        "    x_squared, x_squared_der = s.run([scalar_squared, derivatives[0]], {my_scalar: x})\n",
        "\n",
        "    plt.plot(x, x_squared,label=\"$x^2$\")\n",
        "    plt.plot(x, x_squared_der, label=r\"$\\frac{dx^2}{dx}$\")\n",
        "    plt.legend()\n",
        "\n"
      ],
      "execution_count": null,
      "outputs": [
        {
          "output_type": "display_data",
          "data": {
            "image/png": "[encoded data removed]",
            "text/plain": [
              "<Figure size 432x288 with 1 Axes>"
            ]
          },
          "metadata": {
            "tags": [],
            "needs_background": "light"
          }
        }
      ]
    },
    {
      "cell_type": "code",
      "metadata": {
        "id": "ilHg0BY_vdAx"
      },
      "source": [
        "from keras.datasets import mnist\n",
        "(X_train, Y_train), (X_test, Y_test) = mnist.load_data()"
      ],
      "execution_count": null,
      "outputs": []
    },
    {
      "cell_type": "code",
      "metadata": {
        "colab": {
          "base_uri": "https://localhost:8080/"
        },
        "id": "yU0v_aYB5wyO",
        "outputId": "477c1281-85a3-4b5e-d652-2bd5a452e7a1"
      },
      "source": [
        "print('MNIST Dataset Shape:')\n",
        "print('X_train: ' + str(X_train.shape))\n",
        "print('Y_train: ' + str(Y_train.shape))\n",
        "print('X_test:  '  + str(X_test.shape))\n",
        "print('Y_test:  '  + str(Y_test.shape))"
      ],
      "execution_count": null,
      "outputs": [
        {
          "output_type": "stream",
          "text": [
            "MNIST Dataset Shape:\n",
            "X_train: (60000, 28, 28)\n",
            "Y_train: (60000,)\n",
            "X_test:  (10000, 28, 28)\n",
            "Y_test:  (10000,)\n"
          ],
          "name": "stdout"
        }
      ]
    },
    {
      "cell_type": "code",
      "metadata": {
        "id": "1Ftr3i2U51MG"
      },
      "source": [
        "X_train = X_train.astype(float) / 255.\n",
        "X_test = X_test.astype(float) / 255.\n",
        "\n",
        "X_train, X_val = X_train[:-10000], X_train[-10000:]\n",
        "y_train, y_val = Y_train[:-10000], Y_train[-10000:]"
      ],
      "execution_count": null,
      "outputs": []
    },
    {
      "cell_type": "code",
      "metadata": {
        "colab": {
          "base_uri": "https://localhost:8080/",
          "height": 683
        },
        "id": "LJSvgWfC6RZn",
        "outputId": "3a124201-73ab-450e-ba00-18bbfdcdb32a"
      },
      "source": [
        "print(\"X_train [shape %s] sample patch:\\n\" % (str(X_train.shape)), X_train[7, 15:20, 5:10])\n",
        "print(\"A closeup of a sample patch:\")\n",
        "plt.imshow(X_train[7, 15:20, 5:10], cmap=\"Greys\")\n",
        "plt.show()\n",
        "print(\"And the whole sample:\")\n",
        "plt.imshow(X_train[7], cmap=\"Greys\")\n",
        "plt.show()\n",
        "print(\"y_train [shape %s] 10 samples:\\n\" % (str(y_train.shape)), y_train[:10])"
      ],
      "execution_count": null,
      "outputs": [
        {
          "output_type": "stream",
          "text": [
            "X_train [shape (50000, 28, 28)] sample patch:\n",
            " [[0.         0.         0.         0.17647059 0.8745098 ]\n",
            " [0.         0.         0.         0.         0.12156863]\n",
            " [0.         0.         0.         0.         0.        ]\n",
            " [0.         0.         0.         0.         0.        ]\n",
            " [0.         0.01960784 0.29411765 0.03529412 0.        ]]\n",
            "A closeup of a sample patch:\n"
          ],
          "name": "stdout"
        },
        {
          "output_type": "display_data",
          "data": {
            "image/png": "[encoded data removed]",
            "text/plain": [
              "<Figure size 432x288 with 1 Axes>"
            ]
          },
          "metadata": {
            "tags": [],
            "needs_background": "light"
          }
        },
        {
          "output_type": "stream",
          "text": [
            "And the whole sample:\n"
          ],
          "name": "stdout"
        },
        {
          "output_type": "display_data",
          "data": {
            "image/png": "[encoded data removed]",
            "text/plain": [
              "<Figure size 432x288 with 1 Axes>"
            ]
          },
          "metadata": {
            "tags": [],
            "needs_background": "light"
          }
        },
        {
          "output_type": "stream",
          "text": [
            "y_train [shape (50000,)] 10 samples:\n",
            " [5 0 4 1 9 2 1 3 1 4]\n"
          ],
          "name": "stdout"
        }
      ]
    },
    {
      "cell_type": "code",
      "metadata": {
        "id": "uEObbL2c624n",
        "colab": {
          "base_uri": "https://localhost:8080/"
        },
        "outputId": "ef76411d-0e25-4f1a-8719-343bf905c51b"
      },
      "source": [
        "X_train_flat = X_train.reshape((X_train.shape[0], -1))\n",
        "print(X_train_flat.shape)\n",
        "\n",
        "X_val_flat = X_val.reshape((X_val.shape[0], -1))\n",
        "print(X_val_flat.shape)"
      ],
      "execution_count": null,
      "outputs": [
        {
          "output_type": "stream",
          "text": [
            "(50000, 784)\n",
            "(10000, 784)\n"
          ],
          "name": "stdout"
        }
      ]
    },
    {
      "cell_type": "code",
      "metadata": {
        "colab": {
          "base_uri": "https://localhost:8080/"
        },
        "id": "vjUxM3TzSYSV",
        "outputId": "506761dc-c27a-4249-cce1-6d132c354a1e"
      },
      "source": [
        "y_train_oh = keras.utils.to_categorical(y_train, 10)\n",
        "y_val_oh = keras.utils.to_categorical(y_val, 10)\n",
        "\n",
        "print(y_train_oh.shape)\n",
        "print(y_train_oh[:3], y_train[:3])"
      ],
      "execution_count": null,
      "outputs": [
        {
          "output_type": "stream",
          "text": [
            "(50000, 10)\n",
            "[[0. 0. 0. 0. 0. 1. 0. 0. 0. 0.]\n",
            " [1. 0. 0. 0. 0. 0. 0. 0. 0. 0.]\n",
            " [0. 0. 0. 0. 1. 0. 0. 0. 0. 0.]] [5 0 4]\n"
          ],
          "name": "stdout"
        }
      ]
    },
    {
      "cell_type": "code",
      "metadata": {
        "id": "AETaSyaWXRCf"
      },
      "source": [
        "W = tf.get_variable('W', shape=(784, 10), initializer=tf.initializers.glorot_uniform())\n",
        "b = tf.get_variable('b', shape=(10,), initializer=tf.zeros_initializer())"
      ],
      "execution_count": null,
      "outputs": []
    },
    {
      "cell_type": "code",
      "metadata": {
        "id": "0fmo2RybYN3_"
      },
      "source": [
        "input_X = tf.placeholder(tf.float32, shape=(None, 784), name='input_X')\n",
        "input_y = tf.placeholder(tf.float32, shape=(None, 10), name='input_y')"
      ],
      "execution_count": null,
      "outputs": []
    },
    {
      "cell_type": "code",
      "metadata": {
        "colab": {
          "base_uri": "https://localhost:8080/"
        },
        "id": "OfB9oGqrajfb",
        "outputId": "1a4ea234-7e80-4c22-9683-52e7c1bf357a"
      },
      "source": [
        "logits = tf.matmul(input_X, W) + b\n",
        "probas = tf.nn.softmax(logits)\n",
        "classes = tf.argmax(probas, axis=1)\n",
        "loss = tf.reduce_mean(tf.nn.softmax_cross_entropy_with_logits(labels=input_y, logits=logits))\n",
        "step = tf.train.AdamOptimizer().minimize(loss)"
      ],
      "execution_count": null,
      "outputs": [
        {
          "output_type": "stream",
          "text": [
            "WARNING:tensorflow:From /usr/local/lib/python3.7/dist-packages/tensorflow/python/util/dispatch.py:201: softmax_cross_entropy_with_logits (from tensorflow.python.ops.nn_ops) is deprecated and will be removed in a future version.\n",
            "Instructions for updating:\n",
            "\n",
            "Future major versions of TensorFlow will allow gradients to flow\n",
            "into the labels input on backprop by default.\n",
            "\n",
            "See `tf.nn.softmax_cross_entropy_with_logits_v2`.\n",
            "\n"
          ],
          "name": "stdout"
        }
      ]
    },
    {
      "cell_type": "code",
      "metadata": {
        "id": "GmoVhRZVdR7k"
      },
      "source": [
        "from IPython.display import clear_output, display_html, HTML\n",
        "import contextlib\n",
        "import time\n",
        "import io\n",
        "import urllib\n",
        "import base64\n",
        "\n",
        "def clear_and_display_figure(fig, sleep=0.01):\n",
        "    img_data = io.BytesIO()\n",
        "    fig.savefig(img_data, format='jpeg')\n",
        "    img_data.seek(0)\n",
        "    uri = 'data:image/jpeg;base64,' + urllib.request.quote(base64.b64encode(img_data.getbuffer()))\n",
        "    img_data.close()\n",
        "    clear_output(wait=True)\n",
        "    display_html(HTML('<img src=\"' + uri + '\">'))\n",
        "    time.sleep(sleep)\n",
        "\n",
        "\n",
        "class SimpleTrainingCurves(object):\n",
        "    def __init__(self, loss_name):\n",
        "        self.fig, (self.ax1, self.ax2) = plt.subplots(nrows=1, ncols=2, figsize=(12, 4))\n",
        "        self.ax1.set_title(loss_name)\n",
        "\n",
        "        self.train_loss_curve, = self.ax1.plot([], [], 'r', label='train', lw=2)\n",
        "        self.valid_loss_curve, = self.ax1.plot([], [], 'g', label='valid', lw=2)\n",
        "        self.iter = 0\n",
        "        self.y_limits_1 = [None, None]\n",
        "        plt.close(self.fig)\n",
        "\n",
        "    def _update_y_limits(self, limits, *values):\n",
        "        limits[0] = min(list(values) + ([limits[0]] if limits[0] else []))\n",
        "        limits[1] = max(list(values) + ([limits[1]] if limits[1] else []))\n",
        "\n",
        "    def _update_curve(self, curve, value, label):\n",
        "        x, y = curve.get_data()\n",
        "        curve.set_data(list(x) + [self.iter], list(y) + [value])\n",
        "        curve.set_label(\"{}: {}\".format(label, value))\n",
        "\n",
        "    def _set_y_limits(self, ax, limits):\n",
        "        spread = limits[1] - limits[0]\n",
        "        ax.set_ylim(limits[0] - 0.05*spread, limits[1] + 0.05*spread)\n",
        "\n",
        "    def add(self, train_loss, valid_loss):\n",
        "        self._update_curve(self.train_loss_curve, train_loss, \"train\")\n",
        "        self._update_curve(self.valid_loss_curve, valid_loss, \"valid\")\n",
        "        self.ax1.set_xlim(0, self.iter)\n",
        "        self._update_y_limits(self.y_limits_1, train_loss, valid_loss)\n",
        "        self._set_y_limits(self.ax1, self.y_limits_1)\n",
        "        clear_and_display_figure(self.fig)\n",
        "        self.ax1.legend()\n",
        "        self.iter += 1\n"
      ],
      "execution_count": null,
      "outputs": []
    },
    {
      "cell_type": "code",
      "metadata": {
        "colab": {
          "base_uri": "https://localhost:8080/",
          "height": 309
        },
        "id": "LKDnVBlOa-Ps",
        "outputId": "293e33bd-e2bd-4540-c3c7-5fabb8198357"
      },
      "source": [
        "with tf.Session() as s:\n",
        "    s.run(tf.global_variables_initializer())\n",
        "    BATCH_SIZE = 512\n",
        "    EPOCHS = 40\n",
        "    simpleTrainingCurves = SimpleTrainingCurves(\"cross-entropy\")\n",
        "\n",
        "    for epoch in range(EPOCHS):\n",
        "        batch_losses = []\n",
        "        for batch_start in range(0, X_train_flat.shape[0], BATCH_SIZE):  # data is already shuffled\n",
        "            _, batch_loss = s.run([step, loss], {input_X: X_train_flat[batch_start:batch_start+BATCH_SIZE], input_y: y_train_oh[batch_start:batch_start+BATCH_SIZE]})\n",
        "            # collect batch losses, this is almost free as we need a forward pass for backprop anyway\n",
        "            batch_losses.append(batch_loss)\n",
        "        train_loss = np.mean(batch_losses)\n",
        "        val_loss = s.run(loss, {input_X: X_val_flat, input_y: y_val_oh})\n",
        "        simpleTrainingCurves.add(train_loss, val_loss)"
      ],
      "execution_count": null,
      "outputs": [
        {
          "output_type": "display_data",
          "data": {
            "text/html": [
              "<img src=\"data:image/jpeg;base64,/9j/4AAQSkZJRgABAQEASABIAAD/2wBDAAIBAQEBAQIBAQECAgICAgQDAgICAgUEBAMEBgUGBgYFBgYGBwkIBgcJBwYGCAsICQoKCgoKBggLDAsKDAkKCgr/2wBDAQICAgICAgUDAwUKBwYHCgoKCgoKCgoKCgoKCgoKCgoKCgoKCgoKCgoKCgoKCgoKCgoKCgoKCgoKCgoKCgoKCgr/wAARCAEgA2ADASIAAhEBAxEB/8QAHwAAAQUBAQEBAQEAAAAAAAAAAAECAwQFBgcICQoL/8QAtRAAAgEDAwIEAwUFBAQAAAF9AQIDAAQRBRIhMUEGE1FhByJxFDKBkaEII0KxwRVS0fAkM2JyggkKFhcYGRolJicoKSo0NTY3ODk6Q0RFRkdISUpTVFVWV1hZWmNkZWZnaGlqc3R1dnd4eXqDhIWGh4iJipKTlJWWl5iZmqKjpKWmp6ipqrKztLW2t7i5usLDxMXGx8jJytLT1NXW19jZ2uHi4%2BTl5ufo6erx8vP09fb3%2BPn6/8QAHwEAAwEBAQEBAQEBAQAAAAAAAAECAwQFBgcICQoL/8QAtREAAgECBAQDBAcFBAQAAQJ3AAECAxEEBSExBhJBUQdhcRMiMoEIFEKRobHBCSMzUvAVYnLRChYkNOEl8RcYGRomJygpKjU2Nzg5OkNERUZHSElKU1RVVldYWVpjZGVmZ2hpanN0dXZ3eHl6goOEhYaHiImKkpOUlZaXmJmaoqOkpaanqKmqsrO0tba3uLm6wsPExcbHyMnK0tPU1dbX2Nna4uPk5ebn6Onq8vP09fb3%2BPn6/9oADAMBAAIRAxEAPwD9/KKKKACiiigAooooAKKKKACiiigAooooAKKKKACiiigAooooAKKKKACiiigAooooAKKKKACiiigAooooAKKKKACiiigAooooAKKKKACiiigAooooAKKKKACiiigAooooAKKKKACiiigAooooAKKKKACiiigAooooAKKKKACiiigAooooAKKKKACiiigAooooAKKKKACiiigAooooAKKKKACiiigAooooAKKKKACiiigAooooAKKKKACiiigAooooAKKKKACiiigAooooAKKKKACiiigAooooAKKKKACiiigAooooAKKKKACiiigAooooAKKKKACiiigAooooAKKKKACiiigAooooAKKKKACuN%2BOP7QHwm/Zx8JW/jT4veJ5dPtL7U4dN0u2stLub%2B91K9lDGO1tLO0jluLudlR2EUMbvtR2xhWI7KvFv2u/gP8VPiX4h%2BGfxl%2BBd14fl8X/CrxjPrWmaJ4tu57bTdYhudLvdMubaW4ghmktH8q9aSOdYZtrR7TGyu2ACjpH/AAUr/Y71rxm3w8tvHviCDW7fSodU1bTtR%2BHOvWkmi2EhuAt3qXn2SDTIAbWcNLdmFEKYYqWUGbwn/wAFH/2NfGfg/wAQ%2BOtM%2BLFza6f4Y0e11fVBrnhPVdMuJNPuXMdreWtvd2sU19bzyAxwy2ySpM5CRlmIB86vP2GPjP8AHW0/aRP7Qt74V8My/tB/CPTvBskfgrWLrUzo7RWusWsr%2BbcWtqZ1VNRiZDsXeyygogxuy9Y/Y2/at%2BM%2Btaz8UP2lPh38G9X1e0%2BE6eBtB8E6d4n1QaRrSy6jaXt5fXd2bBJ9PYmyg%2BzxQw3BtnDP50hIwAeyX/7fP7N2k%2BAbH4h6tdeOLSHVPED6Jpeh3Xwj8SR67e3yW5uXjh0dtPGoShYAZTIluUCKzFsA49P8JeOfDfjbwTY/EPRbi5i0rULBbyCTVNPnsZY4iu7MsFykcsDAfeSRVZSCGAIIr41tv2Gf2tJfgpJ4W8feGPCnjS%2Bh%2BIcut%2BC9B1n9ofxXb3fgOxOmxWoi0/xbHp7atcSGUXcreZDGBHeGENsjGfUvB/7Bmq%2BKfgJo3hb9pz46%2BOPEfj5PhtdeFtf8Q6T8Q9at9Muhc2tzbyTPpa3SWN5MiXTBbq4tmmdoopWKuibADc8Mf8FJP2MvF/h7xJ4s0b4tXK6Z4W8GXni6/vr7wlqtpFe6BaruuNU09p7VBqtogK5nsvPQmSMAkyIG4n40f8FdP2YfAf7M/wATf2gfhW%2Bs%2BM7v4b%2BDYfEjeGW8L6xps2r2Nw7R2t3avNYFrixlkRh9vgjmtkVWdnCqSPHfC/8AwSh%2BNC/BPxf8LPFnh3w9J4h/4UL4j8A%2BC/Hmo/tD%2BNvECSXGpWEdp5h0jVUkttGtpDDE8scEl0yeVGqFggz6P%2B1L/wAE5vih%2B0BYeKtE0Pxj4d0q2179le%2B%2BGlrLM87GDVpLiOWGdo1iANqNhBIbzBnhO9AHqkv/AAUU/ZZt/E3hrwJeav41tvEni7TpdQ0HwpefCTxLDq8tnFd/Y5LmSwk08XNvCkxG6SaNEVGWUkRsrmXwN/wUT/Y7%2BJGqarpXhD4tyXB0rQ9Q1lbufw1qVvaapp1iwS8u9NuZrdYdVhhYqHeyedVLqCfmGcXwR8APjz4x/apsf2oPjn4f8HeH5JPg5f8Ag/VNE8J%2BK7vVTBcy6tHcpJDcz6fZl4mgiUsTGjJIdoV1USHwGb9hz9pf4bfs8%2BF/Cnxo1rwIPCP7N3wP8SaB4L1PwrfXcmpeKd2hHTLe4vbeW2ii04JZozSQxS3QknZXDxqgQgH0D4U/4Kl/sL%2BNPBus/ELQ/jLdrouheDj4tutRv/BmsWcdzoIKB9Vs/PtEN/ZxmRBJPbCWOLcPMZc167a/GD4c3vxcuPgVZ%2BIxN4qtPDUGv3emRWsrCHTp55beGd5QnlL5ksE6ohfe3kyEKQjEfFX7I/7P3xC8WfBL4Q/Hb9t/Uvhlovww%2BG/7L9z4fgk07W5wmr6bqmnaWby%2B1X7VBDDpkEVppyq0CS3CZleRplWNVrsP%2BCK3wr8d6P8As76n8evit4tbxFrHjW%2Bg03w54hlgaOS%2B8I6JF/ZWiXBD8/6VDDNqhPd9WcgKCFAB9lUUUUAFFFFABRRRQAUUUUAFFFFABRRRQAUUUUAFFFFABRRRQAUVzOsfGn4OeHvidpPwS1/4s%2BGbHxnr9pLdaF4RvNet4tU1GCNXaSWC1ZxLMirHIWZFIAjYkjacJ8Qvjb8GfhHqOi6R8Vvi54Y8MXfiS/Fl4dtfEOv29lJqt0SoEFsszqZ5Mug2JlssOORQB09FFFABRRRQAUUUUAFFFFABRRRQAUUUUAFFFFABRRRQAUUUUAFFFFABRRRQAUUUUAFFFFABRRRQAUUUUAFFFFABRRRQAUUUUAFFFFABRRRQAUUUUAFFFFABRRRQAUUUUAFFFFABRRRQAUUUUAFFFFABRRRQAUUUUAFFFFABXi/x68f/ALRf/DRfgX4EfAXxn4K8Ppr/AIK8S69q%2Bp%2BL/Bd3rRJ0670O3hhhjt9SsfLDf2pKzMzPny0AC8k%2B0V4V8RdaSy/4KVfCHRZFH%2Bm/BP4hsjd90ereDTj8mY/hSbS3LhCVR2j2b%2B7Vl/8A4Qf/AIKF/wDR0HwZ/wDDD6t/81FH/CD/APBQv/o6D4M/%2BGH1b/5qK9mopkHjP/CD/wDBQv8A6Og%2BDP8A4YfVv/moo/4Qf/goX/0dB8Gf/DD6t/8ANRXs1FAHjP8Awg//AAUL/wCjoPgz/wCGH1b/AOaij/hB/wDgoX/0dB8Gf/DD6t/81FezUUAeM/8ACD/8FC/%2BjoPgz/4YfVv/AJqKP%2BEH/wCChf8A0dB8Gf8Aww%2Brf/NRXs1FAHjP/CD/APBQv/o6D4M/%2BGH1b/5qKP8AhB/%2BChf/AEdB8Gf/AAw%2Brf8AzUV7NRQB4z/wg/8AwUL/AOjoPgz/AOGH1b/5qKP%2BEH/4KF/9HQfBn/ww%2Brf/ADUV7NRQB4z/AMIP/wAFC/8Ao6D4M/8Ahh9W/wDmoo/4Qf8A4KF/9HQfBn/ww%2Brf/NRXs1FAHjP/AAg//BQv/o6D4M/%2BGH1b/wCaij/hB/8AgoX/ANHQfBn/AMMPq3/zUVa1/wCN/wCyJ8KbTSNJ%2BOnxh%2BHPhzXNQ0WDUDbeLvENhaXdxHJkeftuHV2RnSQBumUYZ4IGb/w1/wD8E4P%2Bjovgj/4W2j//AB2uaeMwdOTjOrFNdHKKf3OSZ7WH4b4kxdCNahga84SV1KNGtKLXdSjRlFrR6ptablj/AIQf/goX/wBHQfBn/wAMPq3/AM1FH/CD/wDBQv8A6Og%2BDP8A4YfVv/moqv8A8Nf/APBOD/o6L4I/%2BFto/wD8dr07QNF%2BFnivQrLxT4W0nw/qWmalaR3Wnajp8EE0F1BIoeOWORAVdGUhlZSQQQQcGrpYnD121TnGVu0k/wAmznx2TZzlcIzxuFq0lJ2TqU6lNN72TnTgm7a2Tbtra2p5z/wg/wDwUL/6Og%2BDP/hh9W/%2Baij/AIQf/goX/wBHQfBn/wAMPq3/AM1FeefD7/go1%2Bxf4v8AA9n4w8Q/D3xPoM%2BqeONa8LaJo1z8HtbnvNWvdOuL%2BORbSKHT2e6Jh0%2BedliVzCAY5Nkiso7L4hftUfsteBbLx7aXmiRafrHgLwhrXiG8tvFngTVtJs7uz0xf9Lnt7qTTnF7bxM0QklskuiomjYI%2B9FfY800f%2BEH/AOChf/R0HwZ/8MPq3/zUUf8ACD/8FC/%2BjoPgz/4YfVv/AJqKq2H7Vn7GGofGeT9n6G8t/wDhKLfxBHoN1H/wg1%2BLCHVX06PUo7FtQa0Fos72kqTJGZQzg4UFgVGz8a/ir8FfhJ%2Bzzrv7Q%2Bj%2BEdG8Uadpdg0mm2%2BhrbSDVbppRBBaxTAFA0lwyQ7idqsxLdDQBQ/4Qf8A4KF/9HQfBn/ww%2Brf/NRR/wAIP/wUL/6Og%2BDP/hh9W/8Amop/7OHxAtvi5eeMvA/xR%2BBXhvwr4w8B%2BIIdM1/StH1FdVsZFnsba9t7m2upLS2eWN4rlVO%2BCNllilXDKFd/JPiZ%2B2j4h%2BA3hn4ny/HL9kPwRp3iDwB8LB47stN0Lx0L6zurIzzwCC8upNLgawm3wNysNxGyrIUd/KYUAesf8IP/AMFC/wDo6D4M/wDhh9W/%2Baij/hB/%2BChf/R0HwZ/8MPq3/wA1FeS/FD9uXw58L/gN8P8A4xX3gX9ny9X4gfER/DNrrlr8a0/4ROxiXTdRvvtUutnR/vFtPaDyhbY8yZB5nUVr/ED9rnTPBX7Q3w8/Z0Pww%2BCcGp%2BNfBlprk194h%2BKq6fDPLLcrA9ppA/smRtXcZZ0JFuZF2Eqm75QD0P/AIQf/goX/wBHQfBn/wAMPq3/AM1FH/CD/wDBQv8A6Og%2BDP8A4YfVv/morn/Gfxa%2BIvgj9rbwN%2Bz1f/stfDy70Dx3d6o1l4gsPGsz6nZabYWXnTX8%2BnNo6xBBcSWdrtW7bD3sRyRkDy/xR/wUQ0bwF4b%2BMUnir4AfCq/1n4RaRYXmqjwd8TV1PSLae5vpLNtP1O/bSoW0u8iMZleEwSkRHdkdKAPcP%2BEH/wCChf8A0dB8Gf8Aww%2Brf/NRR/wg/wDwUL/6Og%2BDP/hh9W/%2BaiuU1j45eJof2VG/ag8KfCX4Ca7p%2BnWGoarr9/pnxbnn0ODS7WOSR7m31KDQpDcsFjbehgjVCpAdsVxmrfty6r4e8M6Z4p8SfsWaJYQ6H8N/DPjL4zWtx4lQXHhC31maaNba1T7BjU5rYWt1LOHNoBHEpQyNIEAB69/wg/8AwUL/AOjoPgz/AOGH1b/5qKP%2BEH/4KF/9HQfBn/ww%2Brf/ADUVzGvfGH4qeGv2t9D/AGbL/wDZL%2BHV5p3iTRNf1rTNa0nx3LLfQafpwt0Sa6s5dHjihM1xeWcO1bp9pkkYGQRNnkfG37al78HPDfxMg%2BNv7KfgvTPEnw407wtqF5FonjP7doi2eu6jPYRXF5qMumQPYR2jW09zeMbaQQWirOplDbQAeq/8IP8A8FC/%2BjoPgz/4YfVv/moo/wCEH/4KF/8AR0HwZ/8ADD6t/wDNRXjV5%2B31oa/siv8AtbWvwg%2BClrothr2q6Zf6lr/xcSy0TVDaSPHFJoupDSZBqouGjkWINFb7nRlG7GTu61%2B2poll4uhn039k%2B0Xwbpd74R07x5rOtXqWWqaDqPiJ7dLW2XTvssi3H2f7bZNdM9xCYluCUWYxstAHpH/CD/8ABQv/AKOg%2BDP/AIYfVv8A5qKP%2BEH/AOChf/R0HwZ/8MPq3/zUVl%2BDfiv4hH7Ttp%2Bzh8Yf2Z/B%2BhNr/hnV9f8ACup%2BH/Ew1WSSz0%2B8sbaT7dA9hb/Y5H/tC3ZBG9whKyqZAVXf7N/wg3gn/oT9K/8ABfH/APE0AeW/8IP/AMFC/wDo6D4M/wDhh9W/%2BaiqHgfxx%2B1Z4O/as8OfBH43fEf4e%2BJtG8TfD3xDrkM3hX4eX2i3VpdabfaJborPcavfJLG6apKSoRGDRIQ2Mg%2BoeLPCfhbTfC2palpvhyxtrm2sZZbe4t7REeN1QsrKygEEECvPvHH/ACkL%2BF//AGRnx5/6dvCFAHs1FFFABRRRQB8xftoeM9I8Nfta/s6XI%2BG3jjVJNI8e32oa5q/hf4Ya1q9tY2M3hzXNPha4u7GzliiH2u7hXY7goJvMYLHlx5x/wUA0jxL4z1zx/rOi/BTxr4rtvij%2BzZqvgbwCuneCNRlax157q5DQXY8jdpcdwZ7GQXVwIoANPLtINke77kooAwtY0v4gf8K%2BbR/CPivTLTxIunpHbaxrOkSX1qtwFAMslvHcW7yqSCdomjPP3q8B%2BAPiP/goj8a/At/4xuP2hPgtpzWXjbxLoIt0%2BB%2Bryh10rXL7S1myfE64MgsxKVx8pkK5bG4/TdeM/sH/APJENc/7LN8R/wD1NdboAP8AhB/%2BChf/AEdB8Gf/AAw%2Brf8AzUUf8IP/AMFC/wDo6D4M/wDhh9W/%2BaivZqKAPGf%2BEH/4KF/9HQfBn/ww%2Brf/ADUUf8IP/wAFC/8Ao6D4M/8Ahh9W/wDmor2aigDxn/hB/wDgoX/0dB8Gf/DD6t/81FH/AAg//BQv/o6D4M/%2BGH1b/wCaivZqKAPGf%2BEH/wCChf8A0dB8Gf8Aww%2Brf/NRR/wg/wDwUL/6Og%2BDP/hh9W/%2BaivZqKAPGf8AhB/%2BChf/AEdB8Gf/AAw%2Brf8AzUUf8IP/AMFC/wDo6D4M/wDhh9W/%2BaivZqKAPGf%2BEH/4KF/9HQfBn/ww%2Brf/ADUUf8IP/wAFC/8Ao6D4M/8Ahh9W/wDmor2aigDxn/hB/wDgoX/0dB8Gf/DD6t/81FH/AAg//BQv/o6D4M/%2BGH1b/wCaivZqKAPGf%2BEH/wCChf8A0dB8Gf8Aww%2Brf/NRR/wg/wDwUL/6Og%2BDP/hh9W/%2BaivZqKAPGf8AhB/%2BChf/AEdB8Gf/AAw%2Brf8AzUUf8IP/AMFC/wDo6D4M/wDhh9W/%2BaivZqKAPGf%2BEH/4KF/9HQfBn/ww%2Brf/ADUUf8IP/wAFC/8Ao6D4M/8Ahh9W/wDmor2aigDxn/hB/wDgoX/0dB8Gf/DD6t/81FH/AAg//BQv/o6D4M/%2BGH1b/wCaivZqKAPGf%2BEH/wCChf8A0dB8Gf8Aww%2Brf/NRR/wg/wDwUL/6Og%2BDP/hh9W/%2BaivZqKAPGf8AhB/%2BChf/AEdB8Gf/AAw%2Brf8AzUUf8IP/AMFC/wDo6D4M/wDhh9W/%2BaivZqKAPGf%2BEH/4KF/9HQfBn/ww%2Brf/ADUUf8IP/wAFC/8Ao6D4M/8Ahh9W/wDmor2aigDxn/hB/wDgoX/0dB8Gf/DD6t/81FH/AAg//BQv/o6D4M/%2BGH1b/wCaivZqKAPGf%2BEH/wCChf8A0dB8Gf8Aww%2Brf/NRR/wg/wDwUL/6Og%2BDP/hh9W/%2BaivZqKAPGf8AhB/%2BChf/AEdB8Gf/AAw%2Brf8AzUUf8IP/AMFC/wDo6D4M/wDhh9W/%2BaivZqKAPGf%2BEH/4KF/9HQfBn/ww%2Brf/ADUUf8IP/wAFC/8Ao6D4M/8Ahh9W/wDmor2aigDxn/hB/wDgoX/0dB8Gf/DD6t/81FW/2VviN8afGGsfFDwJ8dNf8L6tqngH4hRaHZ6r4T8NXOk291ay6Do%2Bpqz29xe3jLIsmoyoWEu0rGh2qc59brxn9l//AJLf%2B0d/2Wax/wDUK8L0AezUUUUAFFFFABRRRQAUUUUAFFFFABRRRQAUUUUAFFFFABRRRQAUUUUAct8bfBFj8RvhRrvg3Utf17S4LuxJe%2B8M6/daXfR7CJB5V1aSRzQklApaN1YqWGRmvIf2bfEejeMv%2BCWHwz8c/tA/FrWNOsrz4H%2BH9V8ZeNJfFlxYXqp/ZVtPdXcuopIs8Tth2ecSLJ8zHcCc17d8Qfh18Pvi14Ovvh38VPAmjeJvD%2BqRrHqWheINLivbO7QMHCywzKySAMqsAwPKg9RXHaT%2Bxl%2Bx9oHw%2BufhJoX7KPw1svCl5ZNZ3nhm08C6fHp89s0wmaF7ZYRG0ZlVZChXBdQ2MjNAHK/8E/tP%2BIUfwk1vxH4puPFqeG9e8X3Oo/DTSvHurXd9reneHXgt0gS8mvXe5Lyzx3V2kdw7TQxXkUMm1oii%2BY/Fv4meIr3/AILIfAPwlq/wp8QaDaRfDj4kWen63qtzpz2uuKX8NzM9qttdyzoqeQNwuYoGO9dobDbfpv4UfBP4NfAfw7N4P%2BB3wk8MeDNJuL1ry40vwpoNvp1tLcMiI0zR26IrSFI41LkZIRRnAFfLH7Z2rtpH/BYz9i3c2I7vw/8AE62kOf71ho5Uf99KtcuMn7OhzecfxlFfqe7w5hvreaey706z/wDAaFaX/tp9nUUUV1HhBRRRQAUUUUAFFFFABRRRQAUUUUAFFFFAHmepfsyfs2/GjR9B8U/GL9nvwP4s1O38P2trBqPiXwnZ388cCqXWJZJ42YIGd2Cg4BdjjJNUv%2BGB/wBhX/oyz4S/%2BG50z/4xXJ/F7/gpB%2Bxf%2Bx9L4c%2BGn7Rfxl/4R3W77wpZ6na2X/CO6jd77V98Syb7W3kQZeGUbSwb5c4wQTyH/D83/gll/wBHRf8Alk65/wDIVeLiMXw7TryjXnSU09eb2d7%2Bd1e/qaLxDxGVL6pHOJ0lT05FiakFHrZRVeKjvsorfbU9b/4YH/YV/wCjLPhL/wCG50z/AOMV6doGgaF4U0Ky8LeFtFtNN0zTbSO107TtPtlhgtYI1CRxRxoAqIqgKqqAAAABgV8rf8Pzf%2BCWX/R0X/lk65/8hV9PeAfHXhX4oeBNF%2BJfgXVPt2ieItIttT0e98h4vtFrcRLLFJskVXTcjqdrKGGcEA8V0YHEZPWnJYOVNtLXk5b28%2BVLS/cUuLqvEn7qeYyxPJrZ151eW%2Bl7Sq1LX2ukr7X6HhPww/YX8V%2BAPHnhTWtT%2BM%2Bm6hoPgf4oeKvF/hrS4fCEkF2F13%2B1nntLi5N66SmKXVWKSpDF%2B7hCMhZjIPI9a/4Iwy694p8e%2BJLz47eHYrjxl4C8f%2BF/7atfheia3cx%2BJpFcXGq6ib4vqj2W0RwoFt08sbdqYDD3aw/b8%2BEer6dYzaT4U8RzX11ovi3UrvSZfsFvLpaeHL1bDUY7uSe7SCBhdukCM0vlsSWLrGruvCeDf%2BCn3gf47TfDjUfgJBZy2Ou/GfUfA3jeC/vrHUpdPNv4N1fxChtrnSr64s5XY2lgd6TzIEmmjYJKp8r0iDrpP2GA/iHVdfHxQwdT%2BOuk/EcxDRP9X9i0jT9N%2BwZ8/wCbf9g8zzsDb5u3y227m7z41/A7UP2gP2edd%2BCXj/xjFb3%2BtWDRp4g0PSzALK6SUTWt1FBLLLloZUhfazsrtGc4DYHzx4t/4KrSv8EPCnjX4RfCnX/Ed7qkHw9k8R%2BKZfD8Fvo2it4ku9OVILmAak1zHcNa3vmqkBuooGmg82ZlJLfSHxh%2BPHh/4SfALx58fbrRtSubHwF4f1jVL6yuNPmtJbgadDLLKsYnRSyt5LBJVDRuCGRmUgkA534C/s//ABQ%2BFOr%2BIvHfjX4taH4h8VeOPFsWreNNRsvB81haSWsGmRWFvZWNu19M1ps%2BzwSmSWW5LM1wNqiVPJ4v9nH9kv8Aan%2BB%2Bi%2BOL/xZ%2B0x8P/FnjHxrdnUbvxnc/CK9gnmvg4EIuYzrsiy2cEAFvDaQm3EagMHLtIz7f7LXxs%2BP3iH4qeJvgN%2B0qPCNz4i0bwV4d8V2upeC9KubK0FrqsmpQGyaO5ubh3lt59LmzOHRZUmjIijIZa5rxl%2B0T%2B1R8Mvjxr/wjvrnwN40lk%2BF/iLxdo%2BleF/Cl/b3vh42k0MemQ37NfTi9F4ZJo0MaWrs9lN5aOquYgDb8DfstftDfDDw74t1fwR8fPAw8beP/Hz%2BJ/Furar8K7ibRyx0u101YbPTotXiltz5Vlbs0kl1Ozu05YYkUR894j/4J8%2BOr39lzQv2KPDHx30Sz%2BHMHhG20LxQb/4fm51q9VJTJLLY3aX0VvpxIOIlNrOLcqrR8quKvwS/bm8Z337Oup%2BMviV4j0bxN8So7nTdNsvh1p3w01fwbf2%2Bs38Km106ez1e5uLnY8hdvtm1YhBDNLgpDIwwr79r/wDa5H/BPDRf20v%2BEp%2BFmm6ppvhe%2BvfE2hXfg/UriLxDqkVy1va6bpuzUVktHuZUEEe4XkhluIgsbn5WAPoO2%2BAsn/DUOq/tM6r4uF1PJ4DtvDHhnSTp%2B1dGj%2B1zXV9OJPMPmtdP9hDLtQKunRfeLEjhvD37Mf7Str8QNf8Ajp4r/aK8FX3jy98J2fh7Qbuw%2BFlza6Pa20N6120l3ZNrEk17MWZlRhdQrEGYouXfcz4wfHD9oz4WfGv4d2v9oeCrvQPiD4rs9FtPh6PD91/wkMUTWbTXt8L9b0wMloUeWRPsm3ykA84PIgPAfFz9r/8Aao/Z3%2BK3xUtvF2ufD/xr4X%2BGnwRvvG%2BoWOheCb7R76C%2BmuJU0bTnupdVu4pBMllqJlcQoV8qJgoEmKAOwf8AYG1bXvgF40%2BDfjj4w2l1d/E/4j2/if4j32k%2BFPsdjf23n2P2zS7WzN1IbWG6tLEW0jvNO5NzcSnc0mBb/aO/Yc1v46fEjXPEeg/GKDQPDvj7w5o%2BgfFDw/P4aN5Nq%2Bn6de3NzElnci5iFjLKl7c280jxXAaJ02LG6Bzw/wAS/wBqP9tH4bfBn48aLd638L7n4j/Bvwjb%2BLbfXE8Haiui6npk2n3dyIGsf7TM8c4msLqHf9qKlfLk2gkxDtP2xfj3%2B0V8Ev2fh%2B0h8Mte8CC20vw5DdyeD9e8N3t1feKtVmKLa6RYXEN7ELSa5ldLeJmhuiZZ0%2BQhSGAO9034A6rpn7QHjn9otPHME%2BteJPCOm%2BHvDMF1pBaHQLW0a7mOQJgbgzXV28smDEWSGCPP7sPXjHgP/gnj8cdH%2BAGufCj4iftP%2BGNd8Tap4z0fxgfHln8Mrm1udU12x1CC9Nxq0MurzrfwSG0toBbQm0WG3iEUJjVIvK6v4y/tG/Gv4R/tg/D/AOFEeoaLqfhjx9raWUWkP8OdVtZdPg%2Bw3Urzt4ia7bTZbgTWrFdPEKXLxSAqCFMjeCeCv%2BCq3x%2B8Y%2BAfFlp4a0zwV4m%2BJMvwE13x/wCHfh74Z8L6jNfeEtX06S0hfw1rEK3by316suoWyFYRaSMYZcRKJYmIB7po/wCyD%2B0V4Q%2BGniLwf4K/aM8ERap4%2B8RazrHxBvdX%2BEs13YXMt/HDDssLIatGLNUjiORPJdiWSR3cEswOPD/wTUuNCv8AS/CPhD47zxfD9j4Mn8YeH9Y0E3up61eeGjbfYp01EXMa2/nrY2KXStbzGVbchGhMjNWB44/bv%2BKfhn4FeHvEfhT4l%2BG/Euv6n8Vv%2BEU8SapY/AnxHFc%2BGl/su4vxHJ4TN8%2Br3d0fKtx5aSIywXouzH5MLs2J4d/4KHftA6/F8J/GnjHVvCXgXwX4r8A2useKPFlz8LNb17TF1CTUTbfZGv7S%2BittD3RANi%2BZzDI5jcs0bAgHtH7OP7Lvx1%2BEnx48cfGr4r/Hjwn41k8a3cjPPD8O7rT9UsbKORjp%2Bmx3TatPCtnaxvIBElshlllkndvMkkLe8V8gWn7eXxvu/wBvYfs1vpWgW%2BgTfEK78MR20/g/UgyQReHm1RNQXXvtI064uWmVYzoyRi8WJ2mJCRO1ZvjP9uP9pr9nt/jnq/xh8T/DnxZonwr0/wAMaXYaroHgjUNDT/hKNYuFQWl15mp6gTbwQXmkzyNGBIUvjtBKDcAfXvjn/kSdY/7BVx/6LavLfHH/ACkL%2BF//AGRnx5/6dvCFJ8APjBq3xk%2BAfifV/EnxO0TxPq2l3N9p2qvo/wAPtT8LPp8y20cotbnTNUuJ7q2nCSpJ%2B8Zd8c0TqoVwWXxx/wApC/hf/wBkZ8ef%2BnbwhQB7NRRRQAUUUUAFFFFABXjP7B//ACRDXP8Ass3xH/8AU11uvZq8Z/YP/wCSIa5/2Wb4j/8Aqa63QB7NRRRQAUUUUAFFFFABRRRQAUUUUAFFFFABRRRQAUUUUAFFFFABRRRQAUUUUAFFFFABRRRQAUUUUAFFFFABRRRQAUUUUAFFFFABXjP7L/8AyW/9o7/ss1j/AOoV4Xr2avGf2X/%2BS3/tHf8AZZrH/wBQrwvQB7NRRRQAUUUUAFFFFABRRRQAUUUUAFFFFABRRRQAUUUUAFFFFABRRRQAUUUUAFfBf/BS/Vf7C/4KrfsQaru27tV8YWuf%2Bu/9hxY/8er70r86/wDgsfeS6R/wUE/Ym8QR8JZePNRNw392J9U8Nxsf/H68zOJcmWzl25X/AOT0z7jw3oLE8aYWg/tqtH78Li/1SP0Uooor0z4cKKKKACiiigAooooAKKKKACiiigAooooAyvA3/Ik6P/2C7f8A9FrWrWUPBmhplYGvoUySIrfVrmNF9lVZAqj2AApf%2BEP0n/n71X/weXf/AMdoA1KKy/8AhD9J/wCfvVf/AAeXf/x2j/hD9J/5%2B9V/8Hl3/wDHaAPD/EH/AATT/Z88S%2BI/jN4l1DV/Ewl%2BNunW1nrlumow%2BTogiUlpNNQwkQNNORczCXzUlmVSylfkL/BX/BO74c%2BFvF0fxC8QfGLx94p8QH4nSeO7zWPEF7p/mXept4Vn8L%2BWyWtlDEluLCcsscSR4mRGzs3Rt7b/AMIfpP8Az96r/wCDy7/%2BO0f8IfpP/P3qv/g8u/8A47QB85f8OpPgxZ%2BF9A8A%2BHPjP8SNI8O6RY%2BEIdU0HTtT08QeIJvDTWp0y7vGexaUTbbK2SX7O8EcqRKGT5Vx9A6x8OtI8W%2BB9d%2BHXxCvrnxHpPiKG%2BttStdUjhUNZXQdXsx5EcYMSxuY1LZkKgb3dssbn/CH6T/z96r/AODy7/8AjtH/AAh%2Bk/8AP3qv/g8u/wD47QB5n8Dv2PdL%2BBcmpazp3xz8d%2BINf1SHRbG68UeJp9NnvjpGlSSvaaSPLso4vsw%2B0XYZzGbljeTOZ/MKyLnfCX9ia4%2BD3jvx/wCP9B/ar%2BJd9dfEXUL2/wBZj1aDw/Kbe6mXy4JIZ10lbjbaRBIraGWWSGNEAaN%2Bc%2Bu/8IfpP/P3qv8A4PLv/wCO0f8ACH6T/wA/eq/%2BDy7/APjtAHkek/8ABP8A%2BAusHxBe/tHWR%2BNuo%2BJZ9PfU9R%2BLmg6RqACWCXCWccVrb2MFpCIftl4VZIA5N1KWdt3HF6d/wSf%2BDHgvwj8NfAnwT%2BL3jX4e6R8LdQ1DUvD%2Bm%2BE9P8PfZbnUrtjnULq3u9JnhluokaSOGUIpjWV8fMdw%2BkP%2BEP0n/n71X/weXf8A8do/4Q/Sf%2BfvVf8AweXf/wAdoA8pX9jJ4/2qpP2tIf2m/iINXm0ey0mTQJYNBm01dPg2tJaxebpbXNslzKPOuPInjaRwnzBYoVj2b79kT4Ra7pnxd0fxfHqOtW/xrZ08aJqF0oItDpcOmLZ27RIjQwLBCWUZLCWeaTdl%2BO9/4Q/Sf%2BfvVf8AweXf/wAdo/4Q/Sf%2BfvVf/B5d/wDx2gDxHV/%2BCfOh6/8ABX4h/CXWv2l/iZdap8UrRLDxl8QLh9EfWrrT1tPsi2KZ0z7HFCIGkXKWwk3TSyb/ADHL0zxn%2BwFe%2BONQ%2BG%2Bvan%2B2b8WI9U%2BGFldRaDqEdp4YkFxcTjZ9unt5tFe2%2B1xwFreOaKKMpE8oHzSys/uP/CH6T/z96r/4PLv/AOO0f8IfpP8Az96r/wCDy7/%2BO0Aee%2BL/ANlaH4h/FnSfiN4%2B%2BO3jjV9H0LXrbW9H8ATtpcWj22oQQ%2BXDPuhsUvZNjlphHJdNF5pB2YVVWto37JE2neKNd%2BI2q/tI/ELV/FupaHJo2heK9SXRvtXhiwedbh4LCKLTktsPJHCzvcw3Ekn2eEOzhFFel/8ACH6T/wA/eq/%2BDy7/APjtH/CH6T/z96r/AODy7/8AjtAHiT/8E9PB5gXxFH8ffiInjxfHR8Wn4nrPpJ1dtQOlf2PtMJ086d5H9n/6P5ItNgwJMed%2B9pdY/wCCevgvVvhFp37PUfx3%2BIdp4ATTJLLxP4Rt7nS2h8VCe6luryW/uJLBrtXupJpfO%2Byz26srkKqA17Z/wh%2Bk/wDP3qv/AIPLv/47R/wh%2Bk/8/eq/%2BDy7/wDjtAHkth%2Bwn8PLD40x/FpPiV4xk0yDxvP4ytPAEt3ZnRYNfmtZLaS/Ui1F4WKyyyeS1y0AlkMgiDBSNR/2MvhPc/CLxv8ACDUtR1q7g8feLL7xLrWtT3cX2%2BPUp7tbmCeGRYgim0MNrHb7kbZHZQB/MKszejf8IfpP/P3qv/g8u/8A47R/wh%2Bk/wDP3qv/AIPLv/47QBwHw8/Z/wBG%2BAvw98dTR%2BOvEHirW/F95ca14p8UeKHtftmpXg0%2BCyjZks7e3t4lS2s7aFUihjXEW4guzs2Z44/5SF/C/wD7Iz48/wDTt4Qr1E%2BDNDfCztfTJkExXGrXMiN7MrSFWHsQRXl3jj/lIX8L/wDsjPjz/wBO3hCgD2aiiigAooooAKK%2BY/21fif8eIvipH8Kvgv8aJvAI0f4P%2BJPHE%2BqW%2Bj2N4dSvLGayhtLSZbyGVRZgzzPcCLy523QhJocMW5v9qj9pf8AaO1/wL8Fbz9n%2B28YW2p/ELwrfeIdX8NfDa30KbxF5UWm286mL/hIFNiLSKe6ijnLYnLTWyxZLMpAPsCvGf2D/wDkiGuf9lm%2BI/8A6mut1qfAP46N4m/Y18CftE%2BPNYGvzav8PdI1rV9Q8FeG7%2B7S/mns4ZZZbOyihe7ZGdyyReUZQpAZQQQOd/4J0%2BIbDxb%2BzdfeKdKt76K21H4t/EO5t4tT0ueyuUR/GetMBLb3CJNA4B5jkRXU5DKCCKAPdKKKKACiiigAooooAKKKKACiiigAooooAKKKKACiiigAooooAKKKKACiiigAooooAKKKKACiiigAooooAKKKKACiiigAooooAK8Z/Zf/AOS3/tHf9lmsf/UK8L17NXjP7L//ACW/9o7/ALLNY/8AqFeF6APZqKKKACiiigAooooAKKKKACiiigAooooAKKKKACiiigAooooAKKKKACiuW%2BNvgix%2BI3wo13wbqWv69pcF3YkvfeGdfutLvo9hEg8q6tJI5oSSgUtG6sVLDIzXzM/xe%2BJ%2Bm/8ABFH4f/FdPiLq0PiHVvhH4L/t7xnNfNJf2sV9Hp0Oo6o1xIS3nRwT3FwZmJIZN5PBNAH2FX5y/wDBcz/iX/G34D%2BL%2Bn/CPW%2Bq6jv/ALu3xH4PTP8A5Er6f/YouNW0Pxr8avg3B4x17XvDfgT4mW%2Bm%2BFrzxL4hutWvLaGbw/pF/PZve3kktxciO5u52DSyOyCYRZxGqj5E/wCC5HinxV4luL2xvPhD4h0OLwr8J9fu9J17VbnTntNZ2%2BLfAxaS1W2u5Z0CKDu%2B0RQH5xtDfNjys9/5E2IfaDf3Wf6H3/hU1/xEvJ4vaeIpw/8ABjlTf/pw/TaiorK7h1Cyhv7ZsxzxLJGfVSMj%2BdS16u58C04uzCiiigQUUUUAFFFFABRRRQAUUUUAFFFFABRRRQAUUUUAFFFFABRRRQAUUUUAFFFFABRRRQAUUUUAFFFFABRRRQAUUUUAFeM%2BOP8AlIX8L/8AsjPjz/07eEK9mrxnxx/ykL%2BF/wD2Rnx5/wCnbwhQB7NRRRQAUUUUAedfH79k/wCA/wC09Hp6fGnwfdaidNtbu0gksPEF9pry2d2Ixd2Uz2U8TXFpOIYfOtZS8EvlR70bYuK/xM/ZB%2BBPxdttPh8a6Pr5m0m8vLjSdS0jxzq%2Bm31iLpQtxbw3VndRTxWrqqA2qOIMRoBGNi49NooAzPBfg3wp8OfB2k/D3wJ4ftdJ0PQdMg07RtKsYhHBZ2kEaxQwxqOFREVVAHQACvLP2D/%2BSIa5/wBlm%2BI//qa63Xs1eM/sH/8AJENc/wCyzfEf/wBTXW6APZqKKKACiiigAooooAKKKKACiiigAooooAKKKKACiiigAooooAKKKKACiiigAooooAKKKKACiiigAooooAKKKKACiiigAooooAK8Z/Zf/wCS3/tHf9lmsf8A1CvC9ezV4z%2By/wD8lv8A2jv%2ByzWP/qFeF6APZqKKKACiiigAooooAKKKKACiiigAooooAKKKKACiiigAooooAKKKKAMb4g/Dr4ffFrwdffDv4qeBNG8TeH9UjWPUtC8QaXFe2d2gYOFlhmVkkAZVYBgeVB6iue8Bfsu/szfCvwvL4H%2BGH7OvgTw3os%2BmzafPo%2Bg%2BEbKztZLSZi01u0UUSoYnYkshG1iSSDXdUUAYPw1%2BFfww%2BDHhC3%2BH3we%2BHGg%2BE9AtHdrTQ/DWjwWFnCzsXcpDAqopZiWJA5JJPNfF/wDwWf0X%2B3tNvLHZny/2bvH9zj/rjrfgybP/AI5X3dXx7/wU00b/AISDxLqWkqm5pP2S/iyY19XWfwsy/wDjwFcOZw9pltePeE//AEmR9TwNifqfG2V1/wCXE4d/%2BV6P%2BZ9L/AfWv%2BEj%2BB3gzxDv3fb/AApp1zu9d9tG2f1rq68n/YN1n/hIf2Ifg/rJfc0/wx0Iyn/bFhCG/wDHga9YrbCT9phKc%2B8Yv74xf6nm8Q4b6lxBjMP/ACVq0f8AwGrVj/7aFFFFdB5AUUUUAFFFFABRRRQAUUUUAFFFFABRRRQAUUUUAFFFFABRRRQAUUUUAFFFFABRRRQAUUUUAFFFFABRRRQAUUUUAFeM%2BOP%2BUhfwv/7Iz48/9O3hCvZq8Z8cf8pC/hf/ANkZ8ef%2BnbwhQB7NRRRQAUUUUAFFFFABXjP7B/8AyRDXP%2ByzfEf/ANTXW69mrxn9g/8A5Ihrn/ZZviP/AOprrdAHs1FFFABRRRQAUUUUAFFFFABRRRQAUUUUAFFFFABRRRQAUUUUAFFFFABRRRQAUUUUAFFFFABRRRQAUUUUAFFFFABRRRQAUUUUAFeM/sv/APJb/wBo7/ss1j/6hXhevZq8Z/Zf/wCS3/tHf9lmsf8A1CvC9AHs1FFFABRRRQAUUUUAFFFFABRRRQAUUUUAFFFFABRRRQAUUUUAFFFFABRRRQAV81ftdaL/AMJJ%2B0ho3h3bu%2B3/ALNXxOttvrvvPCi/1r6VrxL4l2MOqft8/DfTLkZjuPgl4/ikH%2By2q%2BEAf51FWHtKcod0196a/U6cFiHhMbSrreEoy/8AAZRl/wC2mP8A8EoNa/t7/gnN8Ir7fny/CMVtn/ri7w4/8cr6Fr5S/wCCJF9Pdf8ABMz4c2V2f3%2BnvrFnOM/dMer3igf987a%2Bra4Mmn7TJ8PLvTh/6Sv8j63xLw6wniNnNFbRxWI/9PVGv/Sgooor0j4kKKKKACiiigAooooAKKKKACiiigAooooAKKKKACiiigAooooAKKKKACiiigAooooAKKKKACiiigAooooAKKKKACvGfHH/ACkL%2BF//AGRnx5/6dvCFezV4z44/5SF/C/8A7Iz48/8ATt4QoA9mooooAKKKKAPOvj7%2B1f8AAf8AZij09/jR4wutNOpW13dwR2GgX2ovHZ2gjN3ezLZwStb2kAmh866lCQRebHvdd650vi9%2B0B8K/gboGmeIviBrd6Y9bv1stDstB0G91e%2B1OcxPN5dtZ2EM1xcERRSSt5cbbY43dsKpI8W/bW%2BGPx4k%2BKkfxV%2BC3wWm8fDWPg94k8Dz6Xb6xY2Z028vprKa0u5mvZ4lNmTBMtwYvMnXbCUhmywXk/jv%2Byv8Ub3QfgdqWl%2BBviR4gtfhJpepeGdc0TwL43tNA1jWYZdPt7eHU7e7Go2wSLzrONzGbmGYpMdyMA8LgH154e1yw8T6BY%2BJdKS5W11GziubZb2yltphHIgdRJDMqyRPgjKOqupyGAIIryX9g/8A5Ihrn/ZZviP/AOprrdbfwZ8D/HaX9k7wn4A%2BNPxSvtP%2BIqeDLC18U%2BLPD4s5riPVFgjFxPEbm2kt5GMgb5mgKNkkRrkAct/wTp0m/wBB/ZuvtE1XxPfa3c2fxb%2BIcNxrGpxwJc3zr4z1oGaVbeKKEO5G4iONEyTtVRgAA90ooooAKKKKACiiigAooooAKKKKACiiigAooooAKKKKACiiigAooooAKKKKACiiigAooooAKKKKACiiigAooooAKKKKACiiigArxn9l/wD5Lf8AtHf9lmsf/UK8L17NXjP7L/8AyW/9o7/ss1j/AOoV4XoA9mooooAKKKKACiiigAooooAKKKKACiiigAooooAKKKKACiiigAooooA8i/b6%2BIXjT4UfsUfFP4kfDzWZNM1nRfA2o3Vlq8MYZ9NKwNuvFDAqTAu6YbgVzHyCMivIvB3jK%2B%2BBHhr9qLwZoXxn8WXPhP4a%2BG4NW0LxPrmsXXifUdCuZdAa7uokmvZpJrvywkF4kEkjc3u1SsbRqv1re2VnqVnLp2o2kVxb3ETRzwTRh0kRhhlZTwQQSCDwQa5HwB%2Bzl%2Bz18KNIs9A%2BFvwI8GeGrDT2umsLLQPC9pZw2xuQouDGkMaqhlCIJMAbwi7s4FAHzX/wTA1L416F8S/HXwq%2BN%2BvX5v7f4f8AgvxBa6M3xQ1DxlaRrfLqscl%2BmpaiFnhmuZLNg9iim2hW1ikhkl%2B0SFfQL/xp4k8Q/wDBTbwX4d1b4R%2BIdCs9J%2BD3jhLDXtVudOe01oNq3hLL2y213LOgTaM/aIoD842hvmx658J/gR8D/gLpV3oXwM%2BDXhTwXY39z9pvrPwn4dttOiuJtoXzJEt0QO%2B0AbiCcACuE8cf8pC/hf8A9kZ8ef8Ap28IUAeY/wDBGf8A0D9lTX/CHT/hHviv4m07b/d23zPj/wAiV9aV8l/8En/%2BJZF%2B0R4Pbj%2Byv2nfFSwL6QyfZnT%2BbV9aV5ORaZRRXZNfdKa/Q/QPFT3vEPMan884z/8ABlHD1P8A3Iwooor1j8/CiiigAooooAKKKKACiiigAooooAKKKKACiiigAooooAKKKKACiiigAooooAKKKKACiiigAooooAKKKKACiiigArxnxx/ykL%2BF/wD2Rnx5/wCnbwhXs1eM%2BOP%2BUhfwv/7Iz48/9O3hCgD2aiiigAooooAKKKKACvGf2D/%2BSIa5/wBlm%2BI//qa63Xs1eM/sH/8AJENc/wCyzfEf/wBTXW6APZqKKKACiiigAooooAKKKKACiiigAooooAKKKKACiiigAooooAKKKKACiiigAooooAKKKKACiiigAooooAKKKKACiiigAooooAK8Z/Zf/wCS3/tHf9lmsf8A1CvC9ezV4z%2By/wD8lv8A2jv%2ByzWP/qFeF6APZqKKKACiiigAooooAKKKKACiiigAooooAKKKKACiiigAooooAKKKKACiiigArxnxx/ykL%2BF//ZGfHn/p28IV7NXzR8dviPD4L/4Krfs6eEriUAeL/hZ8SdNhQnrLHceFr0H6hLWT8Caic40480ttF97S/NmdSpClHmltdL72kvxaML/gnb/xKP2of2q/CHTyPi5DqOz0%2B12SPn8dlfWlfJf7IH/Em/4Ke/ta%2BHDwly3grUbdfXfpMqyH/voCvrSvMyXTA8vadRfdUn/mfonib73FKrf8/MPgp/8AgWCw36xCiiivWPz8KKKKACiiigAooooAKKKKACiiigAooooAKKKKACiiigAooooAKKKKACiiigAooooAKKKKACiiigAooooAKKKKACvGfHH/ACkL%2BF//AGRnx5/6dvCFezV4z44/5SF/C/8A7Iz48/8ATt4QoA9mooooAKKKKACiiigArxn9g/8A5Ihrn/ZZviP/AOprrdezV4z%2Bwf8A8kQ1z/ss3xH/APU11ugD2aiiigAooooAKKKKACiiigAooooAKKKKACiiigAooooAKKKKACiiigAooooAKKKKACiiigAooooAKKKKACiiigAooooAKKKKACvGf2X/APkt/wC0d/2Wax/9QrwvXs1eM/sv/wDJb/2jv%2ByzWP8A6hXhegD2aiiigAooooAKKKKACiiigAooooAKKKKACiiigAooooAKKKKACiiigAoryL9vr4heNPhR%2BxR8U/iR8PNZk0zWdF8DajdWWrwxhn00rA268UMCpMC7phuBXMfIIyK8p%2BHXjHxz8CNN/aZ8GfCfxP4i8a6f8NdCtdW8Ep4q8SXmvXUeqS6CbuTTjd3cstxMhdLa4EbyMV/tAhdqGNVAPrOvz3/4K4%2BLL34Zf8FDf2Nvi1b5W20LW/EUerzg48iyvL3w7ZTOfbFwB%2BNerf8ABM7x9rFzPqPw5%2BINn4ll8VXfw98MeMrvWtX%2BLd94qt9Us9TF8kNwEuAkOlXDS2lw0lpZxi1AMXkvIqYj8Y/4LDWPi74zeItZ8JP8IvEegnwf8BvGmt6H4l1G5057fVDZa74NvHmtFtruadAiQMG%2B0RQHEg2hucebnCm8rrOG6jzL1i1L/wBt/E8jP1UeS15U/ijFyXrBqf48lvmey/B3/iSf8Fj/AIyaX93%2B3PhR4e1HH97yZXt8/rivrSvh/X/iJb%2BH/wBvP9m79suxcR6H8dvhm3hLWZVP7uOeSKPU9P46b5JXMY74U19wVjk84uNeC6VJP5TUZxfzUj9V47lHG0MnzOk706%2BBw6T/AL1BVKE16pwh8pRfUKKKK9g%2BBCiiigAooooAKKKKACiiigAooooAKKKKACiiigAooooAKKKKACiiigAooooAKKKKACiiigAooooAKKKKACiiigArxnxx/wApC/hf/wBkZ8ef%2BnbwhXs1eM%2BOP%2BUhfwv/AOyM%2BPP/AE7eEKAPZqKKKACiiigD5G/4KC65rGp/FhfA%2BsfGrxP4F0HRPgN4x8ZafqHhjxVc6Q0mr2EumpHdTSQSJ9ojs452c20u%2B3f7TmaKQKu3jv8Agpj%2B1D8cvDn/AAT70qGxsfiJ4U17xh8JtS17xT408AeENYu5fDs1npMdz9jFxpsEraZNcXcsUYnmMSR28V64ljkjjNfYXxO%2BCPwX%2BNlvp1p8ZvhD4X8XRaPfrfaRF4n0C2v1sbpRhZ4ROjCKQDo64YetX5/h18Prnw5q/g%2B58CaNJpHiA3R17Sn0uI22pG5BFx9oiK7ZvNDMJN4O/cd2c0AYHgz4k32pfs96L8UvDfgrxL4juLnw1a3ttogs1sNUvWeJDsMWqPaiGU5JK3DREc5weK4P/gnTq1/r37N19req%2BGL7RLm8%2BLfxDmuNH1OSB7mxdvGetEwytbyywl0J2kxyOmQdrMME%2B421tbWVtHZ2dukUMSBIookCqigYCgDgADjFeOfsH/8AJENc/wCyzfEf/wBTXW6APZqKKKACiiigAooooAKKKKACiiigAooooAKKKKACiiigAooooAKKKKACiiigAooooAKKKKACiiigAooooAKKKKACiiigAooooAK8Z/Zf/wCS3/tHf9lmsf8A1CvC9ezV4z%2By/wD8lv8A2jv%2ByzWP/qFeF6APZqKKKACiiigAooooAKKKKACiiigAooooAKKKKACiiigAooooAKKKKAIr2ys9Ss5dO1G0iuLe4iaOeCaMOkiMMMrKeCCCQQeCDXKfDn9nn4A/B7T7DSfhH8DvB/ha10uW5k0y28OeGbWxjtHuAouGiWGNRGZQibyuC%2Bxd2cCuwooA5b4X/A34KfBC21Cy%2BC/wf8LeEIdWvDd6rF4X8P22nreXBGDNKIEUSPj%2BJsn3ryn4%2B%2BDNO%2BI/7ZXgz4eawAbTXvgB8RtOugRn93PqPhKJuPoxr3%2BvGfHH/KQv4X/9kZ8ef%2BnbwhSlGM4uL2ZM4xnBxkrp6P56fqfFWjaZ4u%2BLX/BB7QPE%2BlIV8c/AbVjqljkFjZ3mg6jKD7/LZBj%2BIr9G/hP8RtC%2BL/wu8OfFfwxJu07xLodpqlid2SIp4VlUH3AYA%2B4r5b/4J%2BaBpOifGb9q39kfxFZJNp9r8UZNcNhL902GvWYm8oD%2B5tjYYH94%2Btan/BH/AF/VtC/Z21/9l3xbevNrXwW8e6r4TuHm%2B/NaRzma1nx/caOXap7iKvlcmlKhWoqX26bg/wDHQk4/e4fkfV8MylnXgvCjJ3q5ZXS8/ZV%2BajL5RxGGpyfZ1fM%2BsKKKK%2BrPlgooooAKKKKACiiigAooooAKKKKACiiigAooooAKKKKACiiigAooooAKKKKACiiigAooooAKKKKACiiigAooooAK8Z8cf8pC/hf/ANkZ8ef%2BnbwhXs1eM%2BOP%2BUhfwv8A%2ByM%2BPP8A07eEKAPZqKKKACiiigAooooAK8Z/YP8A%2BSIa5/2Wb4j/APqa63Xs1eM/sH/8kQ1z/ss3xH/9TXW6APZqKKKACiiigAooooAKKKKACiiigAooooAKKKKACiiigAooooAKKKKACiiigAooooAKKKKACiiigAooooAKKKKACiiigAooooAK8Z/Zf/5Lf%2B0d/wBlmsf/AFCvC9ezV4z%2By/8A8lv/AGjv%2ByzWP/qFeF6APZqKKKACiiigAooooAKKKKACiiigAooooAKKKKACiiigAooooAKKKKACiiigArxnxx/ykL%2BF/wD2Rnx5/wCnbwhXs1eM%2BOP%2BUhfwv/7Iz48/9O3hCgDyL4m6jJ%2ByX/wVX8P/ABg8QRrH4M%2BPfhq38I3mo52rZeIrNi1kJT0xNCfJTuW3dApqv8Q9Xm/YQ/4KQt8avEUSxfDP9oaLT9E13VBlY9E8TWkbR2bzfwrHcRbk3cfPuZiAmW9z/bc/Zi0r9rz9mrxH8Fbq6FnqV1bi68NaqGKtp2qQHzLW4Vh8y4kADFeSjOO9eWfADXfCn/BUX9gHUvhP%2B0Roxg8RQpP4W%2BI%2BnMircaVr1mQrXCr0SQOsdwnUAttOcEV8xiMNVp4uVCm7Sbdak3tzLSpB%2BTvf0m39k9DgDPcFwvxRiMuzOLlgcfCcaiXxKE5QdRw/6eUasaWJpr7Vpwekm19V0V8u/wDBOf8AaL8a39trn7FP7TGsRj4tfCmRbG9lmkw3iPSQB9k1aHcd0geMoJDyQ21nwZMD6ir3cHi6eNw8asNL7p7prRxfmndP/Jo7eJOH8ZwxnNXL8S1Lls4zj8FSnJKVOrB9YVIOM4vzadpRkkUUUV1HhBRRRQAUUUUAFFFFABRRRQAUUUUAFFFFABRRRQAUUUUAFFFFABRRRQAUUUUAFFFFABRRRQAUUUUAFFFFABXjPjj/AJSF/C//ALIz48/9O3hCvZq8Z8cf8pC/hf8A9kZ8ef8Ap28IUAezUUUUAFFFFABRXkf7S37YXg79mfULLRdS%2BG/i7xbqFx4f1PxBfad4Ns7WabTdF0/yBeahMLm4gDRxm5hURRGS4lLkRQybH263xa/aGm%2BHXgvTPH/gb4JeMfiPpupafJqBm8CtphFtZrEsouHN/e2qurKw2JEZJH5whwaAPRq8Z/YP/wCSIa5/2Wb4j/8Aqa63Xpvw68feFfit8PtC%2BKPgXUvtmieJdGtdV0e88tk8%2B1uIlmik2sAy7kdTggEZ5rzL9g//AJIhrn/ZZviP/wCprrdAHs1FFFABRRRQAUUUUAFFFFABRRRQAUUUUAFFFFABRRRQAUUUUAFFFFABRRRQAUUUUAFFFFABRRRQAUUUUAFFFFABRRRQAUUUUAFeM/sv/wDJb/2jv%2ByzWP8A6hXhevZq8Z/Zf/5Lf%2B0d/wBlmsf/AFCvC9AHs1FFFABRRRQAUUUUAFFFFABRRRQAUUUUAFFFFABRRRQAUUUUAFFFFAHkX7fXxC8afCj9ij4p/Ej4eazJpms6L4G1G6stXhjDPppWBt14oYFSYF3TDcCuY%2BQRkV518DfHOpfs/a1%2B0J4U8O3/AI8%2BIvhb4Z2mnavoGmz61feJdalupdGF3c6TbT3Mk1zdSPst544Wd2DagFXbGY0X6dvbKz1Kzl07UbSK4t7iJo54Jow6SIwwysp4IIJBB4INcp8Of2efgD8HtPsNJ%2BEfwO8H%2BFrXS5bmTTLbw54ZtbGOze4CC4aJYY1EZlCJvK4L7F3ZwKAPmX/glH8bfHvxR8ffHbRPif408e6xrNn420vUJoPF3hHXdKs9IN5oWnzS6fp8WrWsBgtop2mWOEKsjR7J5FJuPMk9Dv8Axp4k8Q/8FNvBfh3VvhH4h0Kz0n4PeOEsNe1W5057TWg2reEsvbLbXcs6BNoz9oigPzjaG%2BbHvGleFfC%2BhatqevaJ4bsLO%2B1u5juNZvbWzSOW/mSFIUkmdQDK6xRxxhmJISNVHCgDyjxx/wApC/hf/wBkZ8ef%2BnbwhQB7NXxp%2B0x4G%2BLX7CH7QWu/t/8AwA8MT%2BJfBHimK3/4Xf4AsIh9pVYFKLrVkOA0kaEmVONw3MT8xeL7LoIDAqwBBHINceNwccZSSUnGUXeMlvGXfzXRp6NNp9GuDMcBHH0UlJwnF80JLeMldX7NNNqUXpKLafRr5l%2BN/wCz78Ff%2BCjHww8LftOfs5fFJdE8aabbC%2B%2BHHxS8P8T2rc5trheDJAWLJJBIMoS4wCXVqn7MP/BQiW48aJ%2Byp%2B3DpVp8PPjFYuIIobhjHpXipOiXmm3DfI4k/wCeJO8MSoBIZU5/xx%2Bxx%2B0b%2Bx94/wBa%2BOv/AATa1HTLnRdcvTqHi34Fa84h03UJyMST6bPwLGdgPuHEZOMnaiRi1pH7Rf7BX/BS3w1P%2Bzd%2B0r4Gg0HxnbTGHUPht8QovsGs6bd4ALWchKs7d1kgYMVxuVQcV4PtK1LFc2lLEPRp39lWt1T6S7P41tKM4pM%2Bx4e8QMur5fT4b4ypSdON/Y1YNe0otu7%2Brzn7tWjJ%2B9PCVZRaleVJ053lU%2Bu6K%2BNrP4Nf8FIf2Hozafs5%2BNrL47fDu0ObTwR491H7J4i0%2BAdIbbUceXOABgecBgYVU711Hwz/AOCtv7Kuv6%2Bnw6%2BOtxrPwc8ZKdtz4Z%2BJ%2BmPpu1s4LJdMPIeMn7rF1LAg7a9SGb4eMlDFJ0Z9p6Rf%2BGfwS%2B%2BL/unvYnw6zivRlishnHMcOtXLD3lViv8Ap7hn/tFNrq/Z1YJ7VGrN/UNFVdG1vRvEelwa54e1e1v7K5jD215ZXCyxSqejK6khh7g1ar1U01dHwMoyhJxkrNaNPRp%2BadmgooopkhRRRQAUUUUAFFFFABRRRQAUUUUAFFFFABRRRQAUUUUAFFFFABRRRQAUUUUAFFFFABRRRQAV4z44/wCUhfwv/wCyM%2BPP/Tt4Qr2avGfHH/KQv4X/APZGfHn/AKdvCFAHs1FFFABRRRQB88/tefs7ftA%2BO/iBD8Uf2b7rwg%2Bp6h8Ndd8Eazb%2BMtSurWG1gv5LWWHUoTb205nkt3t5M2rCJZxMP38Jjy2L%2B0N%2Bzz%2B1nr37O/g79l34E6R4LPhKw2aL43j1j4h3%2Bl32seG7W3WGC1hurfSrg20l0FC3JCbo4vMjhlLyCaL6gooA5lPAVn4l%2BElt8OvE%2BjHw/FNosFreab4M8RXdmun7Y1Bhs721FrOiIRsSRBCxVR8qZKjzH/gnT4esPCX7N194W0q4vpbbTvi38Q7a3l1PVJ725dE8Z60oMtxcO807kDmSR2djksxJJr3SvGf2D/8AkiGuf9lm%2BI//AKmut0AezUUUUAFFFFABRRRQAUUUUAFFFFABRRRQAUUUUAFFFFABRRRQAUUUUAFFFFABRRRQAUUUUAFFFFABRRRQAUUUUAFFFFABRRRQAV4z%2By//AMlv/aO/7LNY/wDqFeF69mrxn9l//kt/7R3/AGWax/8AUK8L0AezUUUUAFFFFABRRRQAUUUUAFFFFABRRRQAUUUUAFFFFABRRRQAUUUUAFFFFABXjPjj/lIX8L/%2ByM%2BPP/Tt4Qr2avGfHH/KQv4X/wDZGfHn/p28IUAezUUUUAFeaftFfsefsz/tYaINE%2BP3wf0jxAY4ylrqE0JivbUdf3NzGVmi55wrAHuDXpdFZ1qNHEU3TqxUovdNJr7mY18PQxVJ0q0FKL3TSafyaZ8fw/sT/t4fs2KV/Yu/bgbXNCgObPwF8a9PbU7eNe0aajDi5jjH3VRVAAxknGaxPiH%2B1J8fIfDr%2BB/%2BCg3/AASY1fxToyEi41X4fw2niuwmHQzC0fEsCj/aJYAZr7bory5ZRGEXHD1ZQX8rtOHpy1ObTyUkedh8sxOWVo1srxdXDyi7x5ZOSi%2BnKpPmjb%2B5UjbpY/LXwuf%2BCO2qeIZ7n9mr9tHx7%2Bzj4nabfeaRba7f6LbxzH%2BG4t9QRoGX1RZAv0r3PwKv/BTfS7IX37O37dXwR%2BPOkxLujHifTBaXLxdgs2lSOjNjje5wepr638e/Cf4WfFSx/sv4n/DTw/4jttu37Pr2jQXiY9NsqsK8H8cf8Eef%2BCcXjq7Op3H7Mml6ReBt8V34Y1C70toW9VW1lRB9NuPavMeS46g70ORf4JVKP/kq9pT/APJUfeR8TfE1xUMzeFzKK0/2qipzt/19cXVX/g9/doYA/be/b8%2BG37r46f8ABLnxHeQRff1b4aeMLPWROO7Ja/LKv0Zs06L/AILPfsj%2BH3WD43eFPid8Mpc7ZIvHnw4vrcxt6N5CzAUg/wCCS%2BjeFhu%2BDH7c/wC0H4OVP9TYWfxFa5sk9MwTRHdj3akk/Yx/4KSeF4zH4B/4Ks3d9bBSBp/jD4Uabe%2BYPRpw4f8AIc0X4kobKT9fYz/FOjL8Lj/124bxP/Iy4VcH1lg8bKH3QrqtH5X8rWPRPBP/AAUz/wCCf3xBCf8ACOfte%2BBEaTGyPVNejsHY%2Bm26MbZ9sZr1jwp8Svh147jE3gfx/omsowyH0rVYbgEeuY2NfEXjb9hz/gobr%2B9vFHgT9j34i5PzzeMvhpdW88nuGgQ7W9815P4r/wCCaHxrvJDP4p/4JLfA7WZVORL4E%2BKmp6Id3qgaVQvtkUf2vndL48Pf/tyovydRC/tfwoxHx0s0wr86GGxMV86dWlJ/cj9UKK/JX/hkT9p7wXxoX7AH7QHgtU%2B5N8Of2r7Sfb7okkbkfQk0vm/t2eB/%2BQX/AMN0afs6fa4dM8UY/Py9/wDWj/WWtD%2BJhZL0v/7dTQW8L638PPp0/Kvl2Nh97p%2B2j9yZ%2BtNFfksP2vf%2BCjfhD7/xt/aQt406W3jP9j2wCj6zQXbOw98Uf8PX/wBu3wp/x/8AxZ8Mzbev/CY/AnX7L/vr7GHx%2BFH%2Bt%2BXx/iU5x%2BS/zQf2ZwZU/gcTYB/45Yuj9/tsCrfefrTRX5MR/wDBer9ojw8wj8WeK/gBdP08u10LxjZsx9P39mwH41raf/wcPfECDH2r4M/DTWP%2Bwf8AEaew3fT7XZjH41S4yyF7za9Y/wCTZUeHcurP/Z87yyp6Zjho/wDpxUfxsfqjRX5oaV/wcRvKAdd/ZL0W3Hc2fxy0eb9GRK2rb/g4p%2BCtuu7xD%2Bz/AKvD/e/s/wAcaJdfli5XNbx4s4el/wAv0vVSX6GseDcyqO1HE4Op/gzDAS/LGI/RWivz703/AIOOv2NLqQW958Hfikr92s9K026Qf8Cjv/6V02l/8F/P2H9RAM/hT4mWgPe48G7sf9%2B5mrWPE3D89sTD73/8iay4B4sW1CMv8NfCS/8AScbL8j7eor48tP8Agup/wT3mAOoeL/FdgO/2vwPf8f8AfEbVo2v/AAXF/wCCYNwwiuP2kpLWQ/wXXgzWEI/H7Jj9a3Wf5G/%2BYmH/AIEl%2BdhLw%2B44n8GXVZf4Yqf/AKRUmfWVFfMth/wWR/4Jn6jj7P8AtX6Muf8Anvpd/F/6Hbitmx/4Krf8E6tQx5H7Xng1c/8APe/aL/0NRWsc4ymW2Ih/4HH/AOSFLw%2B49irvKcT/AOE9Z/lTZ9A0V4rZf8FIP2A7/Hkftk/DZc/89vF9pH/6G4rVs/26/wBiPUcfYf2xfhZMT2j%2BIOmk/l51arMMvltWh/4HH/5I4qnB/F1H%2BJluIXrh6/8A8pPVaK8/tP2sv2V9Qx9g/aX%2BH8%2Benk%2BMrFv5S1qWnx7%2BBeoY%2BwfGjwnPnp5PiO1b%2BUlarE4aW1SL/wC3o/5nBUyTO6P8TC1Y%2BtKqvzpo6yisW1%2BI/wAPL7/jx8eaLNnp5WqQt/Jq0rXVtKvv%2BPLU7ebPTyplb%2BRrVThLZr7ziqYfEUvjhJeqa/NIsUUUVRiFFFFABXjPjj/lIX8L/wDsjPjz/wBO3hCvZq8Z8cf8pC/hf/2Rnx5/6dvCFAHs1FFFABRRRQAUUUUAFeM/sH/8kQ1z/ss3xH/9TXW69mrxn9g//kiGuf8AZZviP/6mut0AezUUUUAFFFFABRRRQAUUUUAFFFFABRRRQAUUUUAFFFFABRRRQAUUUUAFFFFABRRRQAUUUUAFFFFABRRRQAUUUUAFFFFABRRRQAV4z%2By//wAlv/aO/wCyzWP/AKhXhevZq8Z/Zf8A%2BS3/ALR3/ZZrH/1CvC9AHs1FFFABRRRQAUUUUAFFFFABRRRQAUUUUAFFFFABRRRQAUUUUAFFFFABRRRQAV4z44/5SF/C/wD7Iz48/wDTt4Qr2avnD9o/V/jXo/7eHwnn%2BB3w/wDC3iLUm%2BEfjtbu08V%2BMLnRYI4P7U8JEuktvp96zvu2jYY1GCTvyApAPo%2BivGf%2BE4/4KF/9Gv8AwZ/8Pxq3/wAy9H/Ccf8ABQv/AKNf%2BDP/AIfjVv8A5l6APZqK8Z/4Tj/goX/0a/8ABn/w/Grf/MvR/wAJx/wUL/6Nf%2BDP/h%2BNW/8AmXoA9mor5x0n9o79u3WPjPr/AMDrf9lD4SLqnh3wvpGu3ly/x11TyJINRudSt4UQjwxuLq2lzlgVAAePBYlgvUf8Jx/wUL/6Nf8Agz/4fjVv/mXoA9morxn/AITj/goX/wBGv/Bn/wAPxq3/AMy9H/Ccf8FC/wDo1/4M/wDh%2BNW/%2BZegD2aivGf%2BE4/4KF/9Gv8AwZ/8Pxq3/wAy9cv4B/aO/bt%2BInivxv4Q0f8AZQ%2BEkNx4D8URaFqslz8ddUCTzyaVp%2Bph4tvhgkp5OowqSwU70cYwAzAH0dRXjP8AwnH/AAUL/wCjX/gz/wCH41b/AOZej/hOP%2BChf/Rr/wAGf/D8at/8y9AHs1FeM/8ACcf8FC/%2BjX/gz/4fjVv/AJl6P%2BE4/wCChf8A0a/8Gf8Aw/Grf/MvQB7NRXzj8Iv2jv27fjL4Uu/F/hz9lD4SW1vZ%2BKNb0KSO9%2BOuqK5n0vVbrTJ3G3www2NNaSMhzkoykhTlR1H/AAnH/BQv/o1/4M/%2BH41b/wCZegD2WSOOVDHLGrKRyrDINZGofDzwBq%2Bf7V8DaPdZ6/aNMifP5qa8x/4Tj/goX/0a/wDBn/w/Grf/ADL0f8Jx/wAFC/8Ao1/4M/8Ah%2BNW/wDmXqXGMt1cmUIT%2BJXOzv8A9nH9nnVM/wBp/AfwZc56%2Bf4XtHz%2BcdY97%2Bxd%2Bx1qef7S/ZO%2BGlxnr5/gTT3/AJw1if8ACcf8FC/%2BjX/gz/4fjVv/AJl65f4I/tHft2/Hj4MeEPjj4V/ZQ%2BElrpfjPwvp%2Bu6bbah8ddUWeGC7to7iNJAnhhlDhZAGCswyDgkc1lLC4WXxU4v/ALdj/wDImEsFgp/FSi/WMX%2BcTrbz/gnp%2BwZfZ8/9jD4WjP8Azy8B6fH/AOgxCsu7/wCCYv8AwT2vc%2Bd%2Bx14AXP8Azx8PRR/%2BggVf/wCE4/4KF/8ARr/wZ/8AD8at/wDMvR/wnH/BQv8A6Nf%2BDP8A4fjVv/mXrF5bl0t6MP8AwCP/AMiYSynKZb4en/4BD/5A566/4JNf8E47zPm/sieEhn/nlbyJ/wCguKzrn/gjp/wTRu/9b%2ByboYz/AM87%2B9T/ANBnFdl/wnH/AAUL/wCjX/gz/wCH41b/AOZeuX%2BN37R37dvwH%2BDHi/44%2BKv2UPhJdaX4M8L6hrupW2n/AB11Rp5oLS2kuJEjD%2BGFUuVjIUMyjJGSBzWbyjKXvh4f%2BAR/yMnkORy3wtP/AMFw/wDkTGuP%2BCKH/BMC6z5v7K1kM/8APPxJqqf%2Bg3QqlN/wQy/4Jby8p%2BzI0ZPePxprQ/8AbzFenf8ACcf8FC/%2BjX/gz/4fjVv/AJl6P%2BE4/wCChf8A0a/8Gf8Aw/Grf/MvUPI8le%2BGp/8AgEf8jJ8OcPP/AJg6X/guP%2BR5NP8A8EIv%2BCY0wwnwHv4/9zxpqp/9CuTVGf8A4IF/8EzpvufCLWY/9zxffn%2Bcpr2f/hOP%2BChf/Rr/AMGf/D8at/8AMvR/wnH/AAUL/wCjX/gz/wCH41b/AOZeofD%2BRPfC0/8AwFGsMjyen8FCK9E1%2BUkeGzf8G/P/AATZl%2B54A8SR/wC54suf6k1Vl/4N6v8AgnJJ9zw54uj/ANzxVJ/VTXqnxd/aO/bt%2BDXhS08X%2BI/2UPhJc2954o0TQo47L466ozifVNVtdMgc7vDCjYs13GznOQisQGOFPUf8Jx/wUL/6Nf8Agz/4fjVv/mXqHw5kD/5hYf8AgKOiOX4SHwxa9J1F%2BVVHz3L/AMG7v/BO6T7lr43T/d8Tj%2BsRqtJ/wbof8E93%2B5feP0/3fEsX9bc19G/8Jx/wUL/6Nf8Agz/4fjVv/mXo/wCE4/4KF/8ARr/wZ/8AD8at/wDMvUvhnh5/8wsPu/4JvGgofDOovSrXX5YhHzgv/Bup%2BwpD/wAePjn4oW3p5Hii2GPztDU0X/Bvf%2ByJbf8AHj8c/jPb46eR4xtVx/5J19E/8Jx/wUL/AOjX/gz/AOH41b/5l65fx9%2B0d%2B3b8O/FfgjwhrH7KHwkmuPHniiXQtKktvjrqhSCePStQ1MvLu8MAhPJ06ZQVDHe6DGCWVLhnh9bYaH3P/5IbpSlvVqf%2BDsR/wDNJ5RB/wAEE/2dLT/jx/ap%2BPsHp5Pjy1X/ANsqvW//AAQ%2B%2BEtl/wAeH7bX7SMHp5XxIgH8rOvcf%2BE4/wCChf8A0a/8Gf8Aw/Grf/MvR/wnH/BQv/o1/wCDP/h%2BNW/%2BZerXDuRragvvl/8AJmE8DQqfFKb/AO41f/5oPGIv%2BCMnhm1/48f%2BCgv7TcOOm34nIP5WoqT4B/sfD9k//goT4ORf2kfij8QV174M%2BMcD4k%2BKf7S/s/yNW8Lf8e37tPL8zzvn67vKj/u17H/wnH/BQv8A6Nf%2BDP8A4fjVv/mXqh4H8D/tWeMf2rPDnxu%2BN3w4%2BHvhnRvDPw98Q6HDD4V%2BId9rV1d3WpX2iXCMyXGkWKRRomlygsHdi0qALjJHRh8oy3C1VUpU7SXnL8nNr8CaWW4ShVVSCldd51JfhKrJfeme60UUV6R3BRRRQAUV8Pf8FUz8Dh8UNL/4ayOnjwb/AMKV8Yf8IR/a%2BPL/AOEu83Tvs/2PPP8AbHkb/sXl/wCk/wDHz5HO%2Bof2k/EvwV8S23wFl/4KEa/4V1D4d2fg/XrP4jt4luoJdJg8cRWWnLBDdcmNbpE/tsRIcOs2AgEvl0Afc9eM/sH/APJENc/7LN8R/wD1Ndbpv7I138f7L/gn58LLzxRoKap8Sk%2BFOgnV9P8AGOry2DT6p/Z8HnreXCW9w8Unmb/MYQyHfn5a8l/Ym8Z/t4QfBvWU0D9m74R3MB%2BLnxAaSS8%2BNmqQOJz4w1gzIFXw3ICiyl0R9wLoquUjLGNQD7Corxn/AITj/goX/wBGv/Bn/wAPxq3/AMy9H/Ccf8FC/wDo1/4M/wDh%2BNW/%2BZegD2aivGf%2BE4/4KF/9Gv8AwZ/8Pxq3/wAy9H/Ccf8ABQv/AKNf%2BDP/AIfjVv8A5l6APZqK8Z/4Tj/goX/0a/8ABn/w/Grf/MvR/wAJx/wUL/6Nf%2BDP/h%2BNW/8AmXoA9mor5x%2BLv7R37dvwa8KWni/xH%2Byh8JLm3vPFGiaFHHZfHXVGcT6pqtrpkDnd4YUbFmu42c5yEViAxwp6j/hOP%2BChf/Rr/wAGf/D8at/8y9AHs1FeM/8ACcf8FC/%2BjX/gz/4fjVv/AJl6P%2BE4/wCChf8A0a/8Gf8Aw/Grf/MvQB7NRXjP/Ccf8FC/%2BjX/AIM/%2BH41b/5l6P8AhOP%2BChf/AEa/8Gf/AA/Grf8AzL0AezUV4z/wnH/BQv8A6Nf%2BDP8A4fjVv/mXo/4Tj/goX/0a/wDBn/w/Grf/ADL0AezUV846T%2B0d%2B3brHxn1/wCB1v8AsofCRdU8O%2BF9I128uX%2BOuqeRJBqNzqVvCiEeGNxdW0ucsCoADx4LEsF6j/hOP%2BChf/Rr/wAGf/D8at/8y9AHs1FeM/8ACcf8FC/%2BjX/gz/4fjVv/AJl6P%2BE4/wCChf8A0a/8Gf8Aw/Grf/MvQB7NRXjP/Ccf8FC/%2BjX/AIM/%2BH41b/5l6P8AhOP%2BChf/AEa/8Gf/AA/Grf8AzL0AezUV4z/wnH/BQv8A6Nf%2BDP8A4fjVv/mXo/4Tj/goX/0a/wDBn/w/Grf/ADL0AezUV84/BH9o79u348fBjwh8cfCv7KHwktdL8Z%2BF9P13TbbUPjrqizwwXdtHcRpIE8MMocLIAwVmGQcEjmuo/wCE4/4KF/8ARr/wZ/8AD8at/wDMvQB7NRXjP/Ccf8FC/wDo1/4M/wDh%2BNW/%2BZej/hOP%2BChf/Rr/AMGf/D8at/8AMvQB7NRXjP8AwnH/AAUL/wCjX/gz/wCH41b/AOZej/hOP%2BChf/Rr/wAGf/D8at/8y9AHs1FeM/8ACcf8FC/%2BjX/gz/4fjVv/AJl65fx9%2B0d%2B3b8O/FfgjwhrH7KHwkmuPHniiXQtKktvjrqhSCePStQ1MvLu8MAhPJ06ZQVDHe6DGCWUA%2BjqK8Z/4Tj/AIKF/wDRr/wZ/wDD8at/8y9H/Ccf8FC/%2BjX/AIM/%2BH41b/5l6APZqK8Z/wCE4/4KF/8ARr/wZ/8AD8at/wDMvR/wnH/BQv8A6Nf%2BDP8A4fjVv/mXoA9morxn/hOP%2BChf/Rr/AMGf/D8at/8AMvR/wnH/AAUL/wCjX/gz/wCH41b/AOZegD2avGf2X/8Akt/7R3/ZZrH/ANQrwvR/wnH/AAUL/wCjX/gz/wCH41b/AOZesP8AYZ1D4k6n8Qv2hrz4t%2BE9D0TXW%2BNNp9r07w54hm1S0jUeDPDAQpczWlo7krtJBhXaSQCwG4gH0FRRRQAUUUUAFFFFABRRRQAUUUUAFFFFABRRRQAUUUUAFFFFABRRRQAUUUUAFfK/7T37Wnxc%2BGHxj8Wa14B8O%2BD5PDHwf8P%2BH73xqda0i4m1XVLfV7%2BVLmCwuI7iNLLyLazjuMyRTi5kKRkQ%2BX5p%2BqK8Z%2BM/7EPw4%2BN3xSPxM1zxz4q0uLUbXSLXxf4a0a6tU07xTBpd7Je2MV8stvJMFjmmlz9nlgMschimMsYVAAezUUUUAFFFFAHzH4c/aV%2BJkP7f/ij4P/EbWPD3hPw2viC00TwZFqPwi1lLrxjANAg1HEHiNrtdOaWO7udQAtBC8nl2kwCgs0i/TleV%2BLP2WoPH/wAZNI%2BKfj343%2BNdX0rw9rsetaB4AuDpkWjWOoR27wRzhobJL2XZ5kkipNdSRiR92z5EC%2BqUAFFFFAHi/wDwUF%2BLvxw/Z%2B/ZH8afHr4BXvhSPWPBOhXeuXUHjDRbm%2Btru0tbaWZ7dEtrq2ZJXZEUSFyqAsSj8CvP/Hn7Wnxc8F/HjxbqfhTw74Qi%2BHnhD4x%2BEfh94ys5tIuDreq6rrsGipHqEN2lwsMccH9uaTGYpLeV5EhnxLHtQV7D%2B1j%2BzjZftafAjXv2fda%2BKvinwjpPieylsdcv/CC6d9rubKWJ4prbdf2l1GiOr8siLICo2uvOeLg/YB8HT/EWz%2BIvir44%2BPtdY6zpOueJtG1CXSorHxPrmmJGljq17HbWETLcRCC0wts0EDGxti8TGPJAPe6KKKACvF/2yfi78cPgla%2BAfGPwsvfCn9jah8TPDnh7xfY%2BINFubm6ubXVdZsdNBs5YbqFLaSNbmWTfIk6koi7OSa9oryr9q79lt/2qvDeheF5/j7438DW%2BheJLDXUbwXDo7Pd3tjeQXlm0p1LT7wbYri3jcLGEDcrJvU7QAecfs8/tK/EzW/2qvFvwR%2BKGr%2BHvCenQ%2BKdbt/BPhKT4Razplzr1tC6Sm/t9auLv7BqDsZJpZYraAvyXYrhifpyvJdJ/ZRD/ABk0X4y/Ef8AaA8d%2BNZvC93eXfhPQvEI0mGw0e6ubeS1kuIlsNPtpZX%2BzzTwr58kqos77QCQR61QAUUUUAeH/t3fFz48fs/fBrV/jr8KPGPgWx0/wtotzeXui%2BLPDN7f3PiG9yi2emWcltewfZ5riUi3RvKumaWeILCx%2BVvP/gj%2B198Z9c%2BJfgr%2B1vBnhLSPhp43%2BJ/ij4beFfDWnaXNHq%2BiX%2BgQ6tvnnuRcNbzQSN4f1NFhjt4jGrWx8yTLAen/ALSv7IMH7SXjzwR8QJv2gfHfhC58A3dze6LY%2BGItGns5L2VBGt5NBqenXiPPDH5iwyAKYxPKR8zZFXwH%2Bw18PfAfxlt/i7D8RfF2pQadrup69onhDUrmy/snStb1GN49Q1SBIrVJ/PnE92WV5nhRr65McUfmcAHtdFFFABXy/wDtc/Hj9pf4LfETT/CmlQ%2BAPGuj%2BOYdattF%2BHMXg%2B%2Bk1hLW00O6u5L%2B4nF68V1bC6it7aSEWsQP2%2BFBMZGRJPqCvDpv2JriP9o/xX%2B01on7VfxL07V/Fumw6dc6XDB4fntNPs4YGjhtrNrnSZbm3iWV3utizbXncu4cHbQAz9hD9oPxv8e/h7eXXxX8faNfeLtOFm2v%2BG7L4Xav4RvNAee2WUQXNlq91PcOC2/y7gBI5FQ7Q20mvdK83%2BB37N2nfBnxP4k%2BIesfFLxT448VeK4rG31jxP4uawW5e0sxN9ltUi0%2B1tbaOKNrm5cbYQzNcSFmbIx6RQAUUUUAfHP/AAUE/bj%2BKn7GHjn%2B09c0XQPGPhF9G1HW7fwrL8OdTspbdNN0a%2B1JJP8AhIprp9Mnu/temjZYrAl0I5llA2wtI3r37NHxd%2BOerfFTxv8As9ftHXPhTUPE/hHSdD1qPWvBWkXNhY3NjqgvI0iMFzc3LrLFcaddqX83EiGJtkZJUVvjr%2Bwl4I/ac1q6tfj/APFvxr4o8F3MlxIvwyvJNNh0WKSaxmsmbfb2Ud9IBHcTMElunQO%2B7b8iBen/AGfP2ZtI%2BAd5r3iK7%2BKHizxx4j8SGzj1bxV41uLN76W2tIjFa2o%2Bx21vCsUQeVhiPezzyu7Ozk0AelUUUUAFfEf7U/7ZX7Wfwb%2BNXiD4UeDvDfhzxrqdhotxrvhgJ8D/ABBHJooGo6ZaoYW%2B3OPE0gsdUuPO/svynhaErKIxMI6%2B3K8P179i3U/Evj0/E7Wv2ufijNrenwXkXg28KaAB4VW6mhkn%2ByRjSdk7NHAtvuvVumWJnClXdnIB1X7LHxYf4yfCODxZe/EzRvFV/DqN1ZapfaN4MvvDotriKVla1m03ULie6s54xhXjmcPn5tqhgK9GrhvgH8BfD3wA8M6no2leKdb8Qajr%2BvXGt%2BJPEniOaBr3Vb%2BYIjTyi3ihgTEcUMSpDFHGqRIAowSe5oAKKKKACiiigAooooAKKKKAPl39pr9sb42/Cv4p%2BMX%2BHmmeFm8G/CbRfDep%2BO7bWdNuZtR1iPVL64imjsZo7mOO0a2tbfzw0kVwJ5JRFiEKZDH%2B2B%2B1b8YPgB4h8cWPwI8N%2BD4tH%2BEnwml%2BJvj601vSZ5ZtbtprnUH%2Bw2LwXEKWlxIumajI1zKs6%2BY8OYjudh6B8Z/2Ifhx8bvikfiZrnjnxVpcWo2ukWvi/wANaNdWqad4pg0u9kvbGK%2BWW3kmCxzTS5%2BzywGWOQxTGWMKgpfG79g3wN8friO68c/F3xvG9/4Wfwx43/s2fToV8ZaG8xmOnaiv2IqIsvOu61FtKEuZ1EmJGoA9wgniuYEuYWykiBkOMZBGRT6KKACiiigAqj4o8Q2HhLw1qPivVQ5tdMsZru5ES5by40LtgdzhTV6o7u0tb%2B1lsb23SaGaNo5opVDK6kYKkHggjjFAHzT%2ByJ%2B0n8a/jT4p0TwZ%2B0n4e8GTDxr8LdK%2BI3hSHw3pVxENKjkuEL6fcm4uJhdTW7yWTpeRiASMXIgi8tS3RfBz4zftBf8ADV%2Bs/s3/ABb8QeB/E8Nn4ITxDdaj4J8OXmnN4cllvPJtrC8%2B0Xt0Lh7iMTyRSL5BxZSkxAOhFn9n/wDYX8Ifs56xa614T%2BMvjrVJNM0XT9A0NPEFzp1wNM8P2RmMGjQlbJGNvumBaaQveSeRCHuWEYFWf2Wv2OV/ZZ1jxFqem/tHfEDxjF4p1W71XWLTxnDojmfULiRGa7e4s9MtrmV1RFgjWSZ444ESJUCxxhAD2aiiigAooooAK8i/ai%2BLnxX8HeJfh58IPgbc%2BHrHxP8AEPxLdWMWt%2BKtIn1Cx0u0tdNur6aZrWC5tpLh2MEUKoJ4wPPMhYiPY/rtef8Ax%2B/Z80j49Wfh%2B5Hj/wAReEde8J64dW8M%2BK/CjWn27TrhrWe0l2re29xbypJb3M8bJLC6/OGADojqAeceFP2ur/XP2R/Dn7Qdv8PNMb4k%2BNVj8N6T4btpD5eoeIYp7m3%2ByrNjzDZRTR3lw0hBaK1jnm25Vge2/Ym%2BMnjT9of9kX4cfHL4jWulw694r8H2Op6xFoltJDZrcyxK0ghjlkldI9xO1WkcgYBY9ao6R%2Bwt%2BzX/AMKe0f4AfEf4b6T8QfBvh0WraB4f%2BImg2Grw2E8MDQtdKZrcs9xL5k0kk0hdy88u0qrba3/2W/2Z/hR%2Bx78BfDf7OXwU0RLHw74YsFtrJfs0EUk5yS883kRxxtNIxLu4RdzMSRk0AegUUUUAFFFFABXy7qX7Y3xttf2gLuWDTPC3/CsdP%2BM1n8NLmwfTbk63LeXGmwTjU1uvtPkLEt5cxW32U25Yxq8/ng4hr6irxHxF%2Bwp4B17403fxktvih4y01LzxEviWTwnY3FgdJXxCmmjTYtYCTWjzGeO3WIrE0ptTLCkzQNIC5AOD8T/ts/8ACOftkTfst%2BFvGPhXwX4Y8FXvh3R9WTVvh5quoC/u9SVHt7KK%2BtJobHRFaOS2gt3uvN%2B0TytHHGPKAk%2Bqq8T%2BIf7DHw/%2BJXxJHxB1r4keLre3v7zQr3xb4asJ7GPT/FF5o9wlxYXN7m0M6ukkcO4W0sCSrCiSK6Ltr2ygAooooAKKKKAPMP2tvjJ4y%2BDHwwsL74a2emS%2BJfEnjDRfDWgSa3BJLZWtxqF/DbG6njikjeWOGOSSbylkjMpiEYePfvXynX/2t/iroX7HnxI%2BLninwh4W1X4g/CHxZqOizz2umzJps1zDKkSajb2rzvOC1leJIbNJ2md2kto5XLq7e5/Hj4JeGv2gfh1L8O/E2sanpe3UrHU9L1rRJo473S9QsrqK7tLuBpY5I98c8MbbZEeNwCjo6MyngI/2DvAMnwW1j4I6v8VfGt/aa9qf9tanrVzc2CajLr41NdTTWhLFaIq3SXMcBSMILVEtoo1twilSAH7CH7Rvj39pDwH4t1X4h/2fLd%2BGPHVzoVvf2fhO/wDD0t7DHaWlwJbjR9SllvdKlDXLp5Fw2%2BSOOK4UCO4jFe41wHwC/Z90b4CWfiOeLx14g8Va34w8Rf234p8T%2BKHtftmo3gtLayjZks7e3t4lS1s7aFUihRcRbiC7Ozd/QAUUUUAFFFFAHi/xu%2BLvxw%2BG37VXwb8FaFe%2BFJPAfxC12/0PWrK70W5fV47uHRNV1NLiC6W6WGOLNhDGY2t5GbzHIdMCuH/bE/ah%2BM3wR8ZeMrP4AeHPByp4A%2BFNx8SvHo8RaVPNNr8MbSwwafbSQXEItp5IdOulN3KLhY9luvkupJX0X48/so3Xx1%2BLXgL4tD9o7x74Tk%2BHeqvqejaL4Yt9EayuLuS1urOWWf7dptzM2%2B1vJ4CqSooVgyhZFEgyPjp%2Bwj4K/aDaKbxt8YPHFtNd%2BF7vwx4vn0i406BvFehXMwlk0y%2BH2IqsX30WS2FvOiTShZR5jkgHtWk6na63pVrrNizGC7t0mhLLglHUMMjtwasU2OOOGNYYY1REUBVUYAA6ACnUAFFFFABRRRQAUUUUAFFFFABRRRQAUUUUAFFFFABRRRQAUUUUAFFFFABRRRQAUUUUAFFFFABRRRQAUUUUAFFFFABRRRQAUUUUAFFFFABRRRQAUUUUAFFFFABRRRQAUUUUAFFFFABRRRQAUUUUAFFFFABRRRQAUUUUAFFFFABRRRQAUUUUAFFFFABRRRQAUUUUAFFFFABRRRQAUUUUAFFFFABRRRQAUUUUAFFFFABRRRQAUUUUAFFFFABRRRQAUUUUAFFFFABRRRQAUUUUAFFFFABRRRQAUUUUAFFFFABRRRQAUUUUAFFFFAH/2Q%3D%3D\">"
            ]
          },
          "metadata": {
            "tags": []
          }
        }
      ]
    },
    {
      "cell_type": "code",
      "metadata": {
        "colab": {
          "base_uri": "https://localhost:8080/"
        },
        "id": "rFCFffp7eGUN",
        "outputId": "af88a07f-4553-4658-ee69-456ac5715c07"
      },
      "source": [
        "input_X = tf.placeholder(tf.float32, shape=(None, 784), name='input_X')\n",
        "input_y = tf.placeholder(tf.float32, shape=(None, 10), name='input_y')\n",
        "hidden1 = tf.layers.dense(input_X, 256, activation=tf.nn.sigmoid)\n",
        "hidden2 = tf.layers.dense(hidden1, 256, activation=tf.nn.sigmoid)\n",
        "logits = tf.layers.dense(hidden2, 10)\n",
        "probas = tf.nn.softmax(logits)\n",
        "classes = tf.argmax(probas, axis=1)\n",
        "loss = tf.reduce_mean(tf.nn.softmax_cross_entropy_with_logits(labels=input_y, logits=logits))\n",
        "step = tf.train.AdamOptimizer().minimize(loss)"
      ],
      "execution_count": null,
      "outputs": [
        {
          "output_type": "stream",
          "text": [
            "/usr/local/lib/python3.7/dist-packages/tensorflow/python/keras/legacy_tf_layers/core.py:171: UserWarning: `tf.layers.dense` is deprecated and will be removed in a future version. Please use `tf.keras.layers.Dense` instead.\n",
            "  warnings.warn('`tf.layers.dense` is deprecated and '\n",
            "/usr/local/lib/python3.7/dist-packages/tensorflow/python/keras/engine/base_layer_v1.py:1719: UserWarning: `layer.apply` is deprecated and will be removed in a future version. Please use `layer.__call__` method instead.\n",
            "  warnings.warn('`layer.apply` is deprecated and '\n"
          ],
          "name": "stderr"
        }
      ]
    },
    {
      "cell_type": "code",
      "metadata": {
        "colab": {
          "base_uri": "https://localhost:8080/",
          "height": 309
        },
        "id": "dKOQ9aVyhBCL",
        "outputId": "fd657f90-0522-4c67-f267-6ce4d1e5ee88"
      },
      "source": [
        "with tf.Session() as s:\n",
        "    s.run(tf.global_variables_initializer())\n",
        "    BATCH_SIZE = 512\n",
        "    EPOCHS = 40\n",
        "    simpleTrainingCurves = SimpleTrainingCurves(\"cross-entropy\")\n",
        "\n",
        "    for epoch in range(EPOCHS):\n",
        "        batch_losses = []\n",
        "        for batch_start in range(0, X_train_flat.shape[0], BATCH_SIZE):  # data is already shuffled\n",
        "            _, batch_loss = s.run([step, loss], {input_X: X_train_flat[batch_start:batch_start+BATCH_SIZE], input_y: y_train_oh[batch_start:batch_start+BATCH_SIZE]})\n",
        "            # collect batch losses, this is almost free as we need a forward pass for backprop anyway\n",
        "            batch_losses.append(batch_loss)\n",
        "        train_loss = np.mean(batch_losses)\n",
        "        val_loss = s.run(loss, {input_X: X_val_flat, input_y: y_val_oh})\n",
        "        simpleTrainingCurves.add(train_loss, val_loss)"
      ],
      "execution_count": null,
      "outputs": [
        {
          "output_type": "display_data",
          "data": {
            "text/html": [
              "<img src=\"data:image/jpeg;base64,/9j/4AAQSkZJRgABAQEASABIAAD/2wBDAAIBAQEBAQIBAQECAgICAgQDAgICAgUEBAMEBgUGBgYFBgYGBwkIBgcJBwYGCAsICQoKCgoKBggLDAsKDAkKCgr/2wBDAQICAgICAgUDAwUKBwYHCgoKCgoKCgoKCgoKCgoKCgoKCgoKCgoKCgoKCgoKCgoKCgoKCgoKCgoKCgoKCgoKCgr/wAARCAEgA2ADASIAAhEBAxEB/8QAHwAAAQUBAQEBAQEAAAAAAAAAAAECAwQFBgcICQoL/8QAtRAAAgEDAwIEAwUFBAQAAAF9AQIDAAQRBRIhMUEGE1FhByJxFDKBkaEII0KxwRVS0fAkM2JyggkKFhcYGRolJicoKSo0NTY3ODk6Q0RFRkdISUpTVFVWV1hZWmNkZWZnaGlqc3R1dnd4eXqDhIWGh4iJipKTlJWWl5iZmqKjpKWmp6ipqrKztLW2t7i5usLDxMXGx8jJytLT1NXW19jZ2uHi4%2BTl5ufo6erx8vP09fb3%2BPn6/8QAHwEAAwEBAQEBAQEBAQAAAAAAAAECAwQFBgcICQoL/8QAtREAAgECBAQDBAcFBAQAAQJ3AAECAxEEBSExBhJBUQdhcRMiMoEIFEKRobHBCSMzUvAVYnLRChYkNOEl8RcYGRomJygpKjU2Nzg5OkNERUZHSElKU1RVVldYWVpjZGVmZ2hpanN0dXZ3eHl6goOEhYaHiImKkpOUlZaXmJmaoqOkpaanqKmqsrO0tba3uLm6wsPExcbHyMnK0tPU1dbX2Nna4uPk5ebn6Onq8vP09fb3%2BPn6/9oADAMBAAIRAxEAPwD9/KKKKACiiigAooooAKKKKACiiigAooooAKKKKACiiigAooooAKKKKACiiigAooooAKKKKACiiigAooooAKKKKACiiigAooooAKKKKACiiigAooooAKKKKACiiigAooooAKKKKACiiigAooooAKKKKACiiigAooooAKKKKACiiigAooooAKKKKACiiigAooooAKKKKACiiigAooooAKKKKACiiigAooooAKKKKACiiigAooooAKKKKACiiigAooooAKKKKACiiigAooooAKKKKACiiigAooooAKKKKACiiigAooooAKKKKACiiigAooooAKKKKACiiigAooooAKKKKACiiigAooooAKKKKACuN%2BOP7QHwm/Zx8JW/jT4veJ5dPtL7U4dN0u2stLub%2B91K9lDGO1tLO0jluLudlR2EUMbvtR2xhWI7KvFv2u/gP8VPiX4h%2BGfxl%2BBd14fl8X/CrxjPrWmaJ4tu57bTdYhudLvdMubaW4ghmktH8q9aSOdYZtrR7TGyu2ACjpH/AAUr/Y71rxm3w8tvHviCDW7fSodU1bTtR%2BHOvWkmi2EhuAt3qXn2SDTIAbWcNLdmFEKYYqWUGbwn/wAFH/2NfGfg/wAQ%2BOtM%2BLFza6f4Y0e11fVBrnhPVdMuJNPuXMdreWtvd2sU19bzyAxwy2ySpM5CRlmIB86vP2GPjP8AHW0/aRP7Qt74V8My/tB/CPTvBskfgrWLrUzo7RWusWsr%2BbcWtqZ1VNRiZDsXeyygogxuy9Y/Y2/at%2BM%2Btaz8UP2lPh38G9X1e0%2BE6eBtB8E6d4n1QaRrSy6jaXt5fXd2bBJ9PYmyg%2BzxQw3BtnDP50hIwAeyX/7fP7N2k%2BAbH4h6tdeOLSHVPED6Jpeh3Xwj8SR67e3yW5uXjh0dtPGoShYAZTIluUCKzFsA49P8JeOfDfjbwTY/EPRbi5i0rULBbyCTVNPnsZY4iu7MsFykcsDAfeSRVZSCGAIIr41tv2Gf2tJfgpJ4W8feGPCnjS%2Bh%2BIcut%2BC9B1n9ofxXb3fgOxOmxWoi0/xbHp7atcSGUXcreZDGBHeGENsjGfUvB/7Bmq%2BKfgJo3hb9pz46%2BOPEfj5PhtdeFtf8Q6T8Q9at9Muhc2tzbyTPpa3SWN5MiXTBbq4tmmdoopWKuibADc8Mf8FJP2MvF/h7xJ4s0b4tXK6Z4W8GXni6/vr7wlqtpFe6BaruuNU09p7VBqtogK5nsvPQmSMAkyIG4n40f8FdP2YfAf7M/wATf2gfhW%2Bs%2BM7v4b%2BDYfEjeGW8L6xps2r2Nw7R2t3avNYFrixlkRh9vgjmtkVWdnCqSPHfC/8AwSh%2BNC/BPxf8LPFnh3w9J4h/4UL4j8A%2BC/Hmo/tD%2BNvECSXGpWEdp5h0jVUkttGtpDDE8scEl0yeVGqFggz6P%2B1L/wAE5vih%2B0BYeKtE0Pxj4d0q2179le%2B%2BGlrLM87GDVpLiOWGdo1iANqNhBIbzBnhO9AHqkv/AAUU/ZZt/E3hrwJeav41tvEni7TpdQ0HwpefCTxLDq8tnFd/Y5LmSwk08XNvCkxG6SaNEVGWUkRsrmXwN/wUT/Y7%2BJGqarpXhD4tyXB0rQ9Q1lbufw1qVvaapp1iwS8u9NuZrdYdVhhYqHeyedVLqCfmGcXwR8APjz4x/apsf2oPjn4f8HeH5JPg5f8Ag/VNE8J%2BK7vVTBcy6tHcpJDcz6fZl4mgiUsTGjJIdoV1USHwGb9hz9pf4bfs8%2BF/Cnxo1rwIPCP7N3wP8SaB4L1PwrfXcmpeKd2hHTLe4vbeW2ii04JZozSQxS3QknZXDxqgQgH0D4U/4Kl/sL%2BNPBus/ELQ/jLdrouheDj4tutRv/BmsWcdzoIKB9Vs/PtEN/ZxmRBJPbCWOLcPMZc167a/GD4c3vxcuPgVZ%2BIxN4qtPDUGv3emRWsrCHTp55beGd5QnlL5ksE6ohfe3kyEKQjEfFX7I/7P3xC8WfBL4Q/Hb9t/Uvhlovww%2BG/7L9z4fgk07W5wmr6bqmnaWby%2B1X7VBDDpkEVppyq0CS3CZleRplWNVrsP%2BCK3wr8d6P8As76n8evit4tbxFrHjW%2Bg03w54hlgaOS%2B8I6JF/ZWiXBD8/6VDDNqhPd9WcgKCFAB9lUUUUAFFFFABRRRQAUUUUAFFFFABRRRQAUUUUAFFFFABRRRQAUVzOsfGn4OeHvidpPwS1/4s%2BGbHxnr9pLdaF4RvNet4tU1GCNXaSWC1ZxLMirHIWZFIAjYkjacJ8Qvjb8GfhHqOi6R8Vvi54Y8MXfiS/Fl4dtfEOv29lJqt0SoEFsszqZ5Mug2JlssOORQB09FFFABRRRQAUUUUAFFFFABRRRQAUUUUAFFFFABRRRQAUUUUAFFFFABRRRQAUUUUAFFFFABRRRQAUUUUAFFFFABRRRQAUUUUAFFFFABRRRQAUUUUAFFFFABRRRQAUUUUAFFFFABRRRQAUUUUAFFFFABRRRQAUUUUAY/xA%2BInw/%2BE3g6/wDiJ8U/HWjeGfD%2BlxCTU9d8QanFZWdohYKGlmmZUjBZlGWIGSB3qve/Fn4V6b8NF%2BNGo/Evw/b%2BDm0qPU18WT6zAmmGxkRXS6F0X8ryWRlYSbtpDAg4NVfjd4i8PeEvhPrviLxToWqanZWtkWkstF8NXesXUjlgI/Ks7OGaeZg5U4jjYrjdwFJHzz%2ByV8d9M%2BE//BLr4fXfiX4B/FLVNZ8AfBbRU1XwL/wqXWotWub%2Bwsre3eygtrq0jMs/2lMIBwQPNB8tTIAD6U%2BHPxP%2BGnxi8JW/j74R/EPQvFOhXbOtprXhzVob60mKMVcJNCzIxVgVODwQQa8z%2BPXj/wDaL/4aL8C/Aj4C%2BM/BXh9Nf8FeJde1fU/F/gu71ok6dd6Hbwwwx2%2BpWPlhv7UlZmZnz5aABeScj/gndYXV78LvFPxT8T2er2nivx/46uPEPjTT9S8FaroUFhqD2dnbpaWkGqWttPPBDa21pEbrywtxNHPLhGd40ydbuPilo/8AwVU%2BH1j468Y%2BHdQ0PVfgz4%2BfwtY6V4Zns7uwWPVvB5kS5uJL2ZLwsGBDJDb7dhyG3Dam0ty4QlUdo9m/u1Z1/wDwg/8AwUL/AOjoPgz/AOGH1b/5qKP%2BEH/4KF/9HQfBn/ww%2Brf/ADUV7NRTIPGf%2BEH/AOChf/R0HwZ/8MPq3/zUUf8ACD/8FC/%2BjoPgz/4YfVv/AJqK9mooA8Z/4Qf/AIKF/wDR0HwZ/wDDD6t/81FH/CD/APBQv/o6D4M/%2BGH1b/5qK9mooA8Z/wCEH/4KF/8AR0HwZ/8ADD6t/wDNRR/wg/8AwUL/AOjoPgz/AOGH1b/5qK9mooA8Z/4Qf/goX/0dB8Gf/DD6t/8ANRR/wg//AAUL/wCjoPgz/wCGH1b/AOaivZqKAPGf%2BEH/AOChf/R0HwZ/8MPq3/zUUf8ACD/8FC/%2BjoPgz/4YfVv/AJqK9mooA8Z/4Qf/AIKF/wDR0HwZ/wDDD6t/81FH/CD/APBQv/o6D4M/%2BGH1b/5qK9mooA8Z/wCEH/4KF/8AR0HwZ/8ADD6t/wDNRR/wg/8AwUL/AOjoPgz/AOGH1b/5qKta/wDG/wDZE%2BFNppGk/HT4w/Dnw5rmoaLBqBtvF3iGwtLu4jkyPP23Dq7IzpIA3TKMM8EDN/4a/wD%2BCcH/AEdF8Ef/AAttH/8Ajtc08Zg6cnGdWKa6OUU/uckz2sPw3xJi6Ea1DA15wkrqUaNaUWu6lGjKLWj1Ta03LH/CD/8ABQv/AKOg%2BDP/AIYfVv8A5qKP%2BEH/AOChf/R0HwZ/8MPq3/zUVX/4a/8A%2BCcH/R0XwR/8LbR//jtenaBovws8V6FZeKfC2k%2BH9S0zUrSO607UdPggmguoJFDxyxyICroykMrKSCCCDg1dLE4eu2qc4yt2kn%2BTZz47Js5yuEZ43C1aSk7J1KdSmm97JzpwTdtbJt21tbU85/4Qf/goX/0dB8Gf/DD6t/8ANRR/wg//AAUL/wCjoPgz/wCGH1b/AOaivPPh9/wUa/Yv8X%2BB7Pxh4h%2BHvifQZ9U8ca14W0TRrn4Pa3Peate6dcX8ci2kUOns90TDp887LErmEAxybJFZR2XxC/ao/Za8C2Xj20vNEi0/WPAXhDWvEN5beLPAmraTZ3dnpi/6XPb3UmnOL23iZohJLZJdFRNGwR96K%2Bx5po/8IP8A8FC/%2BjoPgz/4YfVv/moo/wCEH/4KF/8AR0HwZ/8ADD6t/wDNRVWw/as/Yw1D4zyfs/Q3lv8A8JRb%2BII9Buo/%2BEGvxYQ6q%2BnR6lHYtqDWgtFne0lSZIzKGcHCgsCo2fjX8Vfgr8JP2edd/aH0fwjo3ijTtLsGk0230NbaQardNKIILWKYAoGkuGSHcTtVmJboaAKH/CD/APBQv/o6D4M/%2BGH1b/5qKP8AhB/%2BChf/AEdB8Gf/AAw%2Brf8AzUU79nP4iWfxXufGfgv4rfA3w14T8XeAdfi03xDpmk6kuq2DpNY299Bc293JaWryRtFchTvgjZZYZVwyqrv5t8Cf2t9Z%2BOtpZjSf2Q/DNheeOPhn/wAJ78Hbe68UqV8QaP50EeL9v7PB0u4C3thI8aLdqq3eA7NGy0Aej/8ACD/8FC/%2BjoPgz/4YfVv/AJqKP%2BEH/wCChf8A0dB8Gf8Aww%2Brf/NRXmvib9rzWtP/AOCd2jft3%2BFv2R/Ceo3Muipq/iXwldeLRbR6bZqshnaC8GnO106siqiGCIPvyWjANbH7Tf7VWifAHx7r%2Bg6B%2BzdofiHQvh74M07xb8U9bn1VLKXR9Hvbu8t45LO3FpKL%2BZE06/nkieS3CxwLh2aRVoA7L/hB/wDgoX/0dB8Gf/DD6t/81FH/AAg//BQv/o6D4M/%2BGH1b/wCaiqnhb4marq/7V/jD9mrxD%2Bzh4V0%2B10bwdaeIfDHiCHXhO%2BrQzXE9tsuLf7CosiJIGwVlnypyQp%2BU%2BQePP24vHfwf0n4xXnxZ/ZA%2BF9k3wk07w09zf6V8TpZ9MnvdXuzF9kuLq40O3az%2Bz27W91LIIpQI7uHAyW2gHtX/AAg//BQv/o6D4M/%2BGH1b/wCaij/hB/8AgoX/ANHQfBn/AMMPq3/zUVyHi/49eJ9C/ZIk/au8M/B74Ea9pml6NqWteI73TPi1PNosGmWiSSGe01GDQpDdtsibcpgiCMCA74zVbxh%2B0L8UPht8O/AXxg%2BI/wCxX4P0vw94ji8LW3iu0/4TUPrGjatrN3b2Zsra0OmLHfi3nuolZ2nt3kAcpEWARgDuP%2BEH/wCChf8A0dB8Gf8Aww%2Brf/NRR/wg/wDwUL/6Og%2BDP/hh9W/%2Baiqngn4m6pr/AO1R47/Zt8T/ALOHhbTIfDfhLTfEHhnXLbXVuX1i2u7m%2Btgs9ubJBZMslix%2BWSfKuCdpG2uG%2BE37bXwx8RRfFVfil8LvAMJ%2BE9vYNq%2BofDDxQvinT7u8u5LqFdGjnNjZv/a6TWyI9j5ZcG%2Bs8MWnCqAeif8ACD/8FC/%2BjoPgz/4YfVv/AJqKP%2BEH/wCChf8A0dB8Gf8Aww%2Brf/NRXkmrftjfEGL9hBv23dK/Y2%2BHsC6Jp3iK58a%2BFdf%2BIMtvLYSaVeXFr9ns5rbRbkX8sz20gVSkPzNGq%2BZvyOk%2BKP7Tlx8F/ib8M/h/8RfgB8NILj4iXmk6enh2y8frN4nivLp0juntdLOmqt9Z2TP5k9ytxHtgimlMY2BGAO3/AOEH/wCChf8A0dB8Gf8Aww%2Brf/NRR/wg/wDwUL/6Og%2BDP/hh9W/%2BaiuJ0T9pm71X9pzxX%2BynbfAL4Y6t4n0bwnqWt6ba%2BFPiEuoSWvkS2yWltrkbaZEdFlvFu45If%2BPkMsNyV3CIF%2Bz/AGa/iTH8YNe8d/D34m/Afwv4c8UfD3xBbaXrcHh3VhrOmym4sLe%2BiMN1JZ2shcRXKB4ngRkO0jcroxAH/wDCD/8ABQv/AKOg%2BDP/AIYfVv8A5qKoeB/HH7Vng79qzw58Efjd8R/h74m0bxN8PfEOuQzeFfh5faLdWl1pt9oluis9xq98ksbpqkpKhEYNEhDYyD6h4s8J%2BFtN8LalqWm%2BHLG2ubaxllt7i3tER43VCysrKAQQQK8%2B8cf8pC/hf/2Rnx5/6dvCFAHs1FFFABRRRQB8xftoeM9I8Nfta/s6XI%2BG3jjVJNI8e32oa5q/hf4Ya1q9tY2M3hzXNPha4u7GzliiH2u7hXY7goJvMYLHlx5x/wAFANI8S%2BM9c8f6zovwU8a%2BK7b4o/s2ar4G8Arp3gjUZWsdee6uQ0F2PI3aXHcGexkF1cCKADTy7SDZHu%2B5KKAMLWNL%2BIH/AAr5tH8I%2BK9MtPEi6ekdtrGs6RJfWq3AUAyyW8dxbvKpIJ2iaM8/erwH4A%2BI/wDgoj8a/At/4xuP2hPgtpzWXjbxLoIt0%2BB%2Bryh10rXL7S1myfE64MgsxKVx8pkK5bG4/TdeM/sH/wDJENc/7LN8R/8A1NdboAP%2BEH/4KF/9HQfBn/ww%2Brf/ADUUf8IP/wAFC/8Ao6D4M/8Ahh9W/wDmor2aigDxn/hB/wDgoX/0dB8Gf/DD6t/81FH/AAg//BQv/o6D4M/%2BGH1b/wCaivZqKAPGf%2BEH/wCChf8A0dB8Gf8Aww%2Brf/NRR/wg/wDwUL/6Og%2BDP/hh9W/%2BaivZqKAPGf8AhB/%2BChf/AEdB8Gf/AAw%2Brf8AzUUf8IP/AMFC/wDo6D4M/wDhh9W/%2BaivZqKAPGf%2BEH/4KF/9HQfBn/ww%2Brf/ADUUf8IP/wAFC/8Ao6D4M/8Ahh9W/wDmor2aigDxn/hB/wDgoX/0dB8Gf/DD6t/81FH/AAg//BQv/o6D4M/%2BGH1b/wCaivZqKAPGf%2BEH/wCChf8A0dB8Gf8Aww%2Brf/NRR/wg/wDwUL/6Og%2BDP/hh9W/%2BaivZqKAPGf8AhB/%2BChf/AEdB8Gf/AAw%2Brf8AzUUf8IP/AMFC/wDo6D4M/wDhh9W/%2BaivZqKAPGf%2BEH/4KF/9HQfBn/ww%2Brf/ADUUf8IP/wAFC/8Ao6D4M/8Ahh9W/wDmor2aigDxn/hB/wDgoX/0dB8Gf/DD6t/81FH/AAg//BQv/o6D4M/%2BGH1b/wCaivZqKAPGf%2BEH/wCChf8A0dB8Gf8Aww%2Brf/NRR/wg/wDwUL/6Og%2BDP/hh9W/%2BaivZqKAPGf8AhB/%2BChf/AEdB8Gf/AAw%2Brf8AzUUf8IP/AMFC/wDo6D4M/wDhh9W/%2BaivZqKAPGf%2BEH/4KF/9HQfBn/ww%2Brf/ADUUf8IP/wAFC/8Ao6D4M/8Ahh9W/wDmor2aigDxn/hB/wDgoX/0dB8Gf/DD6t/81FH/AAg//BQv/o6D4M/%2BGH1b/wCaivZqKAPGf%2BEH/wCChf8A0dB8Gf8Aww%2Brf/NRR/wg/wDwUL/6Og%2BDP/hh9W/%2BaivZqKAPGf8AhB/%2BChf/AEdB8Gf/AAw%2Brf8AzUUf8IP/AMFC/wDo6D4M/wDhh9W/%2BaivZqKAPGf%2BEH/4KF/9HQfBn/ww%2Brf/ADUUf8IP/wAFC/8Ao6D4M/8Ahh9W/wDmor2aigDxn/hB/wDgoX/0dB8Gf/DD6t/81FH/AAg//BQv/o6D4M/%2BGH1b/wCaivZqKAPGf%2BEH/wCChf8A0dB8Gf8Aww%2Brf/NRVv8AZW%2BI3xp8Yax8UPAnx01/wvq2qeAfiFFodnqvhPw1c6Tb3VrLoOj6mrPb3F7eMsiyajKhYS7SsaHapzn1uvGf2X/%2BS3/tHf8AZZrH/wBQrwvQB7NRRRQAUUUUAFFFFABRRRQAUUUUAFFFFABRRRQAUUUUAFFFFABRRRQAUUUUAFfL/wC0BrH9mf8ABWT9mqy3Y/tH4X/Ey3x64l8Ly/8AtKvqCvjb9sPVzpf/AAWN/YzgLYW%2B8MfFC3c5/wCnDRnA/NBXNjJ%2Bzo83nH8ZRX6nucO4f63mfsv%2BndZ/%2BA0K0v8A20%2ByaKKK6TwwooooAKKKKACiiigAooooAKKKKACiiigDzPUv2ZP2bfjRo%2Bg%2BKfjF%2Bz34H8Wanb%2BH7W1g1HxL4Ts7%2BeOBVLrEsk8bMEDO7BQcAuxxkmqX/DA/7Cv/AEZZ8Jf/AA3Omf8AxiuT%2BL3/AAUg/Yv/AGPpfDnw0/aL%2BMv/AAjut33hSz1O1sv%2BEd1G732r74lk32tvIgy8Mo2lg3y5xggnkP8Ah%2Bb/AMEsv%2Bjov/LJ1z/5CrxcRi%2BHadeUa86Smnrzezvfzur39TReIeIypfVI5xOkqenIsTUgo9bKKrxUd9lFb7anrf8AwwP%2Bwr/0ZZ8Jf/Dc6Z/8Yr07QNA0LwpoVl4W8LaLaabpmm2kdrp2nafbLDBawRqEjijjQBURVAVVUAAAADAr5W/4fm/8Esv%2Bjov/ACydc/8AkKvp7wD468K/FDwJovxL8C6p9u0TxFpFtqej3vkPF9otbiJZYpNkiq6bkdTtZQwzggHiujA4jJ605LByptpa8nLe3nypaX7ilxdV4k/dTzGWJ5NbOvOry30vaVWpa%2B10lfa/Q8J%2BGH7C/ivwB488Ka1qfxn03UNB8D/FDxV4v8NaXD4Qkguwuu/2s89pcXJvXSUxS6qxSVIYv3cIRkLMZB5HrX/BGGXXvFPj3xJefHbw7FceMvAXj/wv/bVr8L0TW7mPxNIri41XUTfF9Uey2iOFAtunljbtTAYe7WH7fnwj1fTrGbSfCniOa%2ButF8W6ld6TL9gt5dLTw5erYajHdyT3aQQMLt0gRml8tiSxdY1d14Twb/wU%2B8D/AB2m%2BHGo/ASCzlsdd%2BM%2Bo%2BBvG8F/fWOpS6ebfwbq/iFDbXOlX1xZyuxtLA70nmQJNNGwSVT5XpEHXSfsMB/EOq6%2BPihg6n8ddJ%2BI5iGif6v7FpGn6b9gz5/zb/sHmedgbfN2%2BW23c3efGv4Hah%2B0B%2BzzrvwS8f8AjGK3v9asGjTxBoelmAWV0komtbqKCWWXLQypC%2B1nZXaM5wGwPnjxb/wVWlf4IeFPGvwi%2BFOv%2BI73VIPh7J4j8Uy%2BH4LfRtFbxJd6cqQXMA1JrmO4a1vfNVIDdRQNNB5szKSW%2BkPjD8ePD/wk%2BAXjz4%2B3Wjalc2PgLw/rGqX1lcafNaS3A06GWWVYxOillbyWCSqGjcEMjMpBIBznwI/Z7%2BJnwu1TxH438dfFfQfEfifx14si1Xxtf2ng6Wxs5bSHTIrC3srG2a%2Bma0C/Z4JWklludzNcDaolTyeI/Z%2B/YW%2BJvwAjsbjTf2gNH1e78DfDFvAXwdfUfA0oi0HSPNgcHUUTUA%2BqzkWWno8kb2YZbThVaRmrf/Za%2BNnx%2B8Q/FTxN8Bv2lR4RufEWjeCvDviu11LwXpVzZWgtdVk1KA2TR3NzcO8tvPpc2Zw6LKk0ZEUZDLXkk/8AwUH/AGidE0m9%2BLV94P8ABWpeFvEul/EB/h1oEfm6dfW134cNybZdQ1C4uWt3ivYrOeR3ENuLQlELTjdIADf/AOGA/wBpA/8ABOaf9gx/2pPBBvZ7OTSf%2BExHwkvBEujvGcxfYv7cz9q8wlhcef5e3C/Z8/Odr41fsJfEz446nqGpeIfj/otiPHvgLS/CHxntdO8CSiLxBptld3lwo04Sai7aU7rqN/A7SNeZjnXADRK9eSeHv%2BCif7Wniz4UeJNU8J6Ppmq6tonjXwvYNrEXwB8Uw3VtpupRCW7uJfCzXh1WRYFBMdysiwzguUUiFyb37Un/AAUo%2BLXwi%2BGHg3xl8IvF3g/xVDqvw68Q%2BI7zxNY/C/Wb611O90ya2i/s9rG2vvP8Pwl5pUn1C/kkt7N4dk%2B1jigD3nTv2d/jxaftw337UVz8b/CMnhS98JQeHW8GJ8PLpNQS1hknuI3/ALSOqmMy/abhmY/Y9piURhVb97V3wD%2Bzl4/%2BFHgDx3D4A%2BKWjP458c%2BP77xTeeKvEPhKS8s1kmuIkt4JLKO9heVbfTba0sVYXCE/Zll4/wBXXl%2Bhft%2Ban4z/AGxdS%2BB8Pjzwt4W0Pwz4j0nw7qNpqXgrVdUfW9UvdItNTWKDWoJotP04lL6GKCOdZZbl4ZdiqDHnC%2BIX7e37QHwT%2BIHxM%2BHvii08OeK7nw14L/tPw/Mnw%2B1fwrFHqc%2Bp2%2Bn2VoXv7q4GsWzSXSGW%2BscRweVtYbp41AB3qfsD6lqvwC8QfBjxn8XrW6n8efE%2BDxf8RLzS/C32Oy1OIX1rcXWmW1obmQ2lvcRWiW8jPLO7Ca4dizy5Gt8av2Xfjr8Uf2p/CPx20r47%2BE4vC3gy0U6N4C8SfDu61FLfUnZ1uNUjuIdVtl%2B1m2f7PC8kMot1aVlUmZ68o%2BJH7Zv7Yvw%2BS8%2BGFxbeGr7xN4Z%2BMFp4e8X%2BNPDPwa1/XrCLQbrwxcaxDqC6Jp9%2B95E4ulhsnzcyxru8048wJH0n7SP7YnxZ%2BFXwT8A/tBfCj4k%2BDfGGh6/YaX5i6f8AC7WJ7PxBPPLAjzpqsOoNa%2BHbV1lykmoCZIzw0jlSCAdxbfs4/tE2f7ZHiT9pm2%2BP3g1NC1zwVa%2BG7bwuPhrdG9tIbWS%2BuLaY3x1fy5JBcX0jP/oqq8aLGBG2ZThL/wAE/j8WPGPiL4iftg/E2PxXq%2Bt22gW9qPhxb6r4LgsBpFxfXNpcK9rqs121yJr%2BYmQ3IULHEFjUqzO/4i/Gb9rDwJ%2B2h4T%2BD2h%2BJfAviXwxr2h%2BIPEeqeHLLwJe2%2BsafpFhBFFCBqDas8Dzy395ZRLutEDxi4IAMZI8I8Gf8Fa/inqvws8U6k2rfDvxR4qtPhnovi23tPCuiXyReF5rvUY7K%2B0fUIHvJJr2/sfPik%2BzRNbXNy37kW8EkkW8A9s8A/8ABN7RPh/%2BzV4c/Zds/i9rN/oGmfFgeMvEEmtz3uozaxDHrEmrw6dvvLyZ4IxcLZ%2BY251mEExaMNdSMO0%2BPX7Ovxf%2BPPjLR9O1f406Bp/w/wBK8W6F4i/sG08DynWmutLvYL6KNNUN/wCVFDJPbRhwLMyGJ5YxIN4Zfna3/wCCoHxYl8DaJ4au7zQrXxZr3xN1vw9Y%2BIT8IvEUzf2fplhFeTXEnhSO4Orw3bNNHELOWZGEOb0sISsbekfGz9or9pnSfB3we%2BIH7Pvxt%2BFHiSz%2BJ%2Bu%2BGtF020f4dahOutvdk3Oo6haXMetILeCPTYb28jheKdlFrtaR92VAOm1/9l79pbxb8Ubn4y65%2B054XtvEGi%2BDNf0L4cXWi/DCWBNKk1JrZlutRWbVJv7T8k2duwhQ2kbsHZlyU8vof2Lv2dPH37L/AMJ2%2BGXjv4i%2BHfFM/wBte8k13RfCV1pd1qV1MS91e373Oo3rXd1NKWkaUNGOdoQKFA8/%2BD/7WHxm8SftN%2BNfhN8V/EOiaBDY61rVp4B8JXnwl1uwu9ftbNI2jurbW7m8%2Bw6idpdpIbaEuqjJ2hSThfss/t%2B%2BO9c/Zlv/AIp/tJ6zpl58QbPQNBuLz4VaR8KtY8I6tYarqaeXbaZ5Gs3c0l39ovd1rDdqscDNDKdxCOUAPqfxz/yJOsf9gq4/9FtXlvjj/lIX8L/%2ByM%2BPP/Tt4Qql%2Byd8Z/it8fP2OLn4hfHCw8P23iuPUvFeja1F4VhnTT/M0zWNR00NCJ3eTay2isSzZJYnCghRd8cf8pC/hf8A9kZ8ef8Ap28IUAezUUUUAFFFFABRRRQAV4z%2Bwf8A8kQ1z/ss3xH/APU11uvZq8Z/YP8A%2BSIa5/2Wb4j/APqa63QB7NRRRQAUUUUAFFFFABRRRQAUUUUAFFFFABRRRQAUUUUAFFFFABRRRQAUUUUAFFFFABRRRQAUUUUAFFFFABRRRQAUUUUAFFFFABXjP7L/APyW/wDaO/7LNY/%2BoV4Xr2avGf2X/wDkt/7R3/ZZrH/1CvC9AHs1FFFABRRRQAUUUUAFFFFABRRRQAUUUUAFFFFABRRRQAUUUUAFFFFABRXLfG3wRY/Eb4Ua74N1LX9e0uC7sSXvvDOv3Wl30ewiQeVdWkkc0JJQKWjdWKlhkZr5mf4vfE/Tf%2BCKPw/%2BK6fEXVofEOrfCPwX/b3jOa%2BaS/tYr6PTodR1RriQlvOjgnuLgzMSQybyeCaAPsKvhP8A4KM6n/Yn/BWb9iDU92M3Pji1z/12i0WLH/j1e4/sUXGraH41%2BNXwbg8Y69r3hvwJ8TLfTfC154l8Q3WrXltDN4f0i/ns3vbySW4uRHc3c7BpZHZBMIs4jVR8mf8ABU34j%2BJJv%2BCp37HNjq3wk8Q6DZ6T4/1O0sdf1W5057TWluL7QI2e2W2u5Z0VeA32iKA/Ou0N82PNzeXJl85dnH/0umfa%2BHdD61xhh6P88a6%2B/C4v/I/S6iiivSPigooooAKKKKACiiigAooooAKKKKACiiigDK8Df8iTo/8A2C7f/wBFrWrWUPBmhplYGvoUySIrfVrmNF9lVZAqj2AApf8AhD9J/wCfvVf/AAeXf/x2gDUorL/4Q/Sf%2BfvVf/B5d/8Ax2j/AIQ/Sf8An71X/wAHl3/8doA8P8Qf8E0/2fPEviP4zeJdQ1fxMJfjbp1tZ65bpqMPk6IIlJaTTUMJEDTTkXMwl81JZlUspX5C/wAFf8E7vhz4W8XR/ELxB8YvH3inxAfidJ47vNY8QXun%2BZd6m3hWfwv5bJa2UMSW4sJyyxxJHiZEbOzdG3tv/CH6T/z96r/4PLv/AOO0f8IfpP8Az96r/wCDy7/%2BO0AfOX/DqT4MWfhfQPAPhz4z/EjSPDukWPhCHVNB07U9PEHiCbw01qdMu7xnsWlE22ytkl%2BzvBHKkShk%2BVcfQOsfDrSPFvgfXfh18Qr658R6T4ihvrbUrXVI4VDWV0HV7MeRHGDEsbmNS2ZCoG93bLG5/wAIfpP/AD96r/4PLv8A%2BO0f8IfpP/P3qv8A4PLv/wCO0AeZ/A79j3S/gXJqWs6d8c/HfiDX9Uh0WxuvFHiafTZ746RpUkr2mkjy7KOL7MPtF2Gcxm5Y3kzmfzCsi8tf/wDBMv4Da9P4n0zxf4s8X6z4Y8RaT4n0%2By8FXupWyad4fTxDI0mryWLQ28dyskzvIVaaabyBK6QCJGK17r/wh%2Bk/8/eq/wDg8u//AI7R/wAIfpP/AD96r/4PLv8A%2BO0AeSeGv2LdT8KL4g8Q6V%2B1x8UT4z8StpsWqfEK4j8Pyam1jYLcC2sFibSTYrArXdzIT9l81nmZjIeMc7rH/BMj4U3HhWx8NeEvjN8RfDU40HW9G8Tazoup2DXnie01i/fUdSF611ZTIsk15NcT%2BdapbyRtcSCJo1IUe%2B/8IfpP/P3qv/g8u/8A47R/wh%2Bk/wDP3qv/AIPLv/47QB5BefsAfCGT4i2/i/R/FnifStBXxBouv6j8P9OubRdG1PV9JgtbfTr6cvbNd%2BZDHY6eAsdykT/YYC8blW3Vtb/4J%2BeCPiDc65f/AB0%2BNnj/AOIF1qvgy/8AC%2Bm3fiK6022k0HTrye2uLgWR02xtQJmmsrGQTzCWVWs4SGGG3e0f8IfpP/P3qv8A4PLv/wCO0f8ACH6T/wA/eq/%2BDy7/APjtAHlHh79jXVPCHhfWLHwj%2B1n8TdO8TeJfEw1vxV4/jh8Py6rrEq2UVlHDLHNpL2UUMcFvbqqQW0RBi3bizymTN8Q/8E%2BfA2t/CPSP2drD42/EDSvhvY%2BHItE1rwNYXemva%2BIrYSO8xvbmexkvd9xvZZmt7iDepIwMkn2n/hD9J/5%2B9V/8Hl3/APHaP%2BEP0n/n71X/AMHl3/8AHaAMHQ/gh4U0T47%2BIf2iBqGoXWveIfDemaE8d3LG1vY2NlNdzJHbqqBkMkt7K8jMzFysQ4Eageaap/wT78FeMNG8RD4q/HH4geL/ABFr0ejJaeNdZudMh1LRF0nUV1PTvsS2VjBaxmG%2BRLks8EhmdEExlRERfaf%2BEP0n/n71X/weXf8A8do/4Q/Sf%2BfvVf8AweXf/wAdoA8Vh/4J9%2BELOxGtab8ePiBbePG8aXHii5%2BKUb6Q2tXF/PpsWlyh4309rDyTYW9tb%2BUtoFAtonAEiCSum8DfsbfCL4eX3wtm8O3OsfZPhB4dvtK8JaZdXyywl7qKCF7%2Bcshklu1iimjWTeq7b653KxdSnon/AAh%2Bk/8AP3qv/g8u/wD47R/wh%2Bk/8/eq/wDg8u//AI7QB5ze/snp4g%2BMdn8Y/G/x%2B8ea9Lod1qN34N0G/OlRWHhq6vLeW1ee2FtYRTTOlvPPDGbuW4CrK/BJzWTpH7AvwY1i/wDEOs/tI3158br7xLY6bY38/wAWtE0a9hS0sJbma1gjtLWwt7RQk13cyeZ5JlZpPmchEC%2Buf8IfpP8Az96r/wCDy7/%2BO0f8IfpP/P3qv/g8u/8A47QB5t8D/wBk/wCCP7Gf7POv/CD4B%2BD7TRdEuL/XNblt7TT7a2DXN9PPcuCttFEhSMSJbxArlILeGMltgNVvHH/KQv4X/wDZGfHn/p28IV6ifBmhvhZ2vpkyCYrjVrmRG9mVpCrD2IIry7xx/wApC/hf/wBkZ8ef%2BnbwhQB7NRRRQAUUUUAFFfMf7avxP%2BPEXxUj%2BFXwX%2BNE3gEaP8H/ABJ44n1S30exvDqV5YzWUNpaTLeQyqLMGeZ7gReXO26EJNDhi3N/tUftL/tHa/4F%2BCt5%2Bz/beMLbU/iF4VvvEOr%2BGvhtb6FN4i8qLTbedTF/wkCmxFpFPdRRzlsTlprZYslmUgH2BXjP7B//ACRDXP8Ass3xH/8AU11utT4B/HRvE37GvgT9onx5rA1%2BbV/h7pGtavqHgrw3f3aX809nDLLLZ2UUL3bIzuWSLyjKFIDKCCBzv/BOnxDYeLf2br7xTpVvfRW2o/Fv4h3NvFqelz2VyiP4z1pgJbe4RJoHAPMciK6nIZQQRQB7pRRRQAUUUUAFFFFABRRRQAUUUUAFFFFABRRRQAUUUUAFFFFABRRRQAUUUUAFFFFABRRRQAUUUUAFFFFABRRRQAUUUUAFFFFABXjP7L//ACW/9o7/ALLNY/8AqFeF69mrxn9l/wD5Lf8AtHf9lmsf/UK8L0AezUUUUAFFFFABRRRQAUUUUAFFFFABRRRQAUUUUAFFFFABRRRQAUUUUAY3xB%2BHXw%2B%2BLXg6%2B%2BHfxU8CaN4m8P6pGsepaF4g0uK9s7tAwcLLDMrJIAyqwDA8qD1Fc94C/Zd/Zm%2BFfheXwP8ADD9nXwJ4b0WfTZtPn0fQfCNlZ2slpMxaa3aKKJUMTsSWQjaxJJBruqKAMH4a/Cv4YfBjwhb/AA%2B%2BD3w40HwnoFo7taaH4a0eCws4Wdi7lIYFVFLMSxIHJJJ5r4D/AOC3P%2BgftVfsueLOn9g6zqOobv7u3XvCiZ/8iV%2BjVfnL/wAF6/8AQdQ8D%2BK%2Bn9g%2BBdc1Dd/d2%2BKvA6Z/8iV5Oe6ZNXfaLf3OL/Q/QPCnXxJyqH89aMP/AAZGrT/9yH6NUUUV6x%2BfhRRRQAUUUUAFFFFABRRRQAUUUUAFFFFABRRRQAUUUUAFFFFABRRRQAUUUUAFFFFABRRRQAUUUUAFFFFABRRRQAUUUUAFeM%2BOP%2BUhfwv/AOyM%2BPP/AE7eEK9mrxnxx/ykL%2BF//ZGfHn/p28IUAezUUUUAFFFFAHnXx%2B/ZP%2BA/7T0enp8afB91qJ021u7SCSw8QX2mvLZ3YjF3ZTPZTxNcWk4hh861lLwS%2BVHvRti4r/Ez9kH4E/F220%2BHxro%2BvmbSby8uNJ1LSPHOr6bfWIulC3FvDdWd1FPFauqoDao4gxGgEY2Lj02igDM8F%2BDfCnw58HaT8PfAnh%2B10nQ9B0yDTtG0qxiEcFnaQRrFDDGo4VERVUAdAAK8s/YP/wCSIa5/2Wb4j/8Aqa63Xs1eM/sH/wDJENc/7LN8R/8A1NdboA9mooooAKKKKACiiigAooooAKKKKACiiigAooooAKKKKACiiigAooooAKKKKACiiigAooooAKKKKACiiigAooooAKKKKACiiigArxn9l/8A5Lf%2B0d/2Wax/9QrwvXs1eM/sv/8AJb/2jv8Ass1j/wCoV4XoA9mooooAKKKKACiiigAooooAKKKKACiiigAooooAKKKKACiiigAooooAKK8w/bT%2BL3ir4B/smfEP4x%2BBo7U634f8KXl1o730Re3huhGRFLKoILRI5V3XIyqsMjOR5l4L%2BMXxh%2BEmkftBfD34hfHOLxRc/Crw7BrmhePvG%2Bm2lqIYrjSZLgx6gumW8ETRwT20shaKFX8iZFIdl3uAfTlfnz/wXW0f%2B3PCc1ls3bPgN4uuMY/55eJ/A0uf/HK9W/4Ju/G39pLx/wCMvGXw9/aU1LxjFf6Z4R8La3YaN8RtM0S31mI6guoLcXKHQ0W0bT5JbTZAkh%2B2RyW9yLhUDQg%2BY/8ABUzxt4b%2BJni3xd8P9J0rxDHeeGv2YviPJfy6r4R1GxtJSupeEpQba6ubeOC9A8o5a3eQLxuI3Lnzs3h7TKcRHvCf/pMj7Hw6xP1PxByev/LisO//ACtS/wAz7q8Eax/wkPgvSNf3bvt2l29xu9d8at/WtSuC/ZV1j/hIf2X/AIb6/v3fbvAWj3G7132ULZ/Wu9rsoT9pQhPuk/vSf6nzmaYf6nmmIw/8lSpH/wABnOP/ALaFFFFanCFFFFABRRRQAUUUUAFFFFABRRRQAUUUUAFFFFABRRRQAUUUUAFFFFABRRRQAUUUUAFFFFABRRRQAUUUUAFFFFABXjPjj/lIX8L/APsjPjz/ANO3hCvZq8Z8cf8AKQv4X/8AZGfHn/p28IUAezUUUUAFFFFABRRRQAV4z%2Bwf/wAkQ1z/ALLN8R//AFNdbr2avGf2D/8AkiGuf9lm%2BI//AKmut0AezUUUUAFFFFABRRRQAUUUUAFFFFABRRRQAUUUUAFFFFABRRRQAUUUUAFFFFABRRRQAUUUUAFFFFABRRRQAUUUUAFFFFABRRRQAV4z%2By//AMlv/aO/7LNY/wDqFeF69mrxn9l//kt/7R3/AGWax/8AUK8L0AezUUUUAFFFFABRRRQAUUUUAFFFFABRRRQAUUUUAFFFFABRRRQAUUUUAZnjTwb4V%2BIvg7Vvh9460C11XRNd02fT9Y0u9iDw3lrNG0csMinhkdGZSO4JrgvAf7Gv7Pfw58Nap4Q0Hwrqt3p%2BvC6HiOLxD4v1TVm1sXFrFaSLfPfXMz3wFtBFCgnMgijQJHsBIPqFFAHnvwL/AGW/gr%2BzhJqV18KtA1SK71e2tLbUNR17xTqOs3cltaiQWtsLjUbieVLeHzpjHArCNDNIVUF2J8O/4KHaP/wkHxCudC27jefsm/FmED3abwuB%2Bpr6zr52/aa0f/hIf2rvDGgbN3279nb4lW%2B31333hNcfrWGKh7TDVId4yX3xa/U9TI8T9TzzCYj%2BSrSl/wCA1acv/bTov%2BCc%2Br/25%2BwP8Gr7duK/DTRoCfeKziiP/oFez183/wDBIbWP7c/4JtfCW93Z2eHHt8/9crmaL/2SvpCufKp%2B0yuhLvCH/pMT2OPcP9U46zah/LisQv8AyvV/zCiiiu8%2BTCiiigAooooAKKKKACiiigAooooAKKKKACiiigAooooAKKKKACiiigAooooAKKKKACiiigAooooAKKKKACiiigArxnxx/wApC/hf/wBkZ8ef%2BnbwhXs1eM%2BOP%2BUhfwv/AOyM%2BPP/AE7eEKAPZqKKKACiiigDzr4%2B/tX/AAH/AGYo9Pf40eMLrTTqVtd3cEdhoF9qLx2doIzd3sy2cErW9pAJofOupQkEXmx73XeudL4vftAfCv4G6BpniL4ga3emPW79bLQ7LQdBvdXvtTnMTzeXbWdhDNcXBEUUkreXG22ON3bCqSPFv21vhj8eJPipH8Vfgt8FpvHw1j4PeJPA8%2Bl2%2BsWNmdNvL6aymtLuZr2eJTZkwTLcGLzJ12wlIZssF5P47/sr/FG90H4Halpfgb4keILX4SaXqXhnXNE8C%2BN7TQNY1mGXT7e3h1O3uxqNsEi86zjcxm5hmKTHcjAPC4B9eeHtcsPE%2BgWPiXSkuVtdRs4rm2W9spbaYRyIHUSQzKskT4IyjqrqchgCCK8l/YP/AOSIa5/2Wb4j/wDqa63W38GfA/x2l/ZO8J%2BAPjT8Ur7T/iKngywtfFPizw%2BLOa4j1RYIxcTxG5tpLeRjIG%2BZoCjZJEa5AHLf8E6dJv8AQf2br7RNV8T32t3Nn8W/iHDcaxqccCXN86%2BM9aBmlW3iihDuRuIjjRMk7VUYAAPdKKKKACiiigAooooAKKKKACiiigAooooAKKKKACiiigAooooAKKKKACiiigAooooAKKKKACiiigAooooAKKKKACiiigAooooAK8Z/Zf8A%2BS3/ALR3/ZZrH/1CvC9ezV4z%2By//AMlv/aO/7LNY/wDqFeF6APZqKKKACiiigAooooAKKKKACiiigAooooAKKKKACiiigAooooAKKKKACivP/wBqv41XP7Of7N/jb446foKareeGPDl1fafpksxiju7pUPkQu4BKI0pRWcAlVJODjFeeeAP2pPiT8PtG%2BM2k/tRyeH9V1X4N6PDr19rHgfRZ9PtdT0uXTXvF2WtzdXLwzI9vdxEGd1cJHJ8m8xoAfQdeLfECCK5/4KCfDK2mXcknwW8eq6nuDq3hAGsb9gn9qPxV%2B0t4f1HVPHvxH8K3%2BrDStL1UeGdA8B6vokuj216kzxky6nOx1a2cxukOoQRQQTm3mKL1VIr/AOLnwo8c/wDBTbwX4C8E/E7w9rGu%2BGPg944i8S6LpWtQXF3pLyat4S8tbmGNy8BbY%2BA4UnacdDQCbTujlf8AgiHPKn/BNfwLoVw%2B6XSL/W7GUnrlNXvCB%2BTCvrGvkv8A4I2f6D%2BzJ4q8J9P7B%2BMHifT9v93beF8f%2BRK%2BtK8nIv8AkTYddoJfddfoff8Aisl/xEvOJr7eIqT/APBjjU/9yBRRRXrHwAUUUUAFFFFABRRRQAUUUUAFFFFABRRRQAUUUUAFFFFABRRRQAUUUUAFFFFABRRRQAUUUUAFFFFABRRRQAUUUUAFeM%2BOP%2BUhfwv/AOyM%2BPP/AE7eEK9mrxnxx/ykL%2BF//ZGfHn/p28IUAezUUUUAFFFFABRRRQAV4z%2Bwf/yRDXP%2ByzfEf/1Ndbr2avGf2D/%2BSIa5/wBlm%2BI//qa63QB7NRRRQAUUUUAFFFFABRRRQAUUUUAFFFFABRRRQAUUUUAFFFFABRRRQAUUUUAFFFFABRRRQAUUUUAFFFFABRRRQAUUUUAFFFFABXjP7L//ACW/9o7/ALLNY/8AqFeF69mrxn9l/wD5Lf8AtHf9lmsf/UK8L0AezUUUUAFFFFABRRRQAUUUUAFFFFABRRRQAUUUUAFFFFABRRRQAUUUUAc78XPhZ4N%2BOHws8RfBv4h2El1oXinRbnStWghmaKRreeJo32OuGjcBiVdSCrAEEECuC%2BGf7HXhrwHbeJI/FfxY8XeOZ/GwlTxzeeMBpjya/CbOKyigmFpZQJFFDBGQiW6whmmmeTzXkLV6/RQB5N%2Bzr%2ByL4X/Z317UPFkXxP8AF3jDVrzw9pvh%2B21Lxhc2byWGj6e1w1pYxC0trdSiNdTsZZVknkLjzJX2rtpeOP8AlIX8L/8AsjPjz/07eEK9mrxnxx/ykL%2BF/wD2Rnx5/wCnbwhQB5j/AMEof%2BJb/wANFeE24/s39p7xV5K%2BkMn2Z0/rX1pXyX/wTp/4lX7TX7VXhPp5PxgTUNv/AF9WaPn8dtfWleTkmmWQj2c191SofoHij73HGIq/8/IYef8A4HhMI/0YUUUV6x%2BfhRRRQAUUUUAFFFFABRRRQAUUUUAFFFFABRRRQAUUUUAFFFFABRRRQAUUUUAFFFFABRRRQAUUUUAFFFFABRRRQAV4z44/5SF/C/8A7Iz48/8ATt4Qr2avGfHH/KQv4X/9kZ8ef%2BnbwhQB7NRRRQAUUUUAFFFFABXjP7B//JENc/7LN8R//U11uvZq8Z/YP/5Ihrn/AGWb4j/%2BprrdAHs1FFFABRRRQAUUUUAFFFFABRRRQAUUUUAFFFFABRRRQAUUUUAFFFFABRRRQAUUUUAFFFFABRRRQAUUUUAFFFFABRRRQAUUUUAFeM/sv/8AJb/2jv8Ass1j/wCoV4Xr2avGf2X/APkt/wC0d/2Wax/9QrwvQB7NRRRQAUUUUAFFFFABRRRQAUUUUAFFFFABRRRQAUUUUAFFFFABRRRQAUVzvxc%2BKXg34H/C3xF8Y/iHfva6F4W0W51TVp4oWlkW3giaR9iLlpHIUhUUFmYgAEkVzvwA/aM0n48HxDpFx8OPE3gzxF4V1CG08QeE/F8dmL608%2B2juYJd1lc3MEkUkUgKtHK2GSRG2vG6qAeiV4v46nhX/goj8LbZpVEj/Bfx6yoTyQNX8HgnHtkfmK1v2a/2uvhf%2B1Xqnjqx%2BF1hrAt/Afiv%2BwbvU9RtY47bVJPssNyt1ZMsjNLask67JWVPMwXQNGySP84f8FEPjNd/AX/gqH%2Bx942muGj0jVLXxr4c10jIUQ6hN4dhiZz/AAotwIHJPHyisMTiIYWi6s9la/zaX6nNjMVTwWHdafwq1/nKMb/LmTOt/Y1/4lP/AAUu/a58NHhWvfBeoQj%2B952kSbz/AN9ACvrSvkv4Ff8AEm/4LBfHfTen9tfDnwxqGP73kq8Gf1xX1pXBk2mFnHtUqr/yo3%2Bp%2Bk%2BJPv55hq38%2BDwMv/LSnB/jTYUUUV6x%2BfhRRRQAUUUUAFFFFABRRRQAUUUUAFFFFABRRRQAUUUUAFFFFABRRRQAUUUUAFFFFABRRRQAUUUUAFFFFABRRRQAV4z44/5SF/C//sjPjz/07eEK9mrxnxx/ykL%2BF/8A2Rnx5/6dvCFAHs1FFFABRRRQB8jf8FBdc1jU/iwvgfWPjV4n8C6DonwG8Y%2BMtP1Dwx4qudIaTV7CXTUjuppIJE%2B0R2cc7ObaXfbv9pzNFIFXbx3/AAUx/ah%2BOXhz/gn3pUNjY/ETwpr3jD4Talr3inxp4A8Iaxdy%2BHZrPSY7n7GLjTYJW0ya4u5YoxPMYkjt4r1xLHJHGa%2Bwvid8Efgv8bLfTrT4zfCHwv4ui0e/W%2B0iLxPoFtfrY3SjCzwidGEUgHR1ww9avz/Dr4fXPhzV/B9z4E0aTSPEBujr2lPpcRttSNyCLj7REV2zeaGYSbwd%2B47s5oAwPBnxJvtS/Z70X4peG/BXiXxHcXPhq1vbbRBZrYapes8SHYYtUe1EMpySVuGiI5zg8Vwf/BOnVr/Xv2br7W9V8MX2iXN58W/iHNcaPqckD3Ni7eM9aJhla3llhLoTtJjkdMg7WYYJ9xtra2sraOzs7dIoYkCRRRIFVFAwFAHAAHGK8c/YP/5Ihrn/AGWb4j/%2BprrdAHs1FFFABRRRQAUUUUAFFFFABRRRQAUUUUAFFFFABRRRQAUUUUAFFFFABRRRQAUUUUAFFFFABRRRQAUUUUAFFFFABRRRQAUUUUAFeM/sv/8AJb/2jv8Ass1j/wCoV4Xr2avGf2X/APkt/wC0d/2Wax/9QrwvQB7NRRRQAUUUUAFFFFABRRRQAUUUUAFFFFABRRRQAUUUUAFFFFABRRRQB5/%2B1X8Fbr9oz9m7xt8DtO16PSrzxP4curHTtTmhMsdpdMhMEzoCC6LKEZkBBZQRkZzXmPgX9m39oLxhc/FXXfjtd6J4W1L4waSujalc/DTxlczXPhiyt9ONrbS2NzdabF59001xeTmR4olgzAoWfazH6OooA%2BeP2I/2LvHf7JXxA%2BJ%2Bpa78dtW8W6B4r1TR28K2OpWWk27WNrZaNZWADx6dpllHG4Nt5SpHujEEMB2rIZS3gn/BUj9kPR/iZ8Ub3/hDb/xLN4l1P4DeOde09b7xdqV9Db3%2Bnax4QuoBZW1zPJBYlyjRkWyRBt43ZwMfoFXjHjtVf/goR8MEdQVPwY8eAgjgj%2B1vCFYYrDwxeGnQntJNP5pr/g/I5sbhaeOwdTD1PhnFxfzTX4b/ACPmL4d/tAw6X%2B1z8D/29NeMJ8H/ALQ3wss/Beq36DamjeI45ftEcbnptllEluo7NG5JAFfoJX54/s7fs0aJ8W/2ff2iv%2BCVPiS6FldfDrx7cXfgG7YkNpdnfk6hpFwpHzDbKJCxXGVdl43c/S3/AATo/aY139pX9nO1uPiPA1p4/wDB1/N4Z%2BIumTYEtvq9ofLldgOglAWXjjLsoztNfP5HiakJ%2Byq/8vLyX%2BOPu1Y/%2BBRU15SfY%2B8eIlxj4b5fnn/MTgYwweJS/li6iw9W3ZtVaE3/ADxpN2c9feKKKK%2BnPjAooooAKKKKACiiigAooooAKKKKACiiigAooooAKKKKACiiigAooooAKKKKACiiigAooooAKKKKACiiigAooooAK8Z8cf8AKQv4X/8AZGfHn/p28IV7NXjPjj/lIX8L/wDsjPjz/wBO3hCgD2aiiigAooooAKKKKACvGf2D/wDkiGuf9lm%2BI/8A6mut17NXjP7B/wDyRDXP%2ByzfEf8A9TXW6APZqKKKACiiigAooooAKKKKACiiigAooooAKKKKACiiigAooooAKKKKACiiigAooooAKKKKACiiigAooooAKKKKACiiigAooooAK8Z/Zf8A%2BS3/ALR3/ZZrH/1CvC9ezV4z%2By//AMlv/aO/7LNY/wDqFeF6APZqKKKACiiigAooooAKKKKACiiigAooooAKKKKACiiigAooooAKKKKACis3xn4x8K/Dvwfq3xA8c6/a6VomhabPqGsapeyhIbO1hjaSWaRjwqIisxPYA1yPww/ag%2BC/xh8D678QfA%2Bu6o1j4Ylki8Q2mreFtR03UNPdLaO62y2F5bxXSFoJYpUBi/eJIjJuDAkA9Arxnxx/ykL%2BF/8A2Rnx5/6dvCFdZ8Ff2kPhL%2B0A2r23w41TV1vdBlhTWdH8R%2BFdR0TULPzkLwvJZ6jbwTrHIoYpJs2PscKxKMByfjj/AJSF/C//ALIz48/9O3hCgDzX9sP4E/Hr4P8AxwH/AAUJ/Y7sf7c8Q22ixaZ8RvhvNgJ4r0mFiytbsAWS9iB%2BTruCqACQY5fMrHxT4n1zxBff8FTP%2BCZsg8Xaf4nht4PjN8GbtBDeXktqm0vEBkwajChIMeCJQdy%2BZvAf79r5d%2BPX/BPrxTb/ABT1L9qL9hn4vSfDH4kakVk16weHzvD/AIpdc8X9oAcSHJHnoCw3M20uxevnMxyyrCTq4dNpvmcYtKUZ/wA9O%2Bl3tOD92a7O97yHO824IzWrjsBSjiMPXTjiMNPWFWEmnK2qs24xl7soyjUjGrSlGomp%2BufswftU/Br9rz4ZQfFH4M%2BI/tVtv8nU9Nuk8q90q6A%2Be2uYScxSKe3IYfMpZSCfRq/K/wCJfjLSfDnxrPjj4yJrP7If7Qly4jbxxYQteeBvHDLyPtDDdCytgkmXDR5BdpGUKPoj4Z/8FSb/AOFs2m%2BBv%2BChnw9j8DXeoFU0X4neG3bUPB3iEEfLLBeR7vs5Yc7JMhRyzJnAWC4gov8Ad4tqLWnNqo/9vJ%2B9Tk%2B01y3%2BGbVj7ijw9kvGdOeM4JrOu1rPBz0xtDq17N8rxEI62qUU58qTnRTvJ/ZFFUvDviTw74v0O18T%2BEtestU02%2BhEtlqGnXSTwXEZ6OkiEq6n1BIq7X0aakro%2BGnCdKbhNNNOzTTTTW6aaTTXVNJrsFFFFMkKKKKACiiigAooooAKKKKACiiigAooooAKKKKACiiigAooooAKKKKACiiigAooooAKKKKACiiigArxnxx/ykL%2BF/8A2Rnx5/6dvCFezV4z44/5SF/C/wD7Iz48/wDTt4QoA9mooooAKKKKACivI/2lv2wvB37M%2BoWWi6l8N/F3i3ULjw/qfiC%2B07wbZ2s02m6Lp/kC81CYXNxAGjjNzCoiiMlxKXIihk2Pt1vi1%2B0NN8OvBemeP/A3wS8Y/EfTdS0%2BTUDN4FbTCLazWJZRcOb%2B9tVdWVhsSIySPzhDg0AejV4z%2Bwf/AMkQ1z/ss3xH/wDU11uvTfh14%2B8K/Fb4faF8UfAupfbNE8S6Na6ro955bJ59rcRLNFJtYBl3I6nBAIzzXmX7B/8AyRDXP%2ByzfEf/ANTXW6APZqKKKACiiigAooooAKKKKACiiigAooooAKKKKACiiigAooooAKKKKACiiigAooooAKKKKACiiigAooooAKKKKACiiigAooooAK8Z/Zf/AOS3/tHf9lmsf/UK8L17NXjP7L//ACW/9o7/ALLNY/8AqFeF6APZqKKKACiiigAooooAKKKKACiiigAooooAKKKKACiiigAooooAKKKKAPMP21PhD4q%2BPn7JnxD%2BDvgV7Ua34g8KXlro8d9KUt5roxkxRSsASsTuFR2wcKzHBxg8D8CY/jxpfxO%2BKn7Rvi/9l7xPo1x40t7JdD8HT67okt4q6Vp2F%2B0SQ3726TXdxPNDFslkVUt43meHdtX6NooA%2Bdf2BPD/AMbrx/GXxn/ai%2BBviXwf8SfGdzZTa8NY1HR7ixgtYUlW00rTTp1/dM1tZq8m6WcRPPNdTTBFEnlQvv8AwX4k8Pf8FNvBfiLVvi54h12z1b4PeOHsNB1W205LTRQureEspbNbWkU7h9wz9olnPyDaV%2BbP0PXjPjj/AJSF/C//ALIz48/9O3hCgD2aiiigDL8aeB/BfxH8NXXgz4g%2BEtN1zSL6PZeaXq9jHc286%2BjxyAq34ivkr4gf8Eg/DHhy11N/2Mvjnr3wxg1Xc2peCL6BNd8KagTyyzaZe7k%2BbpkEhQflUYxX2TRXFi8uwWOt7aCbWz2kvSSs/ldrumcWJy/CYqrCrONqkNYzi3CcXunGcHGcWnrpLfofkTrP7Mf/AAU2/YQ1q68XfBL4Z61o1v57T3k/wT1H%2B2/D%2BoHuZPDt%2B3nRyOPvSROETkRoBiu8%2BB3/AAcP6f4e1MeAv2y/gvNp%2Bo20q295rng%2BOVdspA4l0298u4ix/EVaQZPAr9Oq5H4rfAH4HfHTTf7I%2BM3wg8NeKbcJtRNe0WG6MY9UaRSUPupBFeAuHsfgJc2W4pwX8s0pR/C1vkkfYPjLiTFUlSzj2WZRSspYmLjiUloksbh/Z15WWi9vDE%2Bpzf7P/wC2z%2Byj%2B1JZx3HwJ%2BO3h/XriRNx0uO8EN/GMdXtZtsyD3KAcGvUq%2BJfiv8A8EAv%2BCfXxAu21bwToPibwHf7/MiuPCniFyiSA5DCO6EwUA9k247YrM0b/gn5/wAFRf2dYFt/2Xv%2BCmX/AAkenRSDyfDvxW0FrmJYx0j%2B0n7TIq%2B0ax%2B2K7KeOz3Dq2Kwqn/epST/APJJ8r%2B5s%2BexmOwDfNRwtan5c1KvFeko%2BwqW/wAVK/4s%2B7aK%2BINQ/bB/4LBfAtLmb42/8E49A8f2NvJtXVvhT4rZPMUfxJayfaLl/XBRPwrEtf8Ag4R/Zp8L6uPC/wAff2e/it4B1Yf6611fw9EyxdjkNKkvX/plWkuIsqpO1eTpP%2B/CUPxcWvukctKvUrRclQq2W79jVaXq4U6qVurdkurPvqivlTwX/wAFsv8Agmd41EccP7Sdvpk7gEwa3oN/abc%2BrvB5f5Ma9Y8Ifty/sYePdi%2BEP2sPh1fyP923h8ZWXm/jGZA4/EV20c1yzEfwq8H6Sj/mjmpZxlFeXLTxEG%2B3PG/3Np38rX8j1Oiqei%2BIvD/iS1%2B2%2BHdds7%2BE9JrK6SVfzUkVcruTTV0egmpK6YUUUUxhRRRQAUUUUAFFFFABRRRQAUUUUAFFFFABRRRQAUUUUAFFFFABRRRQAV4z44/5SF/C/wD7Iz48/wDTt4Qr2avGfHH/ACkL%2BF//AGRnx5/6dvCFAHs1FFFABRRRQB88/tefs7ftA%2BO/iBD8Uf2b7rwg%2Bp6h8Ndd8Eazb%2BMtSurWG1gv5LWWHUoTb205nkt3t5M2rCJZxMP38Jjy2L%2B0N%2Bzz%2B1nr37O/g79l34E6R4LPhKw2aL43j1j4h3%2Bl32seG7W3WGC1hurfSrg20l0FC3JCbo4vMjhlLyCaL6gooA5lPAVn4l%2BElt8OvE%2BjHw/FNosFreab4M8RXdmun7Y1Bhs721FrOiIRsSRBCxVR8qZKjzH/AIJ0%2BHrDwl%2BzdfeFtKuL6W2074t/EO2t5dT1Se9uXRPGetKDLcXDvNO5A5kkdnY5LMSSa90rxn9g/wD5Ihrn/ZZviP8A%2BprrdAHs1FFFABRRRQAUUUUAFFFFABRRRQAUUUUAFFFFABRRRQAUUUUAFFFFABRRRQAUUUUAFFFFABRRRQAUUUUAFFFFABRRRQAUUUUAFeM/sv8A/Jb/ANo7/ss1j/6hXhevZq8Z/Zf/AOS3/tHf9lmsf/UK8L0AezUUUUAFFFFABRRRQAUUUUAFFFFABRRRQAUUUUAFFFFABRRRQAUUUUAFFFFABXjPjj/lIX8L/wDsjPjz/wBO3hCvZq8Z8cf8pC/hf/2Rnx5/6dvCFAHs1FFFABRRRQAUUUUAFFFFABWZ4s8FeDfHukP4f8deEtM1qwk/1llq1hHcwt9UkUqfyrTopSjGSs1dF0qtWjUVSnJxktU02mn3TTTT800fM3xM/wCCPX/BOr4nzvqF1%2BzfpuhXpJMd74Ru59KaInusds6RfgUI9q8H8af8G7vwU824vfg/8f8AXdJuJyT/AMVl4X0vxEiH0XzoYnC%2B28n3r9EaK8fEcO5HineeHjfulyv/AMlt%2BR9YuPOK5wVPFYj6zDblxNOlio27WxNGu7eSmj8oNa/4IW/H3wRdf2j4Z8CfBDxsYs/6W%2BoeIfDmouP%2Bma2Vz9mQn3GBVP8A4ZO/an%2BFY8vX/wBlH9pbw9BF01P4N/tKQ3%2BR6x2ssTSr7Bjk1%2BtdFec%2BEMsg70ZSh9z/ADSf/k3zOZ5twji3fMOG8BUb3lSpVcJP1vha9ON/%2B4dvI/JQfGFPh98vjT9tL9t/4YeX9%2BT4o%2BBf7QjT3LIj7198ciut8EftOan4n2H4cf8ABxToUaN9238bfB/TrbPs0l55LLX6fVyXjf4B/Av4mb/%2BFj/Bbwn4g8z/AFn9t%2BHLW73fXzY2zS/1fxlL%2BHWT9fax/GFZr8BfUfB7FfHlmMwz/wCnGPlNL0jiKd/vmfJfg29/4KKeLdn/AAqz/gqX8BvG%2B7/V7fC9sfM/8A5m/Sus/sD/AILhaX/x4eP/ANmjVcdP7T0vXIM/9%2BTXW%2BMv%2BCTH/BOLx3v/ALb/AGR/CkG/r/Y0UunY%2Bn2R48fhXJf8OYv2StD/AOSVeMfil4E2/wCq/wCER%2BJV9D5f%2B75zS0f2dm9Pu/8ADiJr8J05fmH%2BqPhViP4Gc5jQ8qlKNVL/ALepV7v5QD/hJP8Agt9p3/H58Nv2bNRx1/s/WNbhz9PNFH/C2P8AgszZf8fP7Jfwevcdfsfjy4jz/wB/Fpf%2BHaXxs8M/8kx/4Kj/AB4s9v8Aqx4o1i31oD6iWNMij/hlf/gqp4X58Lf8FQ9K1yNf9Xa%2BJ/g7YR49jLBJvb60ezzKHxRxHyqUp/nGL/AP%2BIccNVv904sj6VYYqk/xwtZL5yE/4aB/4K92v%2Bv/AOCfHgS6x/z6/FeFM/8AfaUf8NQf8FZbf/Xf8EuNBuP%2BuHxt05P/AEKOl/sL/gtz4Z/5Bvjv9nHxPGvX%2B19L1mylce3kEqD9eKP%2BFxf8Fj/Dn/IZ/Y2%2BFHiTb1/4R74hy2e/6falOPxo9rWj8VTEx/7hwf5RkH/EJ8xqf7rxFhqnpi6EX91bC0rfNif8Ncf8FUoP9b/wSHgm9TD8fdGX/wBCio/4bL/4KcRf8fP/AAR9vB6%2BV8dNGf8AlFS/8Np/8FHdD48Zf8EkNX2r1m0H4uaTfbh6hFQEfQ0f8PL/AIzaN/yOf/BLn4%2BQY%2B//AGHoNvqX5eXKuaPrVNfFjK0fWlb/ANwB/wAQc48l/Axsav8AgxWWz/KrET/htr/goxF/x8/8EhtdHr5Xxe0h/wCSUf8ADdP7fUf/AB8/8EjvFo/65fEnS3/ktL/w94%2BHFgM%2BL/2N/wBo3w/j7/8AbPwmmTb9dkrUf8PrP2GrH/kbNS8caDj739sfDzUk2/XZC1H13CLfMmvWMF%2BdKIf8QW8WH/Do4mf%2BCGGqf%2BmpVBP%2BG9/23o/%2BPj/gkt48Hr5fjXTX/lR/w8E/bCj/AOPj/gk98TB6%2BV4i09/5Grul/wDBa/8A4Jh6s2yD9qS1ibOCt54Z1WDB9/MtQK6PS/8Agq9/wTm1fH2T9rvwimen2q7eD/0Yi1pHFYafw5mn/wCCf%2BAclfwj8WML/FwmOj64N/pRZx//AA8U/aii/wCPr/glN8XR6%2BVeWT/yaj/h5P8AHqH/AI/f%2BCWXxzX18jT7WT%2BUleo6b/wUS/YK1XH2X9sz4YrnoLjxvYw/%2BjJRW9p/7Yf7I%2Br4/sr9qb4c3Wen2fxvYPn8pjXRFzl8OYJ/Ki/1PIrcB8f4b%2BLHFR/xYSS/OgvzPEP%2BHn/xIg/4/wD/AIJf/tGr6/Z/BsMv8pxR/wAPWdUg4v8A/gmd%2B1Sp/wCnf4UiUfpcivoqw%2BPHwO1XH9l/GXwpc56fZ/EVs%2Bfyetmx8Y%2BEdUx/ZnirTbjPTyL6N8/ka2jQx0vhxt/%2B3KT/ACkeZVyDijD/AMTEVI/4sPFfmony5/w9p01eJ/8AgnZ%2B1VEfST4PEH9Lmj/h7RprcQ/8E7P2q5D2VPg8cn/yZr60VlYBlYEHoQaWtPqma/8AQV/5Sh/8kcn1HO/%2Bg3/yjT/%2BSPkr/h6nr9zxpn/BMv8Aakcnp9q%2BGCw/zuDij/h5d8bLv/kEf8Etvj0%2Ben2zRba3/wDQpTivrWij6nmb3xb%2BVOmv1Yf2fnD3xz%2BVKkv1Z8lf8PCf2uLr/kFf8EoPii/p9r1uwg/mTVT4KfHj47fG7/goX4Mb40/sk618LV034M%2BMv7KOs6/a3x1TzNW8K%2BZtEA/d%2BX5ced33vOGOhr7Arxnxx/ykL%2BF//ZGfHn/p28IVrQwmLp1VKpiJSXZxgk/uV/xN8NgcdRrKdTFSml9lxppP/wABjfz0Z7NRRRXoHqBRRRQAUUUUAFeM/sH/APJENc/7LN8R/wD1Ndbr2avGf2D/APkiGuf9lm%2BI/wD6mut0AezUUUUAFFFFABRRRQAUUUUAFFFFABRRRQAUUUUAFFFFABRRRQAUUUUAFFFFABRRRQAUUUUAFFFFABRRRQAUUUUAFFFFABRRRQAV4z%2By/wD8lv8A2jv%2ByzWP/qFeF69mrxn9l/8A5Lf%2B0d/2Wax/9QrwvQB7NRRRQAUUUUAFFFFABRRRQAUUUUAFFFFABRRRQAUUUUAFFFFABRRRQB49/wAFBz45H7DnxYPw3/tP%2B2P%2BEC1P7P8A2Jv%2B3bPs7%2Bb9m8v5/P8AK8zy9nz79u35sV82fCLxL8PNO%2BGP7T3hr/gnJr/hqDw7qXhaZ/grYeBbq3WwuvEsXh3N4dJSE%2BW4SV9NMpgBVblpd%2BJTLX3pRQB8b/8ABMs/s%2BH4x%2BPf%2BGLTpH/Cp/8AhW/grzP%2BEc2/Yf8AhKt%2Bs/2l5mzj%2B0fsf9kfa9373d5PmfvN9eg3%2BpfFe7/4KbeC7Pxt4L8PafoVv8HvHA8NajpXiee8u79Dq3hLzGubaSyhS0IwmAk1wG3HJXaN30PXzh%2B0fq/xr0f9vD4Tz/A74f8AhbxFqTfCPx2t3aeK/GFzosEcH9qeEiXSW30%2B9Z33bRsMajBJ35AUgH0fRXjP/Ccf8FC/%2BjX/AIM/%2BH41b/5l6P8AhOP%2BChf/AEa/8Gf/AA/Grf8AzL0AezUV4z/wnH/BQv8A6Nf%2BDP8A4fjVv/mXo/4Tj/goX/0a/wDBn/w/Grf/ADL0AezUV846T%2B0d%2B3brHxn1/wCB1v8AsofCRdU8O%2BF9I128uX%2BOuqeRJBqNzqVvCiEeGNxdW0ucsCoADx4LEsF6j/hOP%2BChf/Rr/wAGf/D8at/8y9AHs1FeM/8ACcf8FC/%2BjX/gz/4fjVv/AJl6P%2BE4/wCChf8A0a/8Gf8Aw/Grf/MvQB7NRXjP/Ccf8FC/%2BjX/AIM/%2BH41b/5l65fwD%2B0d%2B3b8RPFfjfwho/7KHwkhuPAfiiLQtVkufjrqgSeeTStP1MPFt8MElPJ1GFSWCnejjGAGYA%2BjqK8Z/wCE4/4KF/8ARr/wZ/8AD8at/wDMvR/wnH/BQv8A6Nf%2BDP8A4fjVv/mXoA9morxn/hOP%2BChf/Rr/AMGf/D8at/8AMvR/wnH/AAUL/wCjX/gz/wCH41b/AOZegD2aivnH4RftHft2/GXwpd%2BL/Dn7KHwktrez8Ua3oUkd78ddUVzPpeq3WmTuNvhhhsaa0kZDnJRlJCnKjqP%2BE4/4KF/9Gv8AwZ/8Pxq3/wAy9AHs1FeM/wDCcf8ABQv/AKNf%2BDP/AIfjVv8A5l6P%2BE4/4KF/9Gv/AAZ/8Pxq3/zL0AezUV4z/wAJx/wUL/6Nf%2BDP/h%2BNW/8AmXrl/gj%2B0d%2B3b8ePgx4Q%2BOPhX9lD4SWul%2BM/C%2Bn67pttqHx11RZ4YLu2juI0kCeGGUOFkAYKzDIOCRzQB9HUV4z/AMJx/wAFC/8Ao1/4M/8Ah%2BNW/wDmXo/4Tj/goX/0a/8ABn/w/Grf/MvQB7NRXjP/AAnH/BQv/o1/4M/%2BH41b/wCZeuX%2BN37R37dvwH%2BDHi/44%2BKv2UPhJdaX4M8L6hrupW2n/HXVGnmgtLaS4kSMP4YVS5WMhQzKMkZIHNAH0dRXjP8AwnH/AAUL/wCjX/gz/wCH41b/AOZej/hOP%2BChf/Rr/wAGf/D8at/8y9AHrWp%2BHtA1tdms6HZ3Yx0urZJP/Qga5zVP2ffgJref7a%2BCPhC8z1%2B1eGrWTP8A31Ga4j/hOP8AgoX/ANGv/Bn/AMPxq3/zL0f8Jx/wUL/6Nf8Agz/4fjVv/mXrOVKlP4op%2BqT/ADTOuhj8fhf4FacP8M5R/wDSZRNfUv2I/wBjDWMnVv2RvhjdE9TceAtOc/rDWDqP/BNn9gDU8/af2N/hyuf%2BffwnbQ/%2Bi0Fc98Xf2jv27fg14UtPF/iP9lD4SXNveeKNE0KOOy%2BOuqM4n1TVbXTIHO7wwo2LNdxs5zkIrEBjhT1H/Ccf8FC/%2BjX/AIM/%2BH41b/5l6wll%2BAn8VGD/AO3I/wDyJ61Hi/i7D/wsxxEfTEV1/wC5v0Od1D/gkz/wTi1LP2j9kbwouf8An3ili/8AQHFYt9/wRc/4Jjajn7R%2Byrpy5/54a9qcX/oFyK7z/hOP%2BChf/Rr/AMGf/D8at/8AMvR/wnH/AAUL/wCjX/gz/wCH41b/AOZesJZNlEt8PT/8Aj/kepS8SfEWh/DznFr0xNb/AOWM8yP/AAQ9/wCCZ0TF9L%2BAN7YMe9n441lf53Zo/wCHKv7DkH/IJ07xxYen2P4iamuP%2B%2BpjXpv/AAnH/BQv/o1/4M/%2BH41b/wCZeuX8fftHft2/DvxX4I8Iax%2Byh8JJrjx54ol0LSpLb466oUgnj0rUNTLy7vDAITydOmUFQx3ugxgllz/sLJemGgvSKX5WOv8A4iv4nP4s6xL/AMVacv8A0rmOa/4c2/szQcaX8V/jDY%2Bn2T4nXgx%2BZNH/AA6D%2BFUP/IN/a1/aFsvT7L8WJxj84zXpv/Ccf8FC/wDo1/4M/wDh%2BNW/%2BZej/hOP%2BChf/Rr/AMGf/D8at/8AMvR/YWT/APPlf%2BTL8pIP%2BIq%2BIr3zOo/VUpf%2BlUJHmP8Aw6X0iH/kHf8ABQr9qa09BbfGBhj87c1T%2BCv7Kl3%2BzH/wUL8FrcftMfFT4irrXwZ8ZbB8TfFQ1Q6f5OreFc/Zz5aeX5nmjf13eVH0xXrX/Ccf8FC/%2BjX/AIM/%2BH41b/5l6oeB/A/7VnjH9qzw58bvjd8OPh74Z0bwz8PfEOhww%2BFfiHfa1dXd1qV9olwjMlxpFikUaJpcoLB3YtKgC4yRtQyrL8NVVSlC0l5z/Jza/A8/NOPuL87wM8HjsV7SnO106dBXs0170MNTmtUtprs7q6futFFFegfHhRRRQAUV8Pf8FUz8Dh8UNL/4ayOnjwb/AMKV8Yf8IR/a%2BPL/AOEu83Tvs/2PPP8AbHkb/sXl/wCk/wDHz5HO%2Bof2k/EvwV8S23wFl/4KEa/4V1D4d2fg/XrP4jt4luoJdJg8cRWWnLBDdcmNbpE/tsRIcOs2AgEvl0Afc9eM/sH/APJENc/7LN8R/wD1Ndbpv7I138f7L/gn58LLzxRoKap8Sk%2BFOgnV9P8AGOry2DT6p/Z8HnreXCW9w8Unmb/MYQyHfn5a8l/Ym8Z/t4QfBvWU0D9m74R3MB%2BLnxAaSS8%2BNmqQOJz4w1gzIFXw3ICiyl0R9wLoquUjLGNQD7Corxn/AITj/goX/wBGv/Bn/wAPxq3/AMy9H/Ccf8FC/wDo1/4M/wDh%2BNW/%2BZegD2aivGf%2BE4/4KF/9Gv8AwZ/8Pxq3/wAy9H/Ccf8ABQv/AKNf%2BDP/AIfjVv8A5l6APZqK8Z/4Tj/goX/0a/8ABn/w/Grf/MvR/wAJx/wUL/6Nf%2BDP/h%2BNW/8AmXoA9mor5x%2BLv7R37dvwa8KWni/xH%2Byh8JLm3vPFGiaFHHZfHXVGcT6pqtrpkDnd4YUbFmu42c5yEViAxwp6j/hOP%2BChf/Rr/wAGf/D8at/8y9AHs1FeM/8ACcf8FC/%2BjX/gz/4fjVv/AJl6P%2BE4/wCChf8A0a/8Gf8Aw/Grf/MvQB7NRXjP/Ccf8FC/%2BjX/AIM/%2BH41b/5l6P8AhOP%2BChf/AEa/8Gf/AA/Grf8AzL0AezUV4z/wnH/BQv8A6Nf%2BDP8A4fjVv/mXo/4Tj/goX/0a/wDBn/w/Grf/ADL0AezUV846T%2B0d%2B3brHxn1/wCB1v8AsofCRdU8O%2BF9I128uX%2BOuqeRJBqNzqVvCiEeGNxdW0ucsCoADx4LEsF6j/hOP%2BChf/Rr/wAGf/D8at/8y9AHs1FeM/8ACcf8FC/%2BjX/gz/4fjVv/AJl6P%2BE4/wCChf8A0a/8Gf8Aw/Grf/MvQB7NRXjP/Ccf8FC/%2BjX/AIM/%2BH41b/5l6P8AhOP%2BChf/AEa/8Gf/AA/Grf8AzL0AezUV4z/wnH/BQv8A6Nf%2BDP8A4fjVv/mXo/4Tj/goX/0a/wDBn/w/Grf/ADL0AezUV84/BH9o79u348fBjwh8cfCv7KHwktdL8Z%2BF9P13TbbUPjrqizwwXdtHcRpIE8MMocLIAwVmGQcEjmuo/wCE4/4KF/8ARr/wZ/8AD8at/wDMvQB7NRXjP/Ccf8FC/wDo1/4M/wDh%2BNW/%2BZej/hOP%2BChf/Rr/AMGf/D8at/8AMvQB7NRXjP8AwnH/AAUL/wCjX/gz/wCH41b/AOZej/hOP%2BChf/Rr/wAGf/D8at/8y9AHs1FeM/8ACcf8FC/%2BjX/gz/4fjVv/AJl65fx9%2B0d%2B3b8O/FfgjwhrH7KHwkmuPHniiXQtKktvjrqhSCePStQ1MvLu8MAhPJ06ZQVDHe6DGCWUA%2BjqK8Z/4Tj/AIKF/wDRr/wZ/wDD8at/8y9H/Ccf8FC/%2BjX/AIM/%2BH41b/5l6APZqK8Z/wCE4/4KF/8ARr/wZ/8AD8at/wDMvR/wnH/BQv8A6Nf%2BDP8A4fjVv/mXoA9morxn/hOP%2BChf/Rr/AMGf/D8at/8AMvR/wnH/AAUL/wCjX/gz/wCH41b/AOZegD2avGf2X/8Akt/7R3/ZZrH/ANQrwvR/wnH/AAUL/wCjX/gz/wCH41b/AOZesP8AYZ1D4k6n8Qv2hrz4t%2BE9D0TXW%2BNNp9r07w54hm1S0jUeDPDAQpczWlo7krtJBhXaSQCwG4gH0FRRRQAUUUUAFFFFABRRRQAUUUUAFFFFABRRRQAUUUUAFFFFABRRRQAUUUUAFfK/7T37Wnxc%2BGHxj8Wa14B8O%2BD5PDHwf8P%2BH73xqda0i4m1XVLfV7%2BVLmCwuI7iNLLyLazjuMyRTi5kKRkQ%2BX5p%2BqK8Z%2BM/7EPw4%2BN3xSPxM1zxz4q0uLUbXSLXxf4a0a6tU07xTBpd7Je2MV8stvJMFjmmlz9nlgMschimMsYVAAezUUUUAFFFFAHzH4c/aV%2BJkP7f/ij4P/EbWPD3hPw2viC00TwZFqPwi1lLrxjANAg1HEHiNrtdOaWO7udQAtBC8nl2kwCgs0i/TleV%2BLP2WoPH/wAZNI%2BKfj343%2BNdX0rw9rsetaB4AuDpkWjWOoR27wRzhobJL2XZ5kkipNdSRiR92z5EC%2BqUAFFFFAHi/wDwUF%2BLvxw/Z%2B/ZH8afHr4BXvhSPWPBOhXeuXUHjDRbm%2Btru0tbaWZ7dEtrq2ZJXZEUSFyqAsSj8CvP/Hn7Wnxc8F/HjxbqfhTw74Qi%2BHnhD4x%2BEfh94ys5tIuDreq6rrsGipHqEN2lwsMccH9uaTGYpLeV5EhnxLHtQV7D%2B1j%2BzjZftafAjXv2fda%2BKvinwjpPieylsdcv/CC6d9rubKWJ4prbdf2l1GiOr8siLICo2uvOeLg/YB8HT/EWz%2BIvir44%2BPtdY6zpOueJtG1CXSorHxPrmmJGljq17HbWETLcRCC0wts0EDGxti8TGPJAPe6KKKACvF/2yfi78cPgla%2BAfGPwsvfCn9jah8TPDnh7xfY%2BINFubm6ubXVdZsdNBs5YbqFLaSNbmWTfIk6koi7OSa9oryr9q79lt/2qvDeheF5/j7438DW%2BheJLDXUbwXDo7Pd3tjeQXlm0p1LT7wbYri3jcLGEDcrJvU7QAecfs8/tK/EzW/2qvFvwR%2BKGr%2BHvCenQ%2BKdbt/BPhKT4Razplzr1tC6Sm/t9auLv7BqDsZJpZYraAvyXYrhifpyvJdJ/ZRD/ABk0X4y/Ef8AaA8d%2BNZvC93eXfhPQvEI0mGw0e6ubeS1kuIlsNPtpZX%2BzzTwr58kqos77QCQR61QAUUUUAeH/t3fFz48fs/fBrV/jr8KPGPgWx0/wtotzeXui%2BLPDN7f3PiG9yi2emWcltewfZ5riUi3RvKumaWeILCx%2BVvP/gj%2B198Z9c%2BJfgr%2B1vBnhLSPhp43%2BJ/ij4beFfDWnaXNHq%2BiX%2BgQ6tvnnuRcNbzQSN4f1NFhjt4jGrWx8yTLAen/ALSv7IMH7SXjzwR8QJv2gfHfhC58A3dze6LY%2BGItGns5L2VBGt5NBqenXiPPDH5iwyAKYxPKR8zZFXwH%2Bw18PfAfxlt/i7D8RfF2pQadrup69onhDUrmy/snStb1GN49Q1SBIrVJ/PnE92WV5nhRr65McUfmcAHtdFFFABXy/wDtc/Hj9pf4LfETT/CmlQ%2BAPGuj%2BOYdattF%2BHMXg%2B%2Bk1hLW00O6u5L%2B4nF68V1bC6it7aSEWsQP2%2BFBMZGRJPqCvDpv2JriP9o/xX%2B01on7VfxL07V/Fumw6dc6XDB4fntNPs4YGjhtrNrnSZbm3iWV3utizbXncu4cHbQAz9hD9oPxv8e/h7eXXxX8faNfeLtOFm2v%2BG7L4Xav4RvNAee2WUQXNlq91PcOC2/y7gBI5FQ7Q20mvdK83%2BB37N2nfBnxP4k%2BIesfFLxT448VeK4rG31jxP4uawW5e0sxN9ltUi0%2B1tbaOKNrm5cbYQzNcSFmbIx6RQAUUUUAfHP/AAUE/bj%2BKn7GHjn%2B09c0XQPGPhF9G1HW7fwrL8OdTspbdNN0a%2B1JJP8AhIprp9Mnu/temjZYrAl0I5llA2wtI3r37NHxd%2BOerfFTxv8As9ftHXPhTUPE/hHSdD1qPWvBWkXNhY3NjqgvI0iMFzc3LrLFcaddqX83EiGJtkZJUVvjr%2Bwl4I/ac1q6tfj/APFvxr4o8F3MlxIvwyvJNNh0WKSaxmsmbfb2Ud9IBHcTMElunQO%2B7b8iBen/AGfP2ZtI%2BAd5r3iK7%2BKHizxx4j8SGzj1bxV41uLN76W2tIjFa2o%2Bx21vCsUQeVhiPezzyu7Ozk0AelUUUUAFfEf7U/7ZX7Wfwb%2BNXiD4UeDvDfhzxrqdhotxrvhgJ8D/ABBHJooGo6ZaoYW%2B3OPE0gsdUuPO/svynhaErKIxMI6%2B3K8P179i3U/Evj0/E7Wv2ufijNrenwXkXg28KaAB4VW6mhkn%2ByRjSdk7NHAtvuvVumWJnClXdnIB1X7LHxYf4yfCODxZe/EzRvFV/DqN1ZapfaN4MvvDotriKVla1m03ULie6s54xhXjmcPn5tqhgK9GrhvgH8BfD3wA8M6no2leKdb8Qajr%2BvXGt%2BJPEniOaBr3Vb%2BYIjTyi3ihgTEcUMSpDFHGqRIAowSe5oAKKKKACiiigAooooAKKKKAPl39pr9sb42/Cv4p%2BMX%2BHmmeFm8G/CbRfDep%2BO7bWdNuZtR1iPVL64imjsZo7mOO0a2tbfzw0kVwJ5JRFiEKZDH%2B2B%2B1b8YPgB4h8cWPwI8N%2BD4tH%2BEnwml%2BJvj601vSZ5ZtbtprnUH%2Bw2LwXEKWlxIumajI1zKs6%2BY8OYjudh6B8Z/2Ifhx8bvikfiZrnjnxVpcWo2ukWvi/wANaNdWqad4pg0u9kvbGK%2BWW3kmCxzTS5%2BzywGWOQxTGWMKgpfG79g3wN8friO68c/F3xvG9/4Wfwx43/s2fToV8ZaG8xmOnaiv2IqIsvOu61FtKEuZ1EmJGoA9wgniuYEuYWykiBkOMZBGRT6KKACiiigAqj4o8Q2HhLw1qPivVQ5tdMsZru5ES5by40LtgdzhTV6o7u0tb%2B1lsb23SaGaNo5opVDK6kYKkHggjjFAHzT%2ByJ%2B0n8a/jT4p0TwZ%2B0n4e8GTDxr8LdK%2BI3hSHw3pVxENKjkuEL6fcm4uJhdTW7yWTpeRiASMXIgi8tS3RfBz4zftBf8ADV%2Bs/s3/ABb8QeB/E8Nn4ITxDdaj4J8OXmnN4cllvPJtrC8%2B0Xt0Lh7iMTyRSL5BxZSkxAOhFn9n/wDYX8Ifs56xa614T%2BMvjrVJNM0XT9A0NPEFzp1wNM8P2RmMGjQlbJGNvumBaaQveSeRCHuWEYFWf2Wv2OV/ZZ1jxFqem/tHfEDxjF4p1W71XWLTxnDojmfULiRGa7e4s9MtrmV1RFgjWSZ444ESJUCxxhAD2aiiigAooooAK8i/ai%2BLnxX8HeJfh58IPgbc%2BHrHxP8AEPxLdWMWt%2BKtIn1Cx0u0tdNur6aZrWC5tpLh2MEUKoJ4wPPMhYiPY/rtef8Ax%2B/Z80j49Wfh%2B5Hj/wAReEde8J64dW8M%2BK/CjWn27TrhrWe0l2re29xbypJb3M8bJLC6/OGADojqAeceFP2ur/XP2R/Dn7Qdv8PNMb4k%2BNVj8N6T4btpD5eoeIYp7m3%2ByrNjzDZRTR3lw0hBaK1jnm25Vge2/Ym%2BMnjT9of9kX4cfHL4jWulw694r8H2Op6xFoltJDZrcyxK0ghjlkldI9xO1WkcgYBY9ao6R%2Bwt%2BzX/AMKe0f4AfEf4b6T8QfBvh0WraB4f%2BImg2Grw2E8MDQtdKZrcs9xL5k0kk0hdy88u0qrba3/2W/2Z/hR%2Bx78BfDf7OXwU0RLHw74YsFtrJfs0EUk5yS883kRxxtNIxLu4RdzMSRk0AegUUUUAFFFFABXy7qX7Y3xttf2gLuWDTPC3/CsdP%2BM1n8NLmwfTbk63LeXGmwTjU1uvtPkLEt5cxW32U25Yxq8/ng4hr6irxHxF%2Bwp4B17403fxktvih4y01LzxEviWTwnY3FgdJXxCmmjTYtYCTWjzGeO3WIrE0ptTLCkzQNIC5AOD8T/ts/8ACOftkTfst%2BFvGPhXwX4Y8FXvh3R9WTVvh5quoC/u9SVHt7KK%2BtJobHRFaOS2gt3uvN%2B0TytHHGPKAk%2Bqq8T%2BIf7DHw/%2BJXxJHxB1r4keLre3v7zQr3xb4asJ7GPT/FF5o9wlxYXN7m0M6ukkcO4W0sCSrCiSK6Ltr2ygAooooAKKKKAPMP2tvjJ4y%2BDHwwsL74a2emS%2BJfEnjDRfDWgSa3BJLZWtxqF/DbG6njikjeWOGOSSbylkjMpiEYePfvXynX/2t/iroX7HnxI%2BLninwh4W1X4g/CHxZqOizz2umzJps1zDKkSajb2rzvOC1leJIbNJ2md2kto5XLq7e5/Hj4JeGv2gfh1L8O/E2sanpe3UrHU9L1rRJo473S9QsrqK7tLuBpY5I98c8MbbZEeNwCjo6MyngI/2DvAMnwW1j4I6v8VfGt/aa9qf9tanrVzc2CajLr41NdTTWhLFaIq3SXMcBSMILVEtoo1twilSAH7CH7Rvj39pDwH4t1X4h/2fLd%2BGPHVzoVvf2fhO/wDD0t7DHaWlwJbjR9SllvdKlDXLp5Fw2%2BSOOK4UCO4jFe41wHwC/Z90b4CWfiOeLx14g8Va34w8Rf234p8T%2BKHtftmo3gtLayjZks7e3t4lS1s7aFUihRcRbiC7Ozd/QAUUUUAFFFFAHi/xu%2BLvxw%2BG37VXwb8FaFe%2BFJPAfxC12/0PWrK70W5fV47uHRNV1NLiC6W6WGOLNhDGY2t5GbzHIdMCuH/bE/ah%2BM3wR8ZeMrP4AeHPByp4A%2BFNx8SvHo8RaVPNNr8MbSwwafbSQXEItp5IdOulN3KLhY9luvkupJX0X48/so3Xx1%2BLXgL4tD9o7x74Tk%2BHeqvqejaL4Yt9EayuLuS1urOWWf7dptzM2%2B1vJ4CqSooVgyhZFEgyPjp%2Bwj4K/aDaKbxt8YPHFtNd%2BF7vwx4vn0i406BvFehXMwlk0y%2BH2IqsX30WS2FvOiTShZR5jkgHtWk6na63pVrrNizGC7t0mhLLglHUMMjtwasU2OOOGNYYY1REUBVUYAA6ACnUAFFFFABRRRQAUUUUAFFFFABRRRQAUUUUAFFFFABRRRQAUUUUAFFFFABRRRQAUUUUAFFFFABRRRQAUUUUAFFFFABRRRQAUUUUAFFFFABRRRQAUUUUAFFFFABRRRQAUUUUAFFFFABRRRQAUUUUAFFFFABRRRQAUUUUAFFFFABRRRQAUUUUAFFFFABRRRQAUUUUAFFFFABRRRQAUUUUAFFFFABRRRQAUUUUAFFFFABRRRQAUUUUAFFFFABRRRQAUUUUAFFFFABRRRQAUUUUAFFFFABRRRQAUUUUAFFFFABRRRQAUUUUAFFFFAH/2Q%3D%3D\">"
            ]
          },
          "metadata": {
            "tags": []
          }
        }
      ]
    },
    {
      "cell_type": "code",
      "metadata": {
        "id": "22ao4iUWhItJ"
      },
      "source": [],
      "execution_count": null,
      "outputs": []
    }
  ]
}